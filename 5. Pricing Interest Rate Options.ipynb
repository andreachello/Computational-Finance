{
 "cells": [
  {
   "cell_type": "markdown",
   "metadata": {},
   "source": [
    "# Pricing Interst Rate Options"
   ]
  },
  {
   "cell_type": "markdown",
   "metadata": {},
   "source": [
    "# 1. Short Rate Models\n",
    "\n",
    "We will relax the assumption of contant risk-free continuously compounded interest rates and will model our interest rates using **stochastic differential equations**\n",
    "\n",
    "**Short Rate Models** explain the instantaneous continuously-compounded interest rate at time t, $r_t$\n",
    "\n",
    "**Meaning:**\n",
    "\n",
    "- An investment will grow approx. over a **very short period t**.\n",
    "\n",
    "$$Xe^{r_{t \\Delta t}}$$\n",
    "\n",
    "\n",
    "- Over a period from $[0, t]$ it will grow:\n",
    "\n",
    "$$Xe^{\\int_0^t r_s ds}$$\n",
    "\n",
    "\n",
    "- The Present Value of an asset will be equal to:\n",
    "\n",
    "$$Xe^{-\\int_0^t r_s ds}$$"
   ]
  },
  {
   "cell_type": "markdown",
   "metadata": {},
   "source": [
    "## Vasicek Model\n",
    "\n",
    "The Vasicek model specifies a stochastic differential equation for the short rate $r_t$ as:\n",
    "\n",
    "$$ dr_t = \\alpha(b-r_t)dt + \\sigma dW_t, r_0=r(0) $$"
   ]
  },
  {
   "cell_type": "markdown",
   "metadata": {},
   "source": [
    "Where, $r(0)$ is the short rate at time 0 and $\\alpha, b, \\sigma$ are positive constants.\n",
    "\n",
    "\n",
    "- $b$ is the level to whcih the short rate will tend in the long run (mean-level)\n",
    "\n",
    "\n",
    "- $\\alpha$ is the rate at which the short rate will tend towards b \n",
    "\n",
    "\n",
    "- $\\sigma$ is the volatility of the short rate"
   ]
  },
  {
   "cell_type": "markdown",
   "metadata": {},
   "source": [
    "The solution to the SDE is: \n",
    "\n",
    "$$ r_t = r(0)e^{-\\alpha t} + b(1-e^{- \\alpha t}) + \\sigma e^{- \\alpha t} \\int_0^t e^{\\alpha s } dW_s $$"
   ]
  },
  {
   "cell_type": "markdown",
   "metadata": {},
   "source": [
    "This means that $r_t$ is **normally distributed**:\n",
    "\n",
    "$$ r_t \\sim N(r(0)e^{-\\alpha t} + b(1-e^{- \\alpha t}), \\frac{\\sigma^2}{2 \\alpha}(1 - e^{- 2\\alpha t})) $$\n",
    "\n",
    "- **Mean:** $r(0)e^{-\\alpha t} + b(1-e^{- \\alpha t})$\n",
    "\n",
    "\n",
    "- **Variance:** $\\frac{\\sigma^2}{2 \\alpha}(1 - e^{- 2\\alpha t})$"
   ]
  },
  {
   "cell_type": "markdown",
   "metadata": {},
   "source": [
    "**N.B.** as $t \\rightarrow \\infty$\n",
    "\n",
    "\n",
    "- $mean(r_t) \\rightarrow b$\n",
    "\n",
    "\n",
    "- $var(r_t) \\rightarrow \\frac{\\sigma^2}{2 \\alpha}$"
   ]
  },
  {
   "cell_type": "markdown",
   "metadata": {},
   "source": [
    "### Modelling a Path for the Short Rate\n",
    "\n",
    "if we know the value of $r_{t_1}$ and $t_2 > t_1, r_{t_2}$ is normally distributed with:\n",
    "\n",
    "- Mean: $r_{t_1}e^{- \\alpha(t_2 - t_1)} + b(1-e^{- \\alpha(t_2 - t_1)})$\n",
    "\n",
    "\n",
    "\n",
    "- Variance: $\\frac{\\sigma^2}{2 \\alpha}(1 - e^{- \\alpha(t_2 - t_1)})$\n",
    "\n",
    "We can treadt $t_1$ as a new starting point for our modelling, given the independence of increments of Brownian Motion"
   ]
  },
  {
   "cell_type": "code",
   "execution_count": 1,
   "metadata": {},
   "outputs": [],
   "source": [
    "import numpy as np\n",
    "from scipy.stats import norm\n",
    "import matplotlib.pyplot as plt\n",
    "import random"
   ]
  },
  {
   "cell_type": "code",
   "execution_count": 2,
   "metadata": {},
   "outputs": [],
   "source": [
    "# parameters\n",
    "\n",
    "r0 = 0.05\n",
    "alpha = 0.2\n",
    "b = 0.08\n",
    "sigma = 0.025"
   ]
  },
  {
   "cell_type": "code",
   "execution_count": 3,
   "metadata": {},
   "outputs": [],
   "source": [
    "def vasi_mean(r, t1, t2):\n",
    "    \"\"\"\n",
    "    Gives the mean under the Vasicek Model. Note that t2 > t1. r is the\n",
    "    interest rate from the beginning of the period.\n",
    "    \"\"\"\n",
    "    return np.exp(-alpha*(t2-t1))*r+b*(1-np.exp(-alpha*(t2-t1)))\n",
    "\n",
    "def vasi_var(t1,t2):\n",
    "    \"\"\"\n",
    "    Returns the variance under the Vasicek model with t2>t1\n",
    "    \"\"\"\n",
    "    return (sigma**2)*(1-np.exp(-2*alpha*(t2-t1)))/(2*alpha)"
   ]
  },
  {
   "cell_type": "markdown",
   "metadata": {},
   "source": [
    "##### Simulating Interest Rate Paths (on an annual basis)"
   ]
  },
  {
   "cell_type": "markdown",
   "metadata": {},
   "source": [
    "We create 10 simulations of possible short term interest rate paths over a period of 10 years. If done on a monthly basis can make the array t include fractional values.\n",
    "\n",
    "The simulated short rates, in terms of paths are of the form:\n",
    "\n",
    "$$ r_{i+1} = r_i e^{- \\alpha(t_{i+1} - t_i)} + b(1 - e^{\\alpha (t_{i+1} - t_i)}) + \\sqrt{\\frac{\\sigma^2}{2 \\alpha}(1 - e^{-2 \\alpha(t_{i+1} - t_i)})}Z_i $$"
   ]
  },
  {
   "cell_type": "markdown",
   "metadata": {},
   "source": [
    "The `s_mean` array contains the expected value of the short rate at each point in time"
   ]
  },
  {
   "cell_type": "code",
   "execution_count": 8,
   "metadata": {},
   "outputs": [],
   "source": [
    "np.random.seed(0)\n",
    "\n",
    "n_years = 10\n",
    "n_simulations = 10\n",
    "\n",
    "t = np.array(range(0,n_years+1))\n",
    "\n",
    "# standard nromal for each year and each simulation\n",
    "Z = norm.rvs(size=[n_simulations, n_years])\n",
    "\n",
    "# this array stores the paths\n",
    "r_sim = np.zeros([n_simulations, n_years+1])\n",
    "\n",
    "# set the first column (initial value of each simulation) to r(0)\n",
    "r_sim[:,0] = r0\n",
    "\n",
    "vasi_mean_vector = np.zeros(n_years+1)\n",
    "\n",
    "for i in range(n_years):\n",
    "    # interest rate paths\n",
    "    r_sim[:, i+1] = vasi_mean(r_sim[:,i], t[i], t[i+1]) + np.sqrt(vasi_var(t[i], t[i+1]))*Z[:,i]\n",
    "    \n",
    "s_mean = r0*np.exp(-alpha*t) + b*(1-np.exp(-alpha*t))\n",
    "    "
   ]
  },
  {
   "cell_type": "code",
   "execution_count": 13,
   "metadata": {},
   "outputs": [
    {
     "data": {
      "image/png": "[encoded data removed]",
      "text/plain": [
       "<Figure size 1080x360 with 1 Axes>"
      ]
     },
     "metadata": {
      "needs_background": "light"
     },
     "output_type": "display_data"
    }
   ],
   "source": [
    "# Plotting the results\n",
    "plt.figure(figsize=(15,5))\n",
    "t_graph = np.ones(r_sim.shape)*t\n",
    "plt.plot(np.transpose(t_graph), np.transpose(r_sim*100), \"r\")\n",
    "plt.plot(t,s_mean*100)\n",
    "plt.xlabel(\"Year\")\n",
    "plt.ylabel(\"Short Rate\")\n",
    "plt.show()"
   ]
  },
  {
   "cell_type": "markdown",
   "metadata": {},
   "source": [
    "**N.B.** the short rate can become negative (this is an unfavorable property in many interst rate modeling problems)."
   ]
  },
  {
   "cell_type": "markdown",
   "metadata": {},
   "source": [
    "## Hull-White Model"
   ]
  },
  {
   "cell_type": "markdown",
   "metadata": {},
   "source": [
    "Specifies a SDE for the short rate as follows:\n",
    "\n",
    "$$ dr_t = (\\theta(t) - \\alpha(t)r_t)dt + \\sigma(t)dW_t. r_0 = r(0) $$\n",
    "\n",
    "Where $\\theta(t), \\alpha(t), \\sigma(t)$ can be time dependent."
   ]
  },
  {
   "cell_type": "markdown",
   "metadata": {},
   "source": [
    "Therefore we can see that the Vasicek Model is a **special case** of the Hull-White model where:\n",
    "\n",
    "- $\\theta(t) = \\alpha b$\n",
    "\n",
    "- $\\alpha(t) = \\alpha$\n",
    "\n",
    "- $\\sigma(t) = \\sigma$\n",
    "\n",
    "**Mean-Reversion Varying over Time:**\n",
    "\n",
    "In practice, the Hull-White model is often implemented with only $\\theta(t)$ being non-constant, which means that the mean reversion level is allowed to vary over time and the model can be better calibrated to prices or rates seen in the market.\n"
   ]
  },
  {
   "cell_type": "markdown",
   "metadata": {},
   "source": [
    "## Cox-Ingersoll-Ross Model (CIR)\n",
    "\n",
    "Also suggests an SDE for short term rates:\n",
    "\n",
    "$$ dr_t = \\alpha(b-r_t)dt + \\sigma \\sqrt{r_t} dW_t, r_0 = r(0) $$"
   ]
  },
  {
   "cell_type": "markdown",
   "metadata": {},
   "source": [
    "- $b$ is the mean level for the short term rate\n",
    "\n",
    "\n",
    "\n",
    "- $\\alpha$ is the rate of mean reversion\n",
    "\n",
    "\n",
    "\n",
    "- If $2ab \\geq \\sigma^2$ and $r(0) > 0$ then $r_t$ will **never become negative** (Feller Condition)\n",
    "\n",
    "\n",
    "as $r_t \\rightarrow 0$:\n",
    "\n",
    "- The volatility of the short term rate becomes close to 0\n",
    "\n",
    "\n",
    "- Then the **upward drift** to the mean will exceed the **downward movement** of the volatility\n"
   ]
  },
  {
   "cell_type": "markdown",
   "metadata": {},
   "source": [
    "**Disadvantage:** The CIR Model does **not** have a closed-form solution, but it can be simulated directly, since its conditional distribution is known."
   ]
  },
  {
   "cell_type": "markdown",
   "metadata": {},
   "source": [
    "## Non-Constant Interest Rate Pricing"
   ]
  },
  {
   "cell_type": "markdown",
   "metadata": {},
   "source": [
    "Suppose we want to price a derivative on some underlying process given by $X_t$. If the derivative has a maturity of T and a payoff function $\\phi(.)$, the price of the option at time 0 is given by:\n",
    "\n",
    "$$ P = E^Q[ e^{-\\int_0^T r_t dt} \\phi(X_T)] $$\n",
    "\n",
    "Where Q is the risk-neutral measure.\n",
    "\n",
    "**N.B.** The underlying process can be something related to interest rates, such that this formula is how one would price interest rate derivates (Interest Rate Swaps)."
   ]
  },
  {
   "cell_type": "markdown",
   "metadata": {},
   "source": [
    "# 2. Applications of Short Rates"
   ]
  },
  {
   "cell_type": "markdown",
   "metadata": {},
   "source": [
    "## Price of a Zero-Coupon Bond\n",
    "\n",
    "This is equivalent to finding the average discount factor. The price of a ZCB at time $t$ with maturity $T$ is given by:\n",
    "\n",
    "$$ B(t,T) = E[e^{-\\int_t^Tr_s ds}] $$\n",
    "\n",
    "Where the expectation is taken under the risk-neutral measure."
   ]
  },
  {
   "cell_type": "markdown",
   "metadata": {},
   "source": [
    "#### Applying the Vasicek Model to Price ZCBs\n",
    "\n",
    "$$ dr_t = \\alpha(b-r_t)dt + \\sigma dW_t, r_0=r(0) $$\n",
    "\n",
    "Under this model, the above expectation is given by:\n",
    "\n",
    "$$ B(t,T) = e^{-A(t,T)r_t + D(t,T)} $$"
   ]
  },
  {
   "cell_type": "markdown",
   "metadata": {},
   "source": [
    "Where,\n",
    "\n",
    "$$A(t,T) = \\frac{1-e^{-\\alpha(T-t)}}{\\alpha} $$\n",
    "\n",
    "$$D(t,T) = (b - \\frac{\\sigma^2}{2 \\alpha^2})[A(t,T) - (T-t)] - \\frac{\\sigma^2 A(t,T)^2}{4 \\alpha}$$\n",
    "\n",
    "In this way we have a closed-form solution for our bond prices in the Vasicek Model"
   ]
  },
  {
   "cell_type": "code",
   "execution_count": 14,
   "metadata": {},
   "outputs": [],
   "source": [
    "import numpy as np\n",
    "from scipy.stats import norm\n",
    "import matplotlib.pyplot as plt\n",
    "import random"
   ]
  },
  {
   "cell_type": "code",
   "execution_count": 15,
   "metadata": {},
   "outputs": [],
   "source": [
    "# Parameters\n",
    "r0 = 0.05\n",
    "alpha = 0.2\n",
    "b = 0.08\n",
    "sigma = 0.025"
   ]
  },
  {
   "cell_type": "code",
   "execution_count": 16,
   "metadata": {},
   "outputs": [],
   "source": [
    "def vasi_mean(r, t1, t2):\n",
    "    \"\"\"\n",
    "    Gives the mean under the Vasicek Model. Note that t2 > t1. r is the\n",
    "    interest rate from the beginning of the period.\n",
    "    \"\"\"\n",
    "    return np.exp(-alpha*(t2-t1))*r+b*(1-np.exp(-alpha*(t2-t1)))\n",
    "\n",
    "def vasi_var(t1,t2):\n",
    "    \"\"\"\n",
    "    Returns the variance under the Vasicek model with t2>t1\n",
    "    \"\"\"\n",
    "    return (sigma**2)*(1-np.exp(-2*alpha*(t2-t1)))/(2*alpha)"
   ]
  },
  {
   "cell_type": "code",
   "execution_count": 17,
   "metadata": {},
   "outputs": [],
   "source": [
    "# Analytical Bond price\n",
    "def A(t1, t2):\n",
    "    return (1-np.exp(-alpha*(t2-t1)))/alpha\n",
    "\n",
    "def D(t1, t2):\n",
    "    val_1 = (t2-t1-A(t1,t2))*(sigma**2/(2*alpha**2)-b)\n",
    "    val_2 = sigma**2*A(t1,t2)**2/(4*alpha)\n",
    "    return val_1 - val_2\n",
    "\n",
    "def bond_price(r,t,T):\n",
    "    return np.exp(-A(t,T)*r + D(t,T))"
   ]
  },
  {
   "cell_type": "markdown",
   "metadata": {},
   "source": [
    "##### Joint Simulation\n",
    "\n",
    "In order to create estimates for our bond prices, we are going to be jointly simulating the short term rate, $r_t$ and a value $\\int_0^t r_s ds$ which we will denote as $Y_t$\n",
    "\n"
   ]
  },
  {
   "cell_type": "markdown",
   "metadata": {},
   "source": [
    "Since $r_t$ is Gaussian and $Y_t$ is an integral of Gaussians, they have a **Joint Gaussian Distribution**.\n",
    "\n",
    "Therefore, we can simulate them together once we have a vale for their means, variances and correlation."
   ]
  },
  {
   "cell_type": "markdown",
   "metadata": {},
   "source": [
    "##### Gaussian Distribution of r\n",
    "\n",
    "$$ r_t \\sim N(r(0)e^{-\\alpha t} + b(1-e^{- \\alpha t}), \\frac{\\sigma^2}{2 \\alpha}(1 - e^{- 2\\alpha t})) $$\n",
    "\n",
    "##### Gaussian Distribution of Y\n",
    "\n",
    "$$ Y_{t_2} \\sim N(Y_{t_1} + (t_2 - t_1)b + (r_{t_1} - b)A(t_1, t_2), \\frac{\\sigma^2}{\\alpha^2}(t_2 - t_1 - A(t_1, t_2) - \\alpha \\frac{A(t_1, t_2)^2}{2}) ) $$"
   ]
  },
  {
   "cell_type": "markdown",
   "metadata": {},
   "source": [
    "With $t_2 > t_1$"
   ]
  },
  {
   "cell_type": "markdown",
   "metadata": {},
   "source": [
    "Covariance($Y_{t_2}, r_{t_2}$) $ = \\frac{\\sigma^2  A(t_1, t_2)^2}{2}$"
   ]
  },
  {
   "cell_type": "markdown",
   "metadata": {},
   "source": [
    "Correlation($Y_{t_2}, r_{t_2}$) $ = \\frac{\\sigma^2  A(t_1, t_2)^2}{2 \\sigma(r_{t_2})\\sigma(Y_{t_2})}$\n",
    "\n",
    "Where sigma(Y) is the Standard Deviation"
   ]
  },
  {
   "cell_type": "code",
   "execution_count": 27,
   "metadata": {},
   "outputs": [],
   "source": [
    "# Functions for means, variance, and correlations\n",
    "\n",
    "## calculates the mean for Yt2 given Yt1 and rt1, where t1 < t2\n",
    "def Y_mean(Y, r, t1, t2):\n",
    "    return Y + (t2-t1)*b+(r-b)*A(t1,t2)\n",
    "\n",
    "## calculates the variance for Yt2\n",
    "def Y_var(t1,t2):\n",
    "    return sigma**2*(t2-t1-A(t1,t2)**2/2)/(alpha**2)\n",
    "\n",
    "## covariance bewteen yt2 and rt2\n",
    "def rY_var(t1, t2):\n",
    "    return sigma**2*2*(A(t1,t2)**2)/2\n",
    "   \n",
    "## correlation from the covariance\n",
    "def rY_rho(t1, t2):\n",
    "    return rY_var(t1,t2)/np.sqrt(vasi_var(t1,t2)*Y_var(t1,t2))"
   ]
  },
  {
   "cell_type": "markdown",
   "metadata": {},
   "source": [
    "We can therefore, simulate joint paths for $r_t$ and $Y_t$ by simulating standard normal random variales with this correlation and then transforming them into normal variables with appropriate means and variances."
   ]
  },
  {
   "cell_type": "markdown",
   "metadata": {},
   "source": [
    "If $Z_i \\sim N(0,1)$ for i = 1, 2 then $Z_1$ and $\\rho Z_1 + \\sqrt{1- \\rho ^2}Z_2$ have a correlation of $\\rho$. \n",
    "\n",
    "\n",
    "This is why we transform `Z_mont2` so that `Z_mont1` and `Z_mont2` have the correlation necessary to simulate $r_t$ using `Z_mont1` and $Y_t$ using `Z_monts`\n"
   ]
  },
  {
   "cell_type": "markdown",
   "metadata": {},
   "source": [
    "$$B(0,t) = E[e^{- \\int_0^t r_s ds}] = E[e^{-Y_t}]$$\n",
    "\n",
    "This is implemented at the end"
   ]
  },
  {
   "cell_type": "code",
   "execution_count": 31,
   "metadata": {},
   "outputs": [],
   "source": [
    "# Initial Y Value\n",
    "Y0 = 0\n",
    "\n",
    "np.random.seed(0)\n",
    "\n",
    "# number of years simulated and number of simulations\n",
    "n_years = 10\n",
    "n_simulations = 100000\n",
    "\n",
    "# array of number of years\n",
    "t = np.array(range(0,n_years+1))\n",
    "\n",
    "# standard normal for the two variables\n",
    "Z_mont1 = norm.rvs(size= [n_simulations, n_years])\n",
    "Z_mont2 = norm.rvs(size= [n_simulations, n_years])\n",
    "r_simtemp = np.zeros([n_simulations, n_years+1])\n",
    "Y_simtemp = np.zeros([n_simulations, n_years+1])\n",
    "\n",
    "# Set the first column (the initial value of each simulation) to r(0) and Y(0)\n",
    "r_simtemp[:,0] = r0\n",
    "Y_simtemp[:,0] = Y0\n",
    "\n",
    "# Creating correlated standard normals\n",
    "correlations = rY_rho(t[0:-1], t[1:]) # 0 to last, from t to all\n",
    "Z_mont2 = correlations*Z_mont1 + np.sqrt(1-correlations**2)*Z_mont2\n",
    "\n",
    "# run simulation\n",
    "for i in range(n_years):\n",
    "    # generate the rt and yt paths\n",
    "    r_simtemp[:, i+1] = vasi_mean(r_simtemp[:,i], t[i], t[i+1]) + np.sqrt(vasi_var(t[i], t[i+1]))*Z_mont1[:,i]\n",
    "    Y_simtemp[:, i+1] = Y_mean(Y_simtemp[:,i], r_simtemp[:,i], t[i], t[i+1]) + np.sqrt(Y_var(t[i], t[i+1]))*Z_mont2[:,i]\n",
    "\n",
    "# Estimate bond prices using Monte Carlo by taking the mean bond prices for each year over all simulations\n",
    "ZCB_prices = np.mean(np.exp(-Y_simtemp), axis=0)"
   ]
  },
  {
   "cell_type": "markdown",
   "metadata": {},
   "source": [
    "### Quadrature Approach of Estimating the Values\n",
    "\n",
    "An alternative to simulating the $Y_t$ values is to estimate them using only $r_t$ as follows:\n",
    "\n",
    "$$ y_t = \\int_0^t r_s ds \\approx \\Sigma_{i=0}^{n-1}r_{t_i}\\delta_i \\approx \\sum_{i=0}^{n=1} \\frac{r_{t_i} + r_{t_{i+1}}}{2}\\delta_i$$"
   ]
  },
  {
   "cell_type": "markdown",
   "metadata": {},
   "source": [
    "Where,\n",
    "\n",
    "- $0 = t_0 < t_1 < t_2 < ... < t_n = t$\n",
    "\n",
    "\n",
    "- $\\delta_i = t_{i+1}-t_i$\n"
   ]
  },
  {
   "cell_type": "markdown",
   "metadata": {},
   "source": [
    "This is an Example of a Quadrature, and we would expect the second approximation to be more accurate than the first this it has an O($\\delta^2$) error vs an O($\\delta$) error for the first. \n",
    "\n",
    "Simulating only the short rates uses **less computation time** than simulating the integrals and the short term rates."
   ]
  },
  {
   "cell_type": "code",
   "execution_count": 35,
   "metadata": {},
   "outputs": [],
   "source": [
    "# Y_t estimates using the approximations\n",
    "r_mat = np.cumsum(r_simtemp[:,0:-1], axis=1)*(t[1:] - t[0:-1])\n",
    "r_mat2 = np.cumsum(r_simtemp[:,0:-1] + r_simtemp[:,1:], axis=1)/2*(t[1:] - t[0:-1])\n",
    "\n",
    "# Bond Pirce Estimates\n",
    "## at time 0, bonds have a price of 1\n",
    "squad_prices = np.ones(n_years+1)\n",
    "trap_prices = np.ones(n_years+1)\n",
    "\n",
    "# find the means replacing Yt with r_mat\n",
    "squad_prices[1:] = np.mean(np.exp(-r_mat), axis=0)\n",
    "trap_prices[1:] = np.mean(np.exp(-r_mat2), axis=0)"
   ]
  },
  {
   "cell_type": "markdown",
   "metadata": {},
   "source": [
    "Find Closed-form bond prices and plot each one"
   ]
  },
  {
   "cell_type": "code",
   "execution_count": 45,
   "metadata": {},
   "outputs": [
    {
     "data": {
      "image/png": "[encoded data removed]",
      "text/plain": [
       "<Figure size 1080x360 with 1 Axes>"
      ]
     },
     "metadata": {
      "needs_background": "light"
     },
     "output_type": "display_data"
    }
   ],
   "source": [
    "# Closed-form bond prices\n",
    "bond_vec = bond_price(r0,0,t)\n",
    "\n",
    "# plotting bond prices\n",
    "plt.figure(figsize=(15,5))\n",
    "\n",
    "## Analytical Solution\n",
    "plt.plot(t,bond_vec)\n",
    "## Simulated Yt and rt\n",
    "plt.plot(t, ZCB_prices, \".\")\n",
    "# Simulated rt and estimated Yt\n",
    "plt.plot(t, squad_prices, \"x\")\n",
    "# Simulated rt and estimated Yt\n",
    "plt.plot(t, trap_prices, \"^\")\n",
    "plt.title(\"Bond Prices vs. Maturity\")\n",
    "plt.xlabel(\"Time to Maturity\")\n",
    "plt.ylabel(\"Bond Price\")\n",
    "plt.show()"
   ]
  },
  {
   "cell_type": "markdown",
   "metadata": {},
   "source": [
    "### Finding the Implied Yield\n",
    "\n",
    "for the given bond prices ($y_t$)\n",
    "\n",
    "$$ B(0,t) = e^{(-y_t)t} $$\n",
    "\n",
    "i.e. it is the constant interest rate which gives the correct bond price, which we get by solving for $y_t$:\n",
    "\n",
    "$$ y_t = - \\frac{\\ln(B(0,t))}{t} $$"
   ]
  },
  {
   "cell_type": "code",
   "execution_count": 37,
   "metadata": {},
   "outputs": [],
   "source": [
    "# Determining yields\n",
    "bond_yield = -np.log(bond_vec[1:])/t[1:]\n",
    "mont_yield = -np.log(ZCB_prices[1:])/t[1:]\n",
    "squad_yield = -np.log(squad_prices[1:])/t[1:]\n",
    "trap_yield = -np.log(trap_prices[1:])/t[1:]"
   ]
  },
  {
   "cell_type": "code",
   "execution_count": 50,
   "metadata": {},
   "outputs": [
    {
     "data": {
      "image/png": "[encoded data removed]",
      "text/plain": [
       "<Figure size 1080x360 with 1 Axes>"
      ]
     },
     "metadata": {
      "needs_background": "light"
     },
     "output_type": "display_data"
    }
   ],
   "source": [
    "# Plotting the yields\n",
    "plt.figure(figsize=(15,5))\n",
    "plt.plot(t[1:], bond_yield*100, label=\"Closed-Form\")\n",
    "plt.plot(t[1:], mont_yield*100, \".\", label=\"Joint Simulation\")\n",
    "plt.plot(t[1:], squad_yield*100, \"x\", label=\"Simple Quadrature\")\n",
    "plt.plot(t[1:], trap_yield*100, \"^\", label=\"Trapezoidal Quadrature\")\n",
    "plt.title(\"Yield Curve\")\n",
    "plt.xlabel(\"Time to Maturity\")\n",
    "plt.ylabel(\"Bond Yield\")\n",
    "plt.legend()\n",
    "plt.show()"
   ]
  },
  {
   "cell_type": "markdown",
   "metadata": {},
   "source": [
    "# 3. The LIBOR Model"
   ]
  },
  {
   "cell_type": "markdown",
   "metadata": {},
   "source": [
    "## The LIBOR Forward Market Model (LFMM)\n",
    "\n",
    "Is seen as the benchmark interest rate model (as the BS is for equity option pricing).\n",
    "\n",
    "**Market Models** attempt to model financial instruments that are actually traded in the market instead of focusing on an idealization of a financial variable (such as the short rate) which drives the market.\n",
    "\n",
    "**The LFMM results in the analytical Black-Scholes Price for Market Caps**\n",
    "\n",
    "The model can be calibrated easier using observable market instruments.\n",
    "\n",
    "(There aremany ways to make the model complex, like introducing stochastic volatility)"
   ]
  },
  {
   "cell_type": "markdown",
   "metadata": {},
   "source": [
    "### The Problem with Continuous Rates\n",
    "\n",
    "They are not directly observable in the market. The LFMM instead is a market model, and it consistently models simple rates which are directly observable in markets.\n",
    "\n",
    "#### Simple Rates\n",
    "\n",
    "Is just an interest rate where there is **no compounding** on the interest earned\n",
    "\n",
    "$$(1 + rT)$$\n",
    "\n",
    "Therefore, the LFMM models the **simple forward rates in the market**\n",
    "\n",
    "#### Forward Rates\n",
    "\n",
    "A forward rate is an interest rate relevant to a future period that you can agree on today."
   ]
  },
  {
   "cell_type": "markdown",
   "metadata": {},
   "source": [
    "## LFMM Stochastic Differential Equation\n",
    "\n",
    "Suppose we have a set of dates $\\{ T_0, T_0, ..., T_N \\}$"
   ]
  },
  {
   "cell_type": "markdown",
   "metadata": {},
   "source": [
    "Let $P_j(t)$ be the price of a bond at time t with maturity $T_j$\n",
    "\n",
    "Then the forward rate bewteen times $t_j$ and $t_{j+1}$ at time $t$ is:\n",
    "\n",
    "$$ F(t,T_j, T_{j+1}1) = F_j(t) $$"
   ]
  },
  {
   "cell_type": "markdown",
   "metadata": {},
   "source": [
    "The differential between the two dates can be expressed as:\n",
    "$$\\delta_j = T_{j+1} - T_j$$"
   ]
  },
  {
   "cell_type": "markdown",
   "metadata": {},
   "source": [
    "The LFMM says that each market forward rate has the following SDE:\n",
    "\n",
    "$$ dF_j(t) = F_j(t)\\mu_j(t)dt + F_j(t) \\sigma_j (t) dW_t $$"
   ]
  },
  {
   "cell_type": "markdown",
   "metadata": {},
   "source": [
    "Where:\n",
    "\n",
    "$\\mu_j(t)$ is the time dependent drift associated with $F_j(t)$\n",
    "\n",
    "$\\sigma_j(t)$ is the time dependent volatility associated with $F_j(t)$"
   ]
  },
  {
   "cell_type": "markdown",
   "metadata": {},
   "source": [
    "##### Assumptions\n",
    "\n",
    "We can assume that each forward rate has its own Brownian Motion. This would imply that there is a source of **noise** or randomness for every forward rate in the market.\n",
    "\n",
    "**Simplifying assumptions:** \n",
    "\n",
    "We are going to assume there be only one source of noise in the market, therefore **only one Brownian Motion**."
   ]
  },
  {
   "cell_type": "markdown",
   "metadata": {},
   "source": [
    "#### Time-Dependent Drift\n",
    "\n",
    "$$ \\mu_(t) = \\sum_{k=\\tau(t)}^{j} \\frac{\\delta_k F_k(t) \\sigma_k(t) \\sigma_j(t)}{1 + \\delta_k F_k(t)} $$"
   ]
  },
  {
   "cell_type": "markdown",
   "metadata": {},
   "source": [
    "Where,\n",
    "\n",
    "$\\tau(t) = \\min \\{ i:t < T_i \\}$ which explains how the forward rates evolve over time\n",
    "\n",
    "**N.B.** previous Forward Rates are not useful at present time"
   ]
  },
  {
   "cell_type": "markdown",
   "metadata": {},
   "source": [
    "## Solution to the Libor SDE Paths and their Approximation\n",
    "\n",
    "### Basic Approximation\n",
    "\n",
    "We can refactor the solution to the Libor SDE to include interest rate paths in the following way:\n",
    "\n",
    "$$ \\hat{F}_j(t_i) = \\hat{F}_j(t_{i-1}) e^{\\big[\\hat{\\mu}_j(t_{i-1}) - \\frac{1}{2}\\sigma^2)\\delta_{i-1} + \\sigma_j \\sqrt{\\delta_{i-1}}Z_i \\big]} $$"
   ]
  },
  {
   "cell_type": "markdown",
   "metadata": {},
   "source": [
    "Where, \n",
    "\n",
    "$\\hat{F}_j(t_i)$ is the approximation for the $j^{th}$ forward rate at time $t_i$\n",
    "\n",
    "\n",
    "$Z \\sim N(0,1)$\n",
    "\n",
    "$$ \\hat{\\mu}_j (t_{i-1}) = \\sum_{k=1}^{j} \\frac{\\delta_k \\hat{F}_j(t_{i-1}) \\sigma_k \\sigma_j}{1 + \\delta_k \\hat{F}_j(t_{i-1})} $$"
   ]
  },
  {
   "cell_type": "markdown",
   "metadata": {},
   "source": [
    "We need to then apply this using Monte Carlo Simulation using the values for $\\hat{F}_j(t_0)$\n",
    "\n",
    "We can initialize these variables in the following way:\n",
    "\n",
    "$$ \\hat{F}_j(t_0) = F_j(t_0) $$\n",
    "\n",
    "Where $F_j(t_0)$ are implied from the market ZCB prices and the following formula:\n",
    "\n",
    "$$ F_j(t_0) = \\frac{P_j(0) - P_{j+1}(0)}{\\delta_0 P_{j+1}(0)}$$"
   ]
  },
  {
   "cell_type": "markdown",
   "metadata": {},
   "source": [
    "### Predictor-Corrector Method for Improving the Accuracy of Approximations\n",
    "\n",
    "We can use this method that revolves around estimating an **initial** and a **terminal** drift, then using an average of these to **project future forward rates**."
   ]
  },
  {
   "cell_type": "markdown",
   "metadata": {},
   "source": [
    "Initialising the Estimator is done in the same way as above:\n",
    "\n",
    "$$ \\hat{F}_j(t_0) = F_j(t_0)$$\n",
    "\n",
    "##### Estimate the Forward Rate for the Next Price Period:\n",
    "\n",
    "$$ \\tilde{F}_j(t_i) = \\bar{F}_j(t_{i-1}) e^{\\big[\\mu^1_j(t_{i-1}) - \\frac{1}{2}\\sigma^2)\\delta_{i-1} + \\sigma_j \\sqrt{\\delta_{i-1}}Z_i \\big]} $$"
   ]
  },
  {
   "cell_type": "markdown",
   "metadata": {},
   "source": [
    "Where, \n",
    "\n",
    "$$ \\mu^1_j (t) = \\sum_{k=1}^{j} \\frac{\\delta_k \\bar{F}_j(t_{i-1}) \\sigma_k \\sigma_j}{1 + \\delta_k \\bar{F}_j(t_{i-1})} $$"
   ]
  },
  {
   "cell_type": "markdown",
   "metadata": {},
   "source": [
    "We then use these forward estimates to estimate the drift at time $t_i$:"
   ]
  },
  {
   "cell_type": "markdown",
   "metadata": {},
   "source": [
    "$$ \\mu^2_j (t_{i-1}) = \\sum_{k=1}^{j} \\frac{\\delta_k \\tilde{F}_j(t_{i-1}) \\sigma_k \\sigma_j}{1 + \\delta_k \\tilde{F}_j(t_{i-1})} $$"
   ]
  },
  {
   "cell_type": "markdown",
   "metadata": {},
   "source": [
    "Final step is to compute the final estimate for the forward rate in the next period using:"
   ]
  },
  {
   "cell_type": "markdown",
   "metadata": {},
   "source": [
    "$$ \\bar{F}_j(t_i) = \\bar{F}_j(t_{i-1}) e^{\\big[\\frac{1}{2}(\\mu^1_j(t_{i-1}) + \\mu^2_j(t_{i-1}) - \\sigma^2)\\delta_{i-1} + \\sigma_j \\sqrt{\\delta_{i-1}}Z_i \\big]} $$"
   ]
  },
  {
   "cell_type": "markdown",
   "metadata": {},
   "source": [
    "**N.B.** $Z_i$ is used both for the preliminary and the final forward estimates"
   ]
  },
  {
   "cell_type": "markdown",
   "metadata": {},
   "source": [
    "## Simulating Bond Prices\n",
    "\n",
    "We can do this by:\n",
    "\n",
    "- **simulating forward rates**\n",
    "\n",
    "\n",
    "- using these to **imply capitalisation factors**\n",
    "\n",
    "\n",
    "- then **inverting these** to imply **discount factors** which should be equal to the bond price under no arbitrage.\n",
    "\n",
    "**N.B.** when taking averages to get our MC estimate, we only take averages when we have all simulations for the bond prices. This is a computationally expensive simulation, therefore we will be vectorizing as much as possible for maximum efficiency."
   ]
  },
  {
   "cell_type": "code",
   "execution_count": 51,
   "metadata": {},
   "outputs": [],
   "source": [
    "import numpy as np\n",
    "from scipy.stats import norm\n",
    "import matplotlib.pyplot as plt\n",
    "import random"
   ]
  },
  {
   "cell_type": "code",
   "execution_count": 52,
   "metadata": {},
   "outputs": [],
   "source": [
    "# parameters\n",
    "r0 = 0.05\n",
    "alpha = 0.2\n",
    "b = 0.08\n",
    "sigma = 0.025\n",
    "\n",
    "# problem parameters\n",
    "## we are dealing with bond maturities that are 2 years apart\n",
    "t = np.linspace(0,40,21)\n",
    "## volatility for the LFMM model\n",
    "sigmaj = 0.1"
   ]
  },
  {
   "cell_type": "markdown",
   "metadata": {},
   "source": [
    "#### Generate Bond Prices Using Vasicek Dynamics"
   ]
  },
  {
   "cell_type": "code",
   "execution_count": 54,
   "metadata": {},
   "outputs": [],
   "source": [
    "# Analytical Bond price\n",
    "def A(t1, t2):\n",
    "    return (1-np.exp(-alpha*(t2-t1)))/alpha\n",
    "\n",
    "def C(t1, t2):\n",
    "    val_1 = (t2-t1-A(t1,t2))*(sigma**2/(2*alpha**2)-b)\n",
    "    val_2 = sigma**2*A(t1,t2)**2/(4*alpha)\n",
    "    return val_1 - val_2\n",
    "\n",
    "def bond_price(r,t,T):\n",
    "    return np.exp(-A(t,T)*r + C(t,T))\n",
    "\n",
    "vasi_bond = bond_price(r0,0,t)"
   ]
  },
  {
   "cell_type": "code",
   "execution_count": 56,
   "metadata": {},
   "outputs": [],
   "source": [
    "# Applying the algorithms\n",
    "np.random.seed(0)\n",
    "# is the number of MC simulations we are going to do at each point\n",
    "n_simulations = 100000\n",
    "\n",
    "# stores the number of time steps we are simulating over (number of time increments) \n",
    "n_steps = len(t)\n",
    "\n",
    "# pre-allocate space fpr forward rates under both methods\n",
    "## We need to pre-allocate entire matrices for the forward rates and not vectors\n",
    "## We also initialize the forward rates which is why we are multipyling a matrix of ones by the\n",
    "## forward rates at time t0 implied bu the bond prices\n",
    "### Each row of the matrix consitutes one sample path\n",
    "\n",
    "mc_forward = np.ones([n_simulations,n_steps-1])*(vasi_bond[:-1]-vasi_bond[1:])/(2*vasi_bond[1:])\n",
    "predcorr_forward = np.ones([n_simulations,n_steps-1])*(vasi_bond[:-1]-vasi_bond[1:])/(2*vasi_bond[1:])\n",
    "predcorr_capfac = np.ones([n_simulations,n_steps])\n",
    "mc_capfac = np.ones([n_simulations,n_steps])\n",
    "\n",
    "# store the time increments bewteen bond maturities\n",
    "delta = np.ones([n_simulations,n_steps-1])*(t[1:]-t[:-1])"
   ]
  },
  {
   "cell_type": "markdown",
   "metadata": {},
   "source": [
    "$$ \\mu^2_j (t_{i-1}) = \\sum_{k=1}^{j} \\frac{\\delta_k \\tilde{F}_j(t_{i-1}) \\sigma_k \\sigma_j}{1 + \\delta_k \\tilde{F}_j(t_{i-1})} $$\n",
    "\n",
    "$$ \\bar{F}_j(t_i) = \\bar{F}_j(t_{i-1}) e^{\\big[\\frac{1}{2}(\\mu^1_j(t_{i-1}) + \\mu^2_j(t_{i-1}) - \\sigma^2)\\delta_{i-1} + \\sigma_j \\sqrt{\\delta_{i-1}}Z_i \\big]} $$"
   ]
  },
  {
   "cell_type": "markdown",
   "metadata": {},
   "source": [
    "`np.cumsum` returns the cumulative sum of the elements in a matrix with `axis=1` returning the cumprod of each row of the matrix.\n",
    "\n",
    "For Example: if we have a vector, then the second element of the returned vector is the sum of the first and second element in the original vector"
   ]
  },
  {
   "cell_type": "code",
   "execution_count": 57,
   "metadata": {},
   "outputs": [],
   "source": [
    "for i in range(1,n_steps):\n",
    "    Z = norm.rvs(size = [n_simulations,1])\n",
    "    \n",
    "    # Explicit Monte Carlo simulation\n",
    "    muhat = np.cumsum(delta[:,i:]*mc_forward[:,i:]*sigmaj**2/(1+delta[:,i:]*mc_forward[:,i:]),axis = 1)\n",
    "    mc_forward[:,i:] = mc_forward[:,i:]*np.exp((muhat-sigmaj**2/2)*delta[:,i:]+sigmaj*np.sqrt(delta[:,i:])*Z)\n",
    "    \n",
    "    # Predictor-Corrector Montecarlo simulation\n",
    "    mu_initial = np.cumsum(delta[:,i:]*predcorr_forward[:,i:]*sigmaj**2/(1+delta[:,i:]*predcorr_forward[:,i:]),axis = 1)\n",
    "    for_temp = predcorr_forward[:,i:]*np.exp((mu_initial-sigmaj**2/2)*delta[:,i:]+sigmaj*np.sqrt(delta[:,i:])*Z)\n",
    "    # refers to the above equation 1\n",
    "    mu_term = np.cumsum(delta[:,i:]*for_temp*sigmaj**2/(1+delta[:,i:]*for_temp),axis = 1)\n",
    "    # refers to the above equation 2\n",
    "    predcorr_forward[:,i:] = predcorr_forward[:,i:]*np.exp((mu_initial+mu_term-sigmaj**2)*delta[:,i:]/2+sigmaj*np.sqrt(delta[:,i:])*Z)"
   ]
  },
  {
   "cell_type": "markdown",
   "metadata": {},
   "source": [
    "##### Implying Capitalisation Factors\n",
    "\n",
    "$$ C(t_0, t_n) = \\Pi_{k=1}^{n} (1 + \\delta_k F_k(t_k)) $$\n",
    "\n",
    "Where, \n",
    "\n",
    "$C(t,T)$ is the capitalisation factor for the period $t_0$ and $t_n$\n",
    "\n",
    "We then take the inverse of the capitalisation factors to get the bond prices (same as the discount factors) and take the mean."
   ]
  },
  {
   "cell_type": "code",
   "execution_count": 58,
   "metadata": {},
   "outputs": [],
   "source": [
    "# Implying capitalisation factors from the forward rates\n",
    "mc_capfac[:,1:] = np.cumprod(1+delta*mc_forward, axis = 1)\n",
    "predcorr_capfac[:,1:] = np.cumprod(1+delta*predcorr_forward, axis = 1)\n",
    "\n",
    "# Inverting the capitalisation factors to imply bond prices (discount factors)\n",
    "mc_price = mc_capfac**(-1)\n",
    "predcorr_price = predcorr_capfac**(-1)\n",
    "\n",
    "# Taking averages\n",
    "mc_final = np.mean(mc_price,axis = 0)\n",
    "predcorr_final = np.mean(predcorr_price,axis = 0)"
   ]
  },
  {
   "cell_type": "markdown",
   "metadata": {},
   "source": [
    "Plotting the results"
   ]
  },
  {
   "cell_type": "code",
   "execution_count": 59,
   "metadata": {
    "scrolled": false
   },
   "outputs": [
    {
     "data": {
      "image/png": "[encoded data removed]",
      "text/plain": [
       "<Figure size 1080x360 with 1 Axes>"
      ]
     },
     "metadata": {
      "needs_background": "light"
     },
     "output_type": "display_data"
    }
   ],
   "source": [
    "plt.figure(figsize=(15,5))\n",
    "plt.xlabel(\"Maturity\")\n",
    "plt.ylabel(\"Bond Price\")\n",
    "plt.plot(t, vasi_bond, label=\"Vasicek Bond Prices\")\n",
    "plt.plot(t, mc_final, \"o\", label=\"Simple Monte Carlo Bond Prices\")\n",
    "plt.plot(t, predcorr_final, \"x\", label=\"Predictor-Corrector Bond Prices\")\n",
    "plt.legend()\n",
    "plt.show()"
   ]
  },
  {
   "cell_type": "markdown",
   "metadata": {},
   "source": [
    "## Numpy Appendix"
   ]
  },
  {
   "cell_type": "code",
   "execution_count": 70,
   "metadata": {},
   "outputs": [
    {
     "data": {
      "text/plain": [
       "array([1, 3, 6])"
      ]
     },
     "execution_count": 70,
     "metadata": {},
     "output_type": "execute_result"
    }
   ],
   "source": [
    "arr = [1,2,3]\n",
    "np.cumsum(arr)"
   ]
  },
  {
   "cell_type": "code",
   "execution_count": 74,
   "metadata": {},
   "outputs": [
    {
     "data": {
      "text/plain": [
       "array([3., 4.])"
      ]
     },
     "execution_count": 74,
     "metadata": {},
     "output_type": "execute_result"
    }
   ],
   "source": [
    "m = np.array([[2,3],[4,5]])\n",
    "np.mean(m, axis=0)"
   ]
  }
 ],
 "metadata": {
  "kernelspec": {
   "display_name": "Python 3",
   "language": "python",
   "name": "python3"
  },
  "language_info": {
   "codemirror_mode": {
    "name": "ipython",
    "version": 3
   },
   "file_extension": ".py",
   "mimetype": "text/x-python",
   "name": "python",
   "nbconvert_exporter": "python",
   "pygments_lexer": "ipython3",
   "version": "3.7.3"
  }
 },
 "nbformat": 4,
 "nbformat_minor": 2
}
