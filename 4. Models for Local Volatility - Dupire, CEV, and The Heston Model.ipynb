{
 "cells": [
  {
   "cell_type": "markdown",
   "metadata": {},
   "source": [
    "# Models for Local Volatility - Dupire, CEV, and The Heston Model"
   ]
  },
  {
   "cell_type": "markdown",
   "metadata": {},
   "source": [
    "Usually you would use market call and put prices and Dupire's equation to estimate local volatility values in a model. This allows us to account for an implied volatility surface."
   ]
  },
  {
   "cell_type": "markdown",
   "metadata": {},
   "source": [
    "# 1. CEV Dynamics\n",
    "\n",
    "The dynamics of the Constanct Elasticity of Variance (CEV) asset prices is as follows:\n",
    "\n",
    "$$ dS_t = \\mu S_t dt + S_t \\sigma(S_t,t)dW_t $$\n",
    "\n",
    "where, \n",
    "\n",
    "$ \\sigma(S_t, t) = \\sigma S_t^{\\gamma - 1}$\n",
    "\n",
    "\n",
    "All other variables are defined as usual in the Black-Scholes model."
   ]
  },
  {
   "cell_type": "markdown",
   "metadata": {},
   "source": [
    "#### The Closed-Form Solution to the Value of a Call Option:\n",
    "\n",
    "$$C(S_0, K, T, \\sigma, \\gamma) = -S_0 \\chi(y;x,x) + K e^{-rT}(1 - \\chi(x;z - 2, y))$$\n",
    "\n",
    "where,\n",
    "\n",
    "$C(S_0, K, T, \\sigma, \\gamma)$ is the value of the call on a stock with inistial value $S_0$, strike, K, time to maturity T and $\\sigma$ and $\\gamma$ as per the CEV volatility terms.\n",
    "\n",
    "\n",
    "$$\\kappa = \\frac{2r}{\\sigma^2(1-\\gamma)e^{2r(1- \\gamma)T-1}}$$\n",
    "\n",
    "\n",
    "$$ x = \\kappa S_0^{2(1-\\gamma)} e^{2r(1-\\gamma)T} $$\n",
    "\n",
    "\n",
    "$$ y = \\kappa K^{2(1-\\gamma)} $$\n",
    "\n",
    "\n",
    "$$ z = 2 + \\frac{1}{1-\\gamma} $$\n",
    "\n",
    "\n",
    "and, $\\chi(.;d,\\lambda)$ is the cdf of a noncentral chi-squared distribution with d degrees of freedom and non-centrality parameter $\\lambda$"
   ]
  },
  {
   "cell_type": "code",
   "execution_count": 1,
   "metadata": {},
   "outputs": [],
   "source": [
    "import numpy as np\n",
    "import matplotlib.pyplot as plt\n",
    "from scipy.stats import ncx2"
   ]
  },
  {
   "cell_type": "markdown",
   "metadata": {},
   "source": [
    "`ncx2.cdf` gets the cdf for noncentral chi-squared distributions"
   ]
  },
  {
   "cell_type": "code",
   "execution_count": 2,
   "metadata": {},
   "outputs": [],
   "source": [
    "# Variable declaration\n",
    "S0 = 100\n",
    "sigma = 0.3\n",
    "gamma = 0.75\n",
    "r = 0.1\n",
    "T = 3"
   ]
  },
  {
   "cell_type": "code",
   "execution_count": 12,
   "metadata": {},
   "outputs": [],
   "source": [
    "# Call price under CEV Model\n",
    "z = 2 + 1/(1-gamma)\n",
    "def call(t,K):\n",
    "    kappa = 2*r/(sigma**2*(1-gamma)*(np.exp(2*r*(1-gamma)*t)-1))\n",
    "    x = kappa*S0**(2*(1-gamma))*np.exp(2*r*(1-gamma)*t)\n",
    "    y = kappa*K**(2*(1-gamma))\n",
    "    return S0*(1-ncx2.cdf(y,z,x))-K*np.exp(-r*t)*ncx2.cdf(x,z-2,y)"
   ]
  },
  {
   "cell_type": "markdown",
   "metadata": {},
   "source": [
    "We need to make this a function of time and stock price, since we need to find the first and second derivatives of the function with respect to these two variables.\n",
    "\n",
    "**Strike Price** we will use strikes that vary between 80 and 120 (incl.)"
   ]
  },
  {
   "cell_type": "code",
   "execution_count": 13,
   "metadata": {},
   "outputs": [],
   "source": [
    "# Strikes to test volatility\n",
    "test_strikes = np.linspace(80,120,41)"
   ]
  },
  {
   "cell_type": "markdown",
   "metadata": {},
   "source": [
    "# 2. Dupire Equation for Local Volatility\n",
    "\n",
    "Is used to estimate volatility in simulations. The derivation follows the substitution and manipulation of the Fokker-Planck equation and the Breeden-Litzberger equations to the price of a call option:\n",
    "\n",
    "$$ C(T,K) = e^{-rT}\\int_K^{\\infty}(x-K)\\phi(x,T)dx$$"
   ]
  },
  {
   "cell_type": "markdown",
   "metadata": {},
   "source": [
    "### 1. Fokker-Planck Equation:\n",
    "\n",
    "$$ \\frac{\\partial{\\varphi(x,t)}}{\\partial{t}} = - \\frac{\\partial{\\mu(x,t)}\\varphi(x,t)}{\\partial{x}} + \\frac{1}{2} \\frac{\\partial^2 \\sigma(x,t)^2 \\varphi(x,t)}{\\partial{x^2}} $$"
   ]
  },
  {
   "cell_type": "markdown",
   "metadata": {},
   "source": [
    "### 2. Breeden-Litzenberger Equations:\n",
    "\n",
    "$$ \\frac{\\partial}{\\partial{K}} C(T,K) = e^{-rT} \\int_K^{\\infty} - \\varphi(x,T) dx $$\n",
    "\n",
    "$$ \\frac{\\partial^2}{\\partial{K^2}} C(T,K) = e^{-rT}\\varphi(K,T) $$"
   ]
  },
  {
   "cell_type": "markdown",
   "metadata": {},
   "source": [
    "### Computing Local Volatility\n",
    "\n",
    "We can derive the Fokker-Planck equation and substitute the result with the Breeden-Litzenberger equations to the Call option price:\n",
    "\n",
    "$$ \\frac{\\partial}{\\partial{T}} C(T,K) = -rK \\frac{\\partial}{\\partial{K}} C(T,K) + \\frac{1}{2} \\sigma(K,T)^2\\frac{\\partial^2}{\\partial{K^2}} C(T,K) $$\n",
    "\n",
    "from which we can derive the local volatility $\\sigma(K,T)$\n",
    "\n",
    "**N.B.** It is common to express $\\sigma(K,T)$ as $K\\bar{\\sigma}(K,T)$ which we express in the following equation:"
   ]
  },
  {
   "cell_type": "markdown",
   "metadata": {},
   "source": [
    "$$ \\bar{\\sigma}(K,T)  = \\frac{\\sqrt 2}{K} \\sqrt{\\frac{\\frac{\\partial}{\\partial{T}}C(T,K) + rK \\frac{\\partial}{\\partial{K}}C(T,K)}{\\frac{\\partial^2}{\\partial{K^2}}C(T,K)}}$$"
   ]
  },
  {
   "cell_type": "markdown",
   "metadata": {},
   "source": [
    "We need to estimate:\n",
    "\n",
    "$\\frac{\\partial}{\\partial{T}}C(T,K)$, $\\frac{\\partial}{\\partial{K}}C(T,K)$, $\\frac{\\partial^2}{\\partial{K^2}}C(T,K)$"
   ]
  },
  {
   "cell_type": "markdown",
   "metadata": {},
   "source": [
    "### Estimating Derivates\n",
    "\n",
    "We can do so by following the estimates for derivatives:"
   ]
  },
  {
   "cell_type": "markdown",
   "metadata": {},
   "source": [
    "$$ \\frac{\\partial}{\\partial{a}}f(a,b,c,...) \\approx \\frac{f(a+\\Delta, b, c, ...) - f(a - \\Delta, b, c, ...)}{2\\Delta} $$\n",
    "\n",
    "$$ \\frac{\\partial^2}{\\partial{a^2}}f(a,b,c,...) \\approx \\frac{f(a+2\\Delta, b, c, ...) - 2f(a +\\Delta, b, c, ...) + f(a,b,c, ...)}{\\Delta^2} $$"
   ]
  },
  {
   "cell_type": "markdown",
   "metadata": {},
   "source": [
    "Where $\\Delta$ is some small number. This approximation comes from the definition of a derivative:\n",
    "\n",
    "$$ \\frac{\\partial}{\\partial{x}}f(x) = \\lim_{h \\to 0} \\frac{f(x+h) - f(x)}{h}$$"
   ]
  },
  {
   "cell_type": "code",
   "execution_count": 16,
   "metadata": {},
   "outputs": [],
   "source": [
    "# Estimate partial derivatives\n",
    "delta_t = 0.01\n",
    "delta_K = 0.01\n",
    "dC_dT = (call(T+delta_t, test_strikes) - call(T-delta_t, test_strikes))/(2*delta_t)\n",
    "dC_dK = (call(T, test_strikes + delta_K) - call(T, test_strikes - delta_K))/(2*delta_K)\n",
    "d2C_dK2 = (call(T, test_strikes+2*delta_K) - 2*call(T, test_strikes + delta_K) + call(T,test_strikes))/(delta_K**2)"
   ]
  },
  {
   "cell_type": "markdown",
   "metadata": {},
   "source": [
    "#### Estimating Local Volatility under the Dupire Equation:"
   ]
  },
  {
   "cell_type": "code",
   "execution_count": 17,
   "metadata": {},
   "outputs": [],
   "source": [
    "# estimating local volatility\n",
    "vol_est = np.sqrt(2)/test_strikes*np.sqrt((dC_dT+r*test_strikes*dC_dK)/d2C_dK2)"
   ]
  },
  {
   "cell_type": "code",
   "execution_count": 38,
   "metadata": {},
   "outputs": [
    {
     "data": {
      "image/png": "[encoded data removed]",
      "text/plain": [
       "<Figure size 1080x360 with 1 Axes>"
      ]
     },
     "metadata": {
      "needs_background": "light"
     },
     "output_type": "display_data"
    }
   ],
   "source": [
    "# Plotting the Closed-Form and Dupire Equation\n",
    "plt.figure(figsize=(15,5))\n",
    "plt.plot(test_strikes, sigma*test_strikes**(gamma-1), label=\"Closed-Form\")\n",
    "plt.plot(test_strikes, vol_est, \".\", label=\"Dupire Equation\")\n",
    "plt.title(\"Local Volatility for Different Strikes\")\n",
    "plt.legend()\n",
    "plt.show()"
   ]
  },
  {
   "cell_type": "markdown",
   "metadata": {},
   "source": [
    "### Applications to Put Options\n",
    "\n",
    "Dupire's equation holds the same for put options:\n",
    "\n",
    "$$ \\bar{\\sigma}(K,T)  = \\frac{\\sqrt 2}{K} \\sqrt{\\frac{\\frac{\\partial}{\\partial{T}}P(T,K) + rK \\frac{\\partial}{\\partial{K}}P(T,K)}{\\frac{\\partial^2}{\\partial{K^2}}P(T,K)}}$$"
   ]
  },
  {
   "cell_type": "markdown",
   "metadata": {},
   "source": [
    "# 3. The Heston Model"
   ]
  },
  {
   "cell_type": "markdown",
   "metadata": {},
   "source": [
    "The Heston model, while it was not the first stochastic volatility model, it was the first to result in a **closed-form characteristic** solution meaning it can be used alongside the Fourier pricing techniques to give analytical priced for vanilla options.\n",
    "\n",
    "It is the first model to **allow for stochastic volatility** while still capable of being used for **pricing**.\n",
    "\n",
    "**N.B.** No closed-form pricing solution exists for vanilla options under the Heston model yet."
   ]
  },
  {
   "cell_type": "markdown",
   "metadata": {},
   "source": [
    "## The Original Heston Model Dynamics\n",
    "\n",
    "The original Heston model assumed that risk-free rates are contsant (extensions exists that allow for deterministic and stochastic interest rates as well).\n",
    "\n",
    "The Heston models assumes assets follow these dynamics:\n",
    "\n",
    "$$ dS_t = \\mu Sdt + \\sqrt{\\upsilon_t}SdW_t^1 $$"
   ]
  },
  {
   "cell_type": "markdown",
   "metadata": {},
   "source": [
    "$\\upsilon_t$ follows a CIR or square-root process:\n",
    "\n",
    "$$ d \\sqrt{\\upsilon_t} = -\\beta \\sqrt{\\upsilon_t}dt + \\sigma d W_t^2 $$\n",
    "\n",
    "Appying Ito's Formuls yields:\n",
    "\n",
    "$$ d \\upsilon_t = \\kappa(\\theta - \\upsilon_t)dt + \\sigma \\sqrt{\\upsilon_t}dW^2_t$$\n",
    "\n",
    "Where $W_t^2$ is a standard Brownian Motion and has correlation $\\rho$ with $W_t^1$.\n",
    "\n",
    "**N.B.** The **variance process is stochastic** not the volatility process. In this way the volatility will always be positive."
   ]
  },
  {
   "cell_type": "markdown",
   "metadata": {},
   "source": [
    "### Characteristic Function of S\n",
    "\n",
    "This was proposed by Albrecher et al. (2007). We will use this rather than the original as this version is numerically more stable.\n",
    "\n",
    "Let $s_t = log(S_t)$\n",
    "\n",
    "$$ \\phi_{s_T} = e^{C(\\tau,u) + D(\\tau;u)\\upsilon_t + iu\\log(S_t))} $$"
   ]
  },
  {
   "cell_type": "markdown",
   "metadata": {},
   "source": [
    "Where, \n",
    "\n",
    "$$ C(\\tau;u) = ri\\tau u + \\theta \\kappa [\\tau x_{-} - \\frac{1}{a}\\log (\\frac{1-ge^{d \\tau}}{1-g})] $$\n",
    "\n",
    "$$ D(\\tau;u) = (\\frac{1-e^{d \\tau}}{1-g e^{d \\tau}})x_-$$"
   ]
  },
  {
   "cell_type": "markdown",
   "metadata": {},
   "source": [
    "And\n",
    "\n",
    "$\\tau = T-t$\n",
    "\n",
    "$g = \\frac{x_-}{x_+}$\n",
    "\n",
    "$x_{\\pm} = \\frac{b \\pm d}{2a}$\n",
    "\n",
    "$d = \\sqrt{b^2 - 4ac}$\n",
    "\n",
    "$c = - \\frac{u^2 + ui}{2}$\n",
    "\n",
    "$b = \\kappa - \\rho \\sigma i u$\n",
    "\n",
    "$a = \\frac{\\sigma^2}{2}$"
   ]
  },
  {
   "cell_type": "markdown",
   "metadata": {},
   "source": [
    "## Pricing Call Options under the Heston Model\n",
    "\n",
    "In order to price a call option, we are going to convert the characteristic function directly instead of making a change of measure how it would have been done without Heston Asset Dynamics.\n",
    "\n",
    "Let $\\phi^S_{s_T}(u)$ be the characteristic function of $s_T$, under the measure associated with $S_T$.\n",
    "\n",
    "$$ \\phi^S_{s_T}(u) = \\frac{\\phi_{s_T}(u-i)}{\\phi_{s_T}(-i)} $$"
   ]
  },
  {
   "cell_type": "markdown",
   "metadata": {},
   "source": [
    "Using this conversion we can now write the:\n",
    "\n",
    "### Price of a European Call Option:\n",
    "\n",
    "$$ c = S_0 Q^S[S_T > K] - e^{-rT}KQ[S_T > K] $$\n",
    "\n",
    "$$ = S_0(\\frac{1}{2} + \\frac{1}{\\pi} \\int_0^{\\infty}\\frac{Im[e^{-it\\ln K}\\varphi_{M_2}(t)]}{t}dt) -e^{-rT}K(\\frac{1}{2} + \\frac{1}{\\pi} \\int_0^{\\infty}\\frac{Im[e^{-it\\ln K}\\varphi_{M_1}(t)]}{t}dt) $$"
   ]
  },
  {
   "cell_type": "markdown",
   "metadata": {},
   "source": [
    "Where, \n",
    "\n",
    "$$ \\varphi_{M_1}(t) = \\phi_{s_T}(t) $$\n",
    "\n",
    "\n",
    "$$ \\varphi_{M_1}(t) = \\frac{\\phi_{s_T}(u-i)}{\\phi_{s_T}(-i)} $$"
   ]
  },
  {
   "cell_type": "markdown",
   "metadata": {},
   "source": [
    "#### Applying the Discretization of the Integrals\n",
    "\n",
    "$$ \\int_0^{\\infty}\\frac{Im[e^{-it\\ln K}\\varphi_{M_i}(t)]}{t}dt \\approx \\Sigma_{n=1}^N \\frac{Im[e^{-it\\ln K}\\varphi_{M_2}(t)]}{t_n}\\Delta t $$"
   ]
  },
  {
   "cell_type": "code",
   "execution_count": 40,
   "metadata": {},
   "outputs": [],
   "source": [
    "import numpy as np\n",
    "from scipy.stats import norm\n",
    "import matplotlib.pyplot as plt"
   ]
  },
  {
   "cell_type": "markdown",
   "metadata": {},
   "source": [
    "Parameter Specification"
   ]
  },
  {
   "cell_type": "code",
   "execution_count": 42,
   "metadata": {},
   "outputs": [],
   "source": [
    "# Share specific information\n",
    "S0 = 100\n",
    "v0 = 0.06\n",
    "kappa = 9\n",
    "theta = 0.06\n",
    "r = 0.03\n",
    "sigma = 0.05\n",
    "rho = -0.4\n",
    "\n",
    "# Call option specific information\n",
    "K = 105\n",
    "T = 0.5\n",
    "k_log = np.log(K)\n",
    "\n",
    "# Approximation information\n",
    "t_max = 30 ## upper bound for the discretized interval\n",
    "N = 100 ## upper bound for the sum"
   ]
  },
  {
   "cell_type": "code",
   "execution_count": 49,
   "metadata": {},
   "outputs": [],
   "source": [
    "# Characteristic function code\n",
    "\n",
    "a = sigma**2/2\n",
    "\n",
    "def b(u):\n",
    "    return kappa - rho*sigma*1j*u\n",
    "\n",
    "def c(u):\n",
    "    return -(u**2+1j*u)/2\n",
    "\n",
    "def d(u):\n",
    "    return np.sqrt(b(u)**2-4*a*c(u))\n",
    "\n",
    "def xminus(u):\n",
    "    return (b(u) - d(u))/(2*a)\n",
    "\n",
    "def xplus(u):\n",
    "    return (b(u) + d(u))/(2*a)\n",
    "\n",
    "def g(u):\n",
    "    return xminus(u)/xplus(u)\n",
    "\n",
    "def C(u):\n",
    "    val_1 = T*xminus(u) -np.log((1-g(u)*np.exp(-T*d(u)))/(1-g(u)))/a\n",
    "    return r*T*1j*u + theta*kappa*val_1\n",
    "\n",
    "def D(u):\n",
    "    val_1 = 1-np.exp(-T*d(u))\n",
    "    val_2 = 1-g(u)*np.exp(-T*d(u))\n",
    "    return (val_1/val_2)*xminus(u)\n",
    "\n",
    "# M1\n",
    "def log_char(u):\n",
    "    return np.exp(C(u) + D(u)*v0 + 1j*u*np.log(S0))\n",
    "\n",
    "# M2\n",
    "def adj_char(u):\n",
    "    return log_char(u-1j)/log_char(-1j)"
   ]
  },
  {
   "cell_type": "markdown",
   "metadata": {},
   "source": [
    "Vectorize the code"
   ]
  },
  {
   "cell_type": "code",
   "execution_count": 50,
   "metadata": {},
   "outputs": [],
   "source": [
    "delta_t = t_max/N\n",
    "from_1_to_N = np.linspace(1,N,N)\n",
    "t_n = (from_1_to_N-1/2)*delta_t"
   ]
  },
  {
   "cell_type": "markdown",
   "metadata": {},
   "source": [
    "Calculate Estimates for the Integrals"
   ]
  },
  {
   "cell_type": "code",
   "execution_count": 51,
   "metadata": {},
   "outputs": [],
   "source": [
    "first_integral = sum((((np.exp(-1j*t_n*k_log)*adj_char(t_n)).imag)/t_n)*delta_t)\n",
    "second_integral = sum((((np.exp(-1j*t_n*k_log)*log_char(t_n)).imag)/t_n)*delta_t)"
   ]
  },
  {
   "cell_type": "markdown",
   "metadata": {},
   "source": [
    "#### Calculate the Fourier Estimate of the Call Option"
   ]
  },
  {
   "cell_type": "code",
   "execution_count": 53,
   "metadata": {},
   "outputs": [],
   "source": [
    "fourier_call_value = S0*(1/2 + first_integral/np.pi) - np.exp(-r*T)*K*(1/2 + second_integral/np.pi)"
   ]
  },
  {
   "cell_type": "code",
   "execution_count": 54,
   "metadata": {},
   "outputs": [
    {
     "data": {
      "text/plain": [
       "5.42395511446901"
      ]
     },
     "execution_count": 54,
     "metadata": {},
     "output_type": "execute_result"
    }
   ],
   "source": [
    "fourier_call_value"
   ]
  },
  {
   "cell_type": "markdown",
   "metadata": {},
   "source": [
    "The computations are cheaper using this method than models that require expensive Monte Carlo simulations"
   ]
  },
  {
   "cell_type": "markdown",
   "metadata": {},
   "source": [
    "#### Plot how quickly the additional terms in the integral approximation go to zero\n",
    "\n",
    "It is a great way to illustrate the power of the characteristic pricing method"
   ]
  },
  {
   "cell_type": "code",
   "execution_count": 56,
   "metadata": {},
   "outputs": [
    {
     "data": {
      "image/png": "[encoded data removed]",
      "text/plain": [
       "<Figure size 432x288 with 1 Axes>"
      ]
     },
     "metadata": {
      "needs_background": "light"
     },
     "output_type": "display_data"
    }
   ],
   "source": [
    "plt.title(\"Value of additional terms in integrand estimates\")\n",
    "\n",
    "plt.plot((((np.exp(-1j*t_n*k_log)*adj_char(t_n)).imag)/t_n)*delta_t, label=\"First Integrand\")\n",
    "plt.plot((((np.exp(-1j*t_n*k_log)*log_char(t_n)).imag)/t_n)*delta_t, label=\"Second Integrand\")\n",
    "# plt.xlabel(\"t\")\n",
    "# plt.ylabel(\"Integrand Value\")\n",
    "plt.legend()\n",
    "plt.show()"
   ]
  }
 ],
 "metadata": {
  "kernelspec": {
   "display_name": "Python 3",
   "language": "python",
   "name": "python3"
  },
  "language_info": {
   "codemirror_mode": {
    "name": "ipython",
    "version": 3
   },
   "file_extension": ".py",
   "mimetype": "text/x-python",
   "name": "python",
   "nbconvert_exporter": "python",
   "pygments_lexer": "ipython3",
   "version": "3.7.3"
  }
 },
 "nbformat": 4,
 "nbformat_minor": 2
}
