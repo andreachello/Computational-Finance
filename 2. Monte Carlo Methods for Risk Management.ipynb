{
 "cells": [
  {
   "cell_type": "markdown",
   "metadata": {},
   "source": [
    "# Monte Carlo Methods for Risk Management"
   ]
  },
  {
   "cell_type": "markdown",
   "metadata": {},
   "source": [
    "# 1. Value at Risk\n",
    "\n",
    "##### Risk Metrics\n",
    "\n",
    "A technique for quantifying the risk in a portfolio is known as a risk metric. This gives us a way of numerically describing the amount of uncertainty in that portfolio.\n",
    "\n",
    "Examples: Volatility/Variance and Correlation which give an idea of the extent to which a portfolio's value could decrease and how susceptible it is to massive swings in value.\n",
    "\n",
    "However, to fully characterize these risks, we would need the distribution of returns to be multivariate normal (very unlikely). Therefore, we use a general metric as described below.\n",
    "\n",
    "##### Value at Risk (VaR)\n",
    "\n",
    "Value at Risk gives an indication of how much you stand to lose on a portfolio with a given probability, over a specific time period. This can be measured in absolute terms (we could lose $100 in portfolio value) or in relative terms (the value of our portfolio will decrease by 5%)."
   ]
  },
  {
   "cell_type": "markdown",
   "metadata": {},
   "source": [
    "Let our current portfolio value be $X(t)$, then we can define the return on the portfolio until some fixed time T as:\n",
    "\n",
    "$$ R_{t,T} = \\frac{X(T-t) - X(t)}{X(t)} $$"
   ]
  },
  {
   "cell_type": "markdown",
   "metadata": {},
   "source": [
    "### Definition of VaR using Alpha-Quantile of a Distribution\n",
    "\n",
    "We can define the $\\alpha$-quantile of a distribution, $x_{\\alpha}(t,T)$ as:\n",
    "\n",
    "$$ P[R_{t,T} < x_{\\alpha}(t,T)] $$\n",
    "\n",
    "which translates into our VaR values being:\n",
    "\n",
    "$$VaR_{\\alpha}(t,T) = \\begin{cases}\n",
    "               -x_{\\alpha}(t,T)\\\\\n",
    "                x_{\\alpha}(t,T)X(t)\\\\\n",
    "            \\end{cases} $$"
   ]
  },
  {
   "cell_type": "markdown",
   "metadata": {},
   "source": [
    "We can interpret VaR as being a quantile value: what values does the portfolio take on in the worst 5% of cases? We can also interpret this in terms of confidence intervals. We are (1 − α)-percent certain that the value of the portfolio will not fall below 𝑉𝑎𝑅$_{\\alpha}$(𝑡, 𝑇).\n",
    "\n",
    "**N.B.** the definition of VaR is the negative of a quantile such that the actual VaR value is positive"
   ]
  },
  {
   "cell_type": "markdown",
   "metadata": {},
   "source": [
    "##### Example:\n",
    "\n",
    "For example, suppose we have a portfolio that is worth 100 USD. Say we know that there is a 5% chance that the portfolio will have a value of 20 USD or less. Then the 5% VaR for the portfolio is 80 USD, or 80%. We are 95% confident that the value of our portfolio will not fall by more than 80 USD.\n",
    "\n",
    "This changes according to the significance level chosen."
   ]
  },
  {
   "cell_type": "markdown",
   "metadata": {},
   "source": [
    "### Expected Shortfall\n",
    "\n",
    "Other names for this include conditional VaR or expected tail loss. Expected shortfall tells us how much we stand to lose assuming that our portfolio value does actually fall below our VaR. Put more simply, it is how much we stand to lose, on average, if we only consider the worst α-percentile of cases.\n",
    "\n",
    "$$ EL_{\\alpha}(t,T) = - E[R_{t,T} | R_{t,T} < -VaR_{\\alpha}(t,T)]\\times X(t) $$\n",
    "\n",
    "Which is the negative of our expected return, given the expected return is less than the VaR, multiplied by the portfolio value. Note that this means that we are dealing with absolute terms, and not relative terms.\n",
    "\n",
    "**N.B.** the VaR value must also be in terms of the portfolio returns, and not the portfolio value."
   ]
  },
  {
   "cell_type": "markdown",
   "metadata": {},
   "source": [
    "## Calculating VaR\n",
    "\n",
    "### a. Monte Carlo VaR Models\n",
    "\n",
    "Monte Carlo VaR models make use of Monte Carlo methods to project asset values, in order to get some idea of what happens to your portfolio value in the future. In doing so, you will be able to build a distribution for your portfolio value. You can then use this distribution to estimate the α- percentile of the portfolio, and to estimate a VaR.\n",
    "\n",
    "- Determine dynamics for the assets in the portfolio\n",
    "\n",
    "\n",
    "\n",
    "- Use Monte Carlo simulation to simulate the value of these assets n-days into the future\n",
    "\n",
    "\n",
    "\n",
    "- Determine the portfolio value in each scenario\n",
    "\n",
    "\n",
    "\n",
    "- Determine the $\\alpha$-quantile of these projected portfolio values\n",
    "\n",
    "\n",
    "Monte Carlo methods don't fall prey to data history issues once you have calibrated your return model; but a model needs to be implied which immediately introduces model risk into your VaR estimate.\n",
    "\n",
    "**Monte Carlo simulation tries to find a balance between what has happened in the past, and what could potentially happen in the future. It makes use of models which can allow for events which haven't explicitly occurred before, and it also uses historical data to calibrate its model parameters, which allows for it to incorporate what has happened in the past into its estimates.**\n",
    "\n",
    "### b. Historical VaR Models\n",
    "\n",
    "This simulation process makes no parametric assumptions, and instead entirely uses data to project what may happen. \n",
    "\n",
    "The historical method doesn't require any parametric assumptions regarding the returns of your assets; however, it does need a considerable amount of data to be applied. \n",
    "\n",
    "This may force you to use data from further into the past than you would be comfortable (arguably the most recent data would be a better reflection of the future asset performance). In fact, many regulators require that the data used for historical VaR calculations include periods of “stress”. Thus, the firm may be forced to include data from high stress periods if the most recent data doesn't meet regulatory standards.\n",
    "\n",
    "Selecting appropriate data can be difficult.\n",
    "\n",
    "**Historical simulation focuses on assessing what has happened in the past in order to determine the risk we face in the future.**\n",
    "\n",
    "\n",
    "##### Example:\n",
    "\n",
    "Suppose we have three days’ worth of share data.\n",
    "\n",
    "We can work out two days’ worth of returns for that share. If we then sample from these two returns, we can then project the value of our share one day into the future. \n",
    "\n",
    "In doing so, we are assuming that the company will be subject to similar conditions as it was in the past, so the past returns will be reflective of future returns. If we were to repeat this process several times (using significantly more data), we could apply a similar process as with Monte Carlo VaR models in order to estimate VaR.\n",
    "\n",
    "\n",
    "- Source price data for the assets in the portfolio\n",
    "\n",
    "\n",
    "\n",
    "- Calculate the daily returns for all assets in the portfolio\n",
    "\n",
    "\n",
    "\n",
    "- Randomly sample $n$ many log-returns and use these to grow the respective asset values in the portfolio $n$-days into the future\n",
    "\n",
    "\n",
    "\n",
    "- Determine your portfolio value in each scenario\n",
    "\n",
    "\n",
    "- Determine the $\\alpha$-quantile of these projected portfolio values"
   ]
  },
  {
   "cell_type": "markdown",
   "metadata": {},
   "source": [
    "### c. Conditional Tail VaR\n",
    "\n",
    "In order to determine Conditional Tail VaR, given that you have already determined the VaR, you would just need to work out the average value of the portfolio values which are less the VaR value."
   ]
  },
  {
   "cell_type": "markdown",
   "metadata": {},
   "source": [
    "# 2. Value at Risk in Python"
   ]
  },
  {
   "cell_type": "code",
   "execution_count": 1,
   "metadata": {},
   "outputs": [],
   "source": [
    "import numpy as np\n",
    "from scipy.stats import norm\n",
    "import numpy.matlib\n",
    "from scipy.stats import uniform\n",
    "import matplotlib.pyplot as plt\n",
    "import math as m\n",
    "import random as r"
   ]
  },
  {
   "cell_type": "markdown",
   "metadata": {},
   "source": [
    "### Setting Up Relevant Share Information\n",
    "\n",
    "We will create column vectors for the initial share values and the volatilities for each share.\n",
    "\n",
    "- Assets Prices: `[[100], [95], [50]]`\n",
    "\n",
    "\n",
    "$$ \\begin{bmatrix}\n",
    "100 \\\\\n",
    "95 \\\\\n",
    "50  \\\\\n",
    "\\end{bmatrix} $$\n",
    "\n",
    "\n",
    "- Volatility: `[[0.15],[0.2],[0.3]]`\n",
    "\n",
    "$$ \\begin{bmatrix}\n",
    "0.15 \\\\\n",
    "0.2 \\\\\n",
    "0.3  \\\\\n",
    "\\end{bmatrix} $$\n",
    "\n",
    "- 3x3 correlation matrix: `[[1, 0.2, 0.4],[0.2, 1, 0.8],[0.4, 0.8, 1]]`\n",
    "\n",
    "\n",
    "$$ \\begin{bmatrix}\n",
    "1 & 0.2 & 0.4 \\\\\n",
    "0.2 & 1 & 0.8 \\\\\n",
    "0.4 & 0.8 & 1 \\\\\n",
    "\\end{bmatrix} $$\n",
    "\n",
    "\n",
    "- Cholesky Decomposition of this matrix as L\n"
   ]
  },
  {
   "cell_type": "code",
   "execution_count": 2,
   "metadata": {},
   "outputs": [],
   "source": [
    "# General share info\n",
    "S_0 = np.array([[100],[95],[50]])\n",
    "sigma = np.array([[0.15],[0.2],[0.3]])\n",
    "corr_mat = np.array([[1, 0.2, 0.4],[0.2, 1, 0.8],[0.4, 0.8, 1]])\n",
    "L = np.linalg.cholesky(corr_mat)\n",
    "r = 0.1\n",
    "T = 1"
   ]
  },
  {
   "cell_type": "markdown",
   "metadata": {},
   "source": [
    "Now we need to decide the **total number of simulations** and the **level of confidence for out VaR estimate**.\n",
    "\n",
    "Once this is done, we can calculate our initial portfolio value (assuming that we hold one unit of each of the three assets) as the **sum of the current asset values**."
   ]
  },
  {
   "cell_type": "markdown",
   "metadata": {},
   "source": [
    "## a. Applying Monte Carlo Estimation of VaR"
   ]
  },
  {
   "cell_type": "code",
   "execution_count": 3,
   "metadata": {},
   "outputs": [],
   "source": [
    "np.random.seed(0)\n",
    "t_simulations = 10000\n",
    "alpha = 0.05\n",
    "# current portfolio value\n",
    "portval_current = np.sum(S_0)"
   ]
  },
  {
   "cell_type": "markdown",
   "metadata": {},
   "source": [
    "#### Geometric Brownian Motion Solution\n",
    "\n",
    "$$S_T = S_0 e^{(r- \\frac{\\sigma^{2}}{2})*T+ \\sigma \\sqrt{T}Z}$$\n",
    "\n",
    "where T is the terminal price"
   ]
  },
  {
   "cell_type": "code",
   "execution_count": 4,
   "metadata": {},
   "outputs": [],
   "source": [
    "def terminal_shareprice(S_0, risk_free_rate, sigma, Z, T):\n",
    "    \"\"\"\n",
    "    Generates the terminal share price given some random normal values, z\n",
    "    \"\"\"\n",
    "    # It returns an array of terminal stock prices.\n",
    "    return S_0*np.exp((risk_free_rate-sigma**2/2)*T+sigma*np.sqrt(T)*Z)"
   ]
  },
  {
   "cell_type": "markdown",
   "metadata": {},
   "source": [
    "Simulate future share values and portfolio values (assuming that we keep our holdings constant). The “Z” variable is a correlated multivariate normal sample.\n",
    "\n",
    "Where `norm.rvs(size=[3, t_simulations]`\n",
    "\n",
    "creates a 3xt_simulations matrix so 3x10000"
   ]
  },
  {
   "cell_type": "code",
   "execution_count": 8,
   "metadata": {},
   "outputs": [],
   "source": [
    "# Creating 10000 simulations for future portfolio values\n",
    "Z = np.matmul(L, norm.rvs(size= [3, t_simulations]))\n",
    "portval_future = np.sum(terminal_shareprice(S_0, r, sigma, Z, T), axis=0)"
   ]
  },
  {
   "cell_type": "code",
   "execution_count": 9,
   "metadata": {},
   "outputs": [
    {
     "data": {
      "text/plain": [
       "array([195.2392385 , 314.83192009, 233.49453515, ..., 221.4042465 ,\n",
       "       309.34317272, 238.4214139 ])"
      ]
     },
     "execution_count": 9,
     "metadata": {},
     "output_type": "execute_result"
    }
   ],
   "source": [
    "portval_future"
   ]
  },
  {
   "cell_type": "markdown",
   "metadata": {},
   "source": [
    "### Calculating the Expected Portfolio Returns Given the Simulations\n",
    "\n",
    "Before trying to calculate the VaR, it would make things significantly easier to sort this list. Otherwise, we would need to run some form of search algorithm to find the smallest portfolio returns. Lastly, we determine our VaR as the negative of the α-quantile, where our α is 5%. We use the int function here because, when using matrix indexation, python can only index using integer values. The int function just makes sure that the script doesn't error out and we use the floor function to round down any floats to integers."
   ]
  },
  {
   "cell_type": "code",
   "execution_count": 12,
   "metadata": {},
   "outputs": [],
   "source": [
    "# Calculating portfolio returns\n",
    "port_return = (portval_future - portval_current)/portval_current\n",
    "\n",
    "# Sorting the Returns\n",
    "port_return = np.sort(port_return)\n",
    "\n",
    "# Determining VaR\n",
    "mVar_estimate = -port_return[int (np.floor(alpha*t_simulations))-1]"
   ]
  },
  {
   "cell_type": "markdown",
   "metadata": {},
   "source": [
    "## b. Applying Historical Simulation to Estimate VaR"
   ]
  },
  {
   "cell_type": "code",
   "execution_count": 13,
   "metadata": {},
   "outputs": [],
   "source": [
    "from scipy.stats import uniform"
   ]
  },
  {
   "cell_type": "markdown",
   "metadata": {},
   "source": [
    "Get Preliminary information. Instead of sourcing historical data here we will generate our own.\n",
    "\n",
    "##### 1. Function that produces a Share Price Path\n",
    "It functions in a similar way to the terminal share value function with the key difference being that this keeps track of the share value on a **daily basis** (through the use of the cumsum function)\n",
    "\n",
    "This is a very convenient function which returns the sum of the elements in a matrix at that point in the matrix (so the first element of the resulting matrix will be the same as the original matrix, but the last element in the cumsum matrix will be the sum of the elements up until that point). This allows us to write share prices as being a function of the individual changes up until that point.\n",
    "\n",
    "**Price Path** can be viewed as a synthetic version of the historical data that we would normally use."
   ]
  },
  {
   "cell_type": "code",
   "execution_count": 40,
   "metadata": {},
   "outputs": [],
   "source": [
    "# Historical simulation\n",
    "np.random.seed(0)\n",
    "\n"
   ]
  },
  {
   "cell_type": "code",
   "execution_count": null,
   "metadata": {},
   "outputs": [],
   "source": [
    "t_simulations = 10000\n",
    "alpha = 0.05\n",
    "\n",
    "def share_path(S_0, risk_free_rate, sigma, Z, dT):\n",
    "    \"\"\"\n",
    "    Generates the terminal share price given some random normal values, Z\n",
    "    \"\"\"\n",
    "    return S_0*np.exp(np.cumsum((risk_free_rate - sigma**2/2)*dT + sigma*np.sqrt(dT)*Z,1))\n",
    "\n",
    "# generate synthetic share data\n",
    "\n",
    "Z = norm.rvs(size = [3,5*365])\n",
    "corr_Z = np.transpose(np.matmul(L,Z))\n",
    "price_path = share_path(S_0, r, sigma, corr_Z, dT)\n",
    "\n",
    "hist_S_0 = pice_path[-1]\n",
    "hist_portval = np.sum(hist_S_0)\n",
    "hist_portret = [None]*t_simulations"
   ]
  },
  {
   "cell_type": "markdown",
   "metadata": {},
   "source": [
    "# 3. Credit Valuation Adjustment\n",
    "\n",
    "We now introduce a concept known as exposure. Your exposure at any time 𝑡 is what you are at risk of losing, were the counterparty to default. It is the higher of the value of the portfolio and 0, i.e.\n",
    "\n",
    "$$ E(t) = max(V(t), 0)$$\n",
    "\n",
    "if your portfolio has a negative value (meaning you would owe the other party money), and they default, you don't lose out on any profit. If the value of the portfolio was positive and they defaulted, you would lose the value of the portfolio (the amount they owed you)."
   ]
  },
  {
   "cell_type": "markdown",
   "metadata": {},
   "source": [
    "#### Different Types of Exposure:\n",
    "\n",
    "- Current exposure, which is the exposure when t is the current time\n",
    "\n",
    "\n",
    "- Expected Exposure, which is what you predict the exposure to be at a future time t\n",
    "\n",
    "\n",
    "- Potential Future Exposure, the confidence level on exposure at some future time (similar to VaR)"
   ]
  },
  {
   "cell_type": "markdown",
   "metadata": {},
   "source": [
    "## Definition of Credit Valuation Adjustments\n",
    "\n",
    "CVA is calculated as the difference between the value of a portfolio which we assume is risk-free, and a portfolio where we account for default risk. As such, CVA can be thought of as the market value of the counterparty credit risk. As you might expect, the higher your exposure, the higher your CVA, since you stand to lose more."
   ]
  },
  {
   "cell_type": "markdown",
   "metadata": {},
   "source": [
    "Let:\n",
    "\n",
    "- $\\delta$ be the recovery rate - the fraction of the portfolio that we would receive if the counterparty defaults\n",
    "\n",
    "\n",
    "\n",
    "- $\\tau$ be a stopping time\n",
    "\n",
    "\n",
    "If our portfolio is worth $V(t)$ at time t and the counterparty defaults at time t, we would:\n",
    "\n",
    "$$ \\begin{cases}\n",
    "               \\text{receive } \\delta V(t)\\\\\n",
    "                \\text{lose } (1-\\delta)V(t)\\\\\n",
    "            \\end{cases} \n",
    "$$\n",
    "\n",
    "\n",
    "N.B. if the counterparty never defaults,$ \\tau = \\infty$\n",
    "\n",
    "Therefore, we only lose out if the counterparty defaults before the time we close-out our position with them."
   ]
  },
  {
   "cell_type": "markdown",
   "metadata": {},
   "source": [
    "$$CVA = E^Q[e^{-r \\tau}(1-\\delta)V(\\tau)I_{\\tau \\leq T}]$$\n",
    "\n",
    "Where:\n",
    "\n",
    "- T is the close-out time for our portfolio \n",
    "\n",
    "\n",
    "- $e^{-r \\tau}$: we are discounting our value to the present time.\n",
    "\n",
    "\n",
    "- $ 1- \\delta $: is the proportion of our portfolio that we lose if there is a default.\n",
    "\n",
    "\n",
    "- $V(\\tau)$: is how much our portfolio is worth in total at the time of default\n",
    "\n",
    "\n",
    "- The Indicator function, I, tells us that we only lose out if the counterparty defaults before we have closed-out our position with them.\n",
    "\n",
    "In order to measure CVA better we have to introduce the Merton Model."
   ]
  },
  {
   "cell_type": "markdown",
   "metadata": {},
   "source": [
    "## Merton Model\n",
    "\n",
    "In order to account for the risk of default, we introduce the notion of firm value at time 𝑡. We keep all the assumptions which we had in the Black-Scholes model (besides for the no risk of default) and treat our firm value as an asset. This means it follows geometric Brownian motion and has the following SDE under the risk-neutral measure:\n",
    "\n",
    "$$dV_t = rV_tdt + \\sigma V_t dW_t$$\n",
    "$$ V_0 = V $$\n",
    "\n",
    "Where $V_t$ is the value of the firm at time t. We assume that the value of the firm is the maximum amount which they can pay towards settling their debt.\n",
    "\n",
    "#### Assumption\n",
    "\n",
    "We assume that the total debt which the firm has is some fixed amount, 𝐷, which is due at some future time 𝑇, and that default can only happen at time 𝑇. This means that, at time 𝑇, the debt holders receive:\n",
    "\n",
    "$$min(V_T, D) = D - (D-V_T)^+$$\n",
    "\n",
    "Where the positive-only portion is the same payoff as that of a put on the firm value.\n",
    "\n",
    "**The Expected PV of the Debt is:**\n",
    "\n",
    "$$ De^{-rT} - P(V_0, r \\sigma, D, T) $$\n",
    "\n",
    "Where,\n",
    "\n",
    "$P(V_0, r \\sigma, D, T) $ is the Black-Scholes price for a put with initial asset value $V_0$, risk-free rate, $r$, volatility $\\sigma$, strike $D$ and marturity $T$"
   ]
  },
  {
   "cell_type": "markdown",
   "metadata": {},
   "source": [
    "We can compute the closed-form soution for the price of a put in the Black-Scholes framework as follows:\n",
    "\n",
    "$$ V_0 \\Phi(-d_1) + (1 - \\Phi(-d_2))De^{-rT} $$\n",
    "\n",
    "with,\n",
    "\n",
    "$$ d_1 = \\frac{ln(\\frac{V_0}{D}) + (r + \\frac{\\sigma^2}{2})T}{\\sigma \\sqrt{T}} $$\n",
    "$$ d_2 = d_1 - \\sigma \\sqrt{T} $$"
   ]
  },
  {
   "cell_type": "markdown",
   "metadata": {},
   "source": [
    "**Probability of Default:**\n",
    "\n",
    "is given by:\n",
    "\n",
    "$$ Q[V_T < D] = \\Phi(-d_2) $$\n",
    "\n",
    "These two formulas allow us to give values to the total debt of the firm."
   ]
  },
  {
   "cell_type": "markdown",
   "metadata": {},
   "source": [
    "### Implementation\n",
    "\n",
    "Suppose our portfolio has value $X_t$ at time 𝑡, where $X_t$ is some random variable with maturity time 𝑇. Now, implementing our assumption that default only happens at time 𝑇, our CVA given by equation for the CVA becomes:\n",
    "\n",
    "$$CVA = E^Q[e^{-r \\tau}(1-\\delta)V(\\tau)I_{\\tau = T}]$$\n",
    "$$ = E^Q[e^{-r \\tau}(1-\\delta)V(\\tau)I_{V_T < D}] $$"
   ]
  },
  {
   "cell_type": "markdown",
   "metadata": {},
   "source": [
    "**Independence of the Value of the Portfolio with the Value of the Counterparty Firm:** \n",
    "\n",
    "If this is the case we can calculate the expectation as:\n",
    "\n",
    "$$ (1-\\delta)E^Q[e^{-r \\tau}X_T]Q[V_T < D] = (1-\\delta)X_0 \\Phi (-d_2)$$\n",
    "\n",
    "which follows from the fact that discounted assets are martingales under the risk-neutral measure.\n",
    "\n",
    "In the case of correlated portfolio values and firm values, however, we will need to resort to Monte Carlo methods"
   ]
  },
  {
   "cell_type": "markdown",
   "metadata": {},
   "source": [
    "# 4. CVA in Python"
   ]
  },
  {
   "cell_type": "markdown",
   "metadata": {},
   "source": [
    "### Assumptions \n",
    "\n",
    "- Option Type: Call Option\n",
    "\n",
    "\n",
    "- Initial Stock Value: 100\n",
    "\n",
    "\n",
    "- Volatility: 30%\n",
    "\n",
    "\n",
    "- Strike: 110\n",
    "\n",
    "\n",
    "- T: 1 Year\n",
    "\n",
    "\n",
    "- Continuously-compounded risk-free rate: 10%\n",
    "\n",
    "\n",
    "\n",
    "- Counterparty Risk is present\n",
    "\n",
    "\n",
    "\n",
    "- Firm/Counterparty Value: 200\n",
    "\n",
    "\n",
    "\n",
    "- Firm/Counterparty Volatility: 25%\n",
    "\n",
    "\n",
    "\n",
    "- Firm/Counterparty Debt: 180 owed in 1 Year\n",
    "\n",
    "\n",
    "\n",
    "- Value Received if Default Occurs: 20% of what is owed (Recovery Rate)\n",
    "\n"
   ]
  },
  {
   "cell_type": "code",
   "execution_count": 31,
   "metadata": {},
   "outputs": [],
   "source": [
    "import numpy as np\n",
    "from scipy.stats import norm\n",
    "import matplotlib.pyplot as plt\n",
    "import random as r"
   ]
  },
  {
   "cell_type": "code",
   "execution_count": 32,
   "metadata": {},
   "outputs": [],
   "source": [
    "# Market Information\n",
    "risk_free = 0.1\n",
    "\n",
    "# Share Specific Information\n",
    "S_0 = 100\n",
    "sigma = 0.3\n",
    "\n",
    "# Call Option Specific Information\n",
    "strike = 110\n",
    "T = 1\n",
    "\n",
    "# Firm Specific Information\n",
    "V_0 = 200\n",
    "sigma_firm = 0.25\n",
    "debt = 180\n",
    "recovery_rate = 0.2"
   ]
  },
  {
   "cell_type": "markdown",
   "metadata": {},
   "source": [
    "It is necessary to create the functions which transform our random standard normals into terminal values. Note that we are going to be modeling our firm value in the same way which we have been modeling stock values – hence, we are going to be using the terminal_value function for both our stock and our firm. The call_payoff function finds the payoff for a call option at terminal time."
   ]
  },
  {
   "cell_type": "code",
   "execution_count": 33,
   "metadata": {},
   "outputs": [],
   "source": [
    "# Functions for later valuations\n",
    "def terminal_value(S_0, risk_free_rate, sigma, Z, T):\n",
    "    \"\"\"\n",
    "    Generates the terminal share price given some random normal values, Z\n",
    "    \"\"\"\n",
    "    return S_0*np.exp((risk_free_rate-sigma**2/2)*T+sigma*np.sqrt(T)*Z)\n",
    "\n",
    "def call_payoff(S_T, K):\n",
    "    \"\"\"\n",
    "    Function for evaluating the call price in Monte Carlo Estimation\n",
    "    \"\"\"\n",
    "    return np.maximum(S_T-K, 0)"
   ]
  },
  {
   "cell_type": "markdown",
   "metadata": {},
   "source": [
    "We set our seed so that we can easily compare our answers. Line 3 creates an array of the correlations we are going to be testing.This code will have numbers from −1 to 1, going up in steps of 0.1."
   ]
  },
  {
   "cell_type": "markdown",
   "metadata": {},
   "source": [
    "For each correlation we test, we will have a CVA estimate and a CVA standard deviation."
   ]
  },
  {
   "cell_type": "code",
   "execution_count": 39,
   "metadata": {},
   "outputs": [],
   "source": [
    "np.random.seed(0)\n",
    "\n",
    "corr_tested = np.linspace(-1,1,21)\n",
    "cva_estimates = [None]*len(corr_tested)\n",
    "cva_std = [None]*len(corr_tested)"
   ]
  },
  {
   "cell_type": "markdown",
   "metadata": {},
   "source": [
    "In the following loop we are running our Monte Carlo estimation. \n",
    "\n",
    "We are going to be using a sample size of 50 000 – this means that we have 50 000 estimates for our stock price and 50 000 estimates for our firm value. If our correlation is equal to 1 or −1, our standard normal numbers for each asset (the stock and the firm) are generated as follows:\n",
    "\n",
    "\n",
    "- Generate 50 000 standard normal random variables,\n",
    "\n",
    "\n",
    "\n",
    "- Take the vector of these standard normals and multiply them by the correlation\n",
    "\n",
    "\n",
    "-  Combine these two vectors into a matrix with each array making up a row.\n",
    "\n",
    "\n",
    "\n",
    "If the correlation lies between −0.9 and 0.9 inclusive, we generate the correlated standard normal numbers using a Cholesky decomposition.\n",
    "\n",
    "Once we have our matrix of standard normal random numbers, we can generate our terminal stock and firm values. Line 14 creates an array of stock values using the first row of the matrix of correlated standard normals."
   ]
  },
  {
   "cell_type": "markdown",
   "metadata": {},
   "source": [
    "###### Amount Lost\n",
    "\n",
    "$$ e^{-rT}(1-\\delta)X_T I_{V_T < D} $$\n",
    "\n",
    "where,\n",
    "\n",
    "- $X_T$ are the call values\n",
    "\n",
    "\n",
    "- $V$ is the firm value\n",
    "\n",
    "\n",
    "- $D$ is the debt of the firm\n",
    "\n",
    "\n",
    "- $\\delta$ is the recovery rate\n",
    "\n",
    "\n",
    "- 𝑟 is the risk-free rate."
   ]
  },
  {
   "cell_type": "code",
   "execution_count": 49,
   "metadata": {},
   "outputs": [],
   "source": [
    "for i in range(len(corr_tested)):\n",
    "    \n",
    "    correlation = corr_tested[i]\n",
    "    if (correlation == 1 or correlation == -1):\n",
    "        norm_vec_0 = norm.rvs(size = 50000)\n",
    "        norm_vec_1 = correlation*norm_vec_0\n",
    "        corr_norm_matrix = np.array([norm_vec_0, norm_vec_1])\n",
    "        \n",
    "    else:\n",
    "        corr_matrix = np.array([[1, correlation], [correlation,1]])\n",
    "        norm_matrix = norm.rvs(size = np.array([2,50000]))\n",
    "        corr_norm_matrix = np.matmul(np.linalg.cholesky(corr_matrix), norm_matrix)\n",
    "     \n",
    "    # create an array of stock values using the first row of the matrix of\n",
    "    # correlated standard normals. (creates an array of 50 000 stock values)\n",
    "    term_stock_val = terminal_value(S_0, risk_free, sigma, corr_norm_matrix[0,], T)\n",
    "    \n",
    "    # create an array of call values for the given stock values.\n",
    "    call_val = call_payoff(term_stock_val, strike)\n",
    "    \n",
    "    # create an array of terminal firm values.\n",
    "    term_firm_val = terminal_value(V_0, risk_free, sigma_firm, corr_norm_matrix[1,], T)\n",
    "    \n",
    "    # Using the call values in the formula\n",
    "    amount_lost = np.exp(-risk_free*T)*(1-recovery_rate)*(term_firm_val < debt)*call_val\n",
    "    cva_estimates[i] = np.mean(amount_lost)\n",
    "    cva_std[i] = np.std(amount_lost)/np.sqrt(50000)"
   ]
  },
  {
   "cell_type": "markdown",
   "metadata": {},
   "source": [
    "#### Probability of Default\n",
    "\n",
    "We assume our CVA assumes correlations equal to zero with the probability of default given by:\n",
    "\n",
    "$$ \\Phi(-d_2) $$"
   ]
  },
  {
   "cell_type": "code",
   "execution_count": 50,
   "metadata": {},
   "outputs": [],
   "source": [
    "# Code to calculate probability of default\n",
    "\n",
    "d_1 = (np.log(V_0/debt) + (risk_free + sigma_firm**2/2)*(T))/(sigma_firm*np.sqrt(T))\n",
    "d_2 = d_1 - sigma_firm*np.sqrt(T)\n",
    "\n",
    "default_prob = norm.cdf(-d_2)"
   ]
  },
  {
   "cell_type": "code",
   "execution_count": 51,
   "metadata": {},
   "outputs": [],
   "source": [
    "# Code for analytical solution for Vanilla European Call Options\n",
    "\n",
    "d_1_stock = (np.log(V_0/debt) + (risk_free + sigma**2/2)*(T))/(sigma_firm*np.sqrt(T))\n",
    "d_2_stock = d_1_stock - sigma*np.sqrt(T)\n",
    "\n",
    "analytic_callprice = S_0*norm.cdf(d_1_stock) - strike*np.exp(-risk_free*(T))*norm.cdf(d_2_stock)"
   ]
  },
  {
   "cell_type": "markdown",
   "metadata": {},
   "source": [
    "With closed-form analytical solution for the call option on the share being: \n",
    "\n",
    "$$ (1-\\delta)X_0 \\Phi(-d_2)$$\n",
    "\n",
    "Where, $X_0$ is the closed-from solution to price the call"
   ]
  },
  {
   "cell_type": "code",
   "execution_count": 52,
   "metadata": {},
   "outputs": [],
   "source": [
    "uncorr_cva = (1-recovery_rate)*default_prob*analytic_callprice"
   ]
  },
  {
   "cell_type": "markdown",
   "metadata": {},
   "source": [
    "Plotting the Monte Carlo CVA estimates for different correlations, alongside three SD error bounds and the zero CVA we get:"
   ]
  },
  {
   "cell_type": "code",
   "execution_count": 53,
   "metadata": {},
   "outputs": [
    {
     "data": {
      "image/png": "[encoded data removed]",
      "text/plain": [
       "<Figure size 432x288 with 1 Axes>"
      ]
     },
     "metadata": {
      "needs_background": "light"
     },
     "output_type": "display_data"
    }
   ],
   "source": [
    "plt.plot(corr_tested, [uncorr_cva]*21)\n",
    "plt.plot(corr_tested, cva_estimates, \".\")\n",
    "plt.plot(corr_tested, cva_estimates + 3*np.array(cva_std), \"r\")\n",
    "plt.plot(corr_tested, cva_estimates - 3*np.array(cva_std), \"r\")\n",
    "plt.xlabel(\"Correlation\")\n",
    "plt.ylabel(\"CVA\")\n",
    "plt.show()"
   ]
  }
 ],
 "metadata": {
  "kernelspec": {
   "display_name": "Python 3",
   "language": "python",
   "name": "python3"
  },
  "language_info": {
   "codemirror_mode": {
    "name": "ipython",
    "version": 3
   },
   "file_extension": ".py",
   "mimetype": "text/x-python",
   "name": "python",
   "nbconvert_exporter": "python",
   "pygments_lexer": "ipython3",
   "version": "3.7.3"
  }
 },
 "nbformat": 4,
 "nbformat_minor": 2
}
