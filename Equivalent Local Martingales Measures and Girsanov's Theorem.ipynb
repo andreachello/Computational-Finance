{
 "cells": [
  {
   "cell_type": "markdown",
   "metadata": {},
   "source": [
    "# Equivalent Local Martingale Measures and Girsanov's Theorem\n",
    "\n",
    "Equivalent local martingale measures are an integral part within continuous-time stochastic processes. They define the risk-neutral measure that allows us to price various types of options."
   ]
  },
  {
   "cell_type": "markdown",
   "metadata": {},
   "source": [
    "## Simple Model Consisting of One Stock and a Riskless Bank Account B\n",
    "\n",
    "We can define the dynamics of the stock as: \n",
    "\n",
    "$$ dS_t = S_t(\\mu dt + \\sigma dW_t) $$\n",
    "\n",
    "as well as the dynamics of the riskless bank account:\n",
    "\n",
    "$$ dB_t = r B_t dt $$"
   ]
  },
  {
   "cell_type": "markdown",
   "metadata": {},
   "source": [
    "#### Solution to the SDEs:\n",
    "\n",
    "$$ S_T = S_0 e^{(\\mu - \\frac{1}{2} \\sigma^2)t + \\sigma W_t} $$\n",
    "\n",
    "$$ B_t = B_0 e^{rT} $$"
   ]
  },
  {
   "cell_type": "markdown",
   "metadata": {},
   "source": [
    "#### Discounting the Assets\n",
    "\n",
    "We can turn our assets into discounted assets:\n",
    "\n",
    "$$ X_t = \\frac{S_t}{B_t} = \\frac{S_t}{e^{rt}} $$\n",
    "\n",
    "With the bank account B being equal to 1 => (1,X)\n",
    "\n",
    "Therefore, we can get the final SDE as:\n",
    "\n",
    "$$ dX_t = X_t(\\mu - r)dt + \\sigma dW_t $$"
   ]
  },
  {
   "cell_type": "markdown",
   "metadata": {},
   "source": [
    "## Finding the ELMM for this Model\n",
    "\n",
    "let Z be a **standard normal variable** and $\\mu$ be a real number:\n",
    "\n",
    "$$ Z \\sim N(0,1) $$\n",
    "\n",
    "Then we can define a **new probability measure, the risk-neutral measure**, Q by:\n",
    "\n",
    "$$ \\frac{dP^Q}{dP} = e^{\\mu Z - \\frac{1}{2} \\mu^2} $$\n",
    "\n",
    "Therefore, $P^Q$ is the probability measure that is equivalent to $P$."
   ]
  },
  {
   "cell_type": "markdown",
   "metadata": {},
   "source": [
    "### Moment Generating Function of Z under $P^Q$\n"
   ]
  },
  {
   "cell_type": "markdown",
   "metadata": {},
   "source": [
    "$$ E^Q[e^{\\alpha Z}] = E[e^{\\alpha Z} e^{\\mu Z - \\frac{1}{2} \\mu^2}] $$"
   ]
  },
  {
   "cell_type": "markdown",
   "metadata": {},
   "source": [
    "$$ = e^{\\frac{1}{2}\\mu^2} E[e^{Z(\\alpha + \\mu)}] = e^{E[Z(\\alpha + \\mu)]} = e^{\\alpha \\mu + \\frac{1}{2}\\alpha^2} $$"
   ]
  },
  {
   "cell_type": "markdown",
   "metadata": {},
   "source": [
    "Therefore, by choosing $\\mu$, we can create a probability measure that shift the mean of Z from 0 to $\\mu$ but keeps the variance constant.\n",
    "\n",
    "$$ e^{\\mu Z - \\frac{1}{2} \\mu^2} \\sim N(\\mu, 1) $$"
   ]
  },
  {
   "cell_type": "markdown",
   "metadata": {},
   "source": [
    "## Girsanov's Theorem"
   ]
  },
  {
   "cell_type": "markdown",
   "metadata": {},
   "source": [
    "It employs a similar technique we employing in finding the ELMMs but this time applied to Brownian Motion.\n",
    "\n",
    "Given:\n",
    "\n",
    "$$||X|| = \\text{Euclidean Norm of a Vector X in } R^d$$\n",
    "\n",
    "\n",
    "$$ W = (W_1^1, ..., W^d) \\text{ is a d-dimensional Brownian Motion} $$\n",
    "\n",
    "$$ \\gamma = (\\gamma_1, ..., \\gamma_d) \\text{ is a vector of progressive processes satisfying:} $$"
   ]
  },
  {
   "cell_type": "markdown",
   "metadata": {},
   "source": [
    "$$ P(\\int_0^T(\\gamma_s^i)^2 ds < \\infty)=1, i=1, ..., d $$"
   ]
  },
  {
   "cell_type": "markdown",
   "metadata": {},
   "source": [
    "We can then define the **Continuous Local Martingale Z** by:\n",
    "\n",
    "$$ Z = exp(\\sum_{i=1}^{d} \\int_0^t \\gamma_s^i dW_s^i - \\frac{1}{2} \\int_0^t ||\\gamma_s ||^2 ds) $$"
   ]
  },
  {
   "cell_type": "markdown",
   "metadata": {},
   "source": [
    "Therefore, we can define the new probability measure $P^Q$ as:\n",
    "\n",
    "$$ \\frac{dP^Q}{dP} = Z_t $$"
   ]
  },
  {
   "cell_type": "markdown",
   "metadata": {},
   "source": [
    "With this new probability measure, we can now define a **new stochastic process** as a d-dimensional Brownian Motion:\n",
    "\n",
    "$$ \\tilde{W_t^i} = W_t - \\int_0^t \\gamma_s^i ds$$"
   ]
  },
  {
   "cell_type": "markdown",
   "metadata": {},
   "source": [
    "# Applying Girsanov's Theorem to Find the ELMM for X"
   ]
  },
  {
   "cell_type": "markdown",
   "metadata": {},
   "source": [
    "Let $\\gamma$ be a 1-dimensional process such that:\n",
    "\n",
    "$$ P(\\int_0^T \\gamma_s^2 ds < \\infty) = 1 $$"
   ]
  },
  {
   "cell_type": "markdown",
   "metadata": {},
   "source": [
    "**Define Z:** in a 1-dimensional system as:\n",
    "\n",
    "$$ Z_t = exp(\\int_0^t \\gamma_s dW_s - \\frac{1}{2}\\int_0^t \\gamma_s^2 ds) $$"
   ]
  },
  {
   "cell_type": "markdown",
   "metadata": {},
   "source": [
    "We can therefore define our measure by:\n",
    "\n",
    "$$ \\frac{dP^Q}{dP} = Z_t $$"
   ]
  },
  {
   "cell_type": "markdown",
   "metadata": {},
   "source": [
    "Which will make our process W tilde defined by:\n",
    "\n",
    "$$ \\tilde{W} = W_t - \\int_0^t \\gamma_s ds $$\n",
    "\n",
    "Where, \n",
    "\n",
    "$$ dW_t = d\\tilde{W}t + \\gamma dt $$"
   ]
  },
  {
   "cell_type": "markdown",
   "metadata": {},
   "source": [
    "is a Brownian Motion with respect to $P^Q$. Therefore, Girsanov's theorem gives us a new way of transforming the old Brownian Motion into a new one.\n",
    "\n",
    "#### Rewriting the SDE for X in terms of W Tilde:\n",
    "\n",
    "$$ dX_t = X_t((\\mu - r)dt + \\sigma dW_t)$$\n",
    "$$ = X_t((\\mu - r)dt + \\sigma d\\tilde{W}_t + \\sigma \\gamma dt) $$\n",
    "$$ = X_t((\\mu - r + \\sigma \\gamma_t)dt + \\sigma d\\tilde{W}_t) $$"
   ]
  },
  {
   "cell_type": "markdown",
   "metadata": {},
   "source": [
    "#### Choose a Gamma such that X is a Local Martingale (No-Drift)\n",
    "\n",
    "This means that we need to choose a level of $\\gamma$ such that the entire drift term, within the dt, will equal to zero.\n",
    "\n",
    "$$ \\mu - r + \\sigma \\gamma = 0$$\n",
    "\n",
    "$$ \\gamma_t = - \\frac{\\mu - r}{\\sigma} $$\n",
    "\n",
    "This is defined as the market price of risk."
   ]
  },
  {
   "cell_type": "markdown",
   "metadata": {},
   "source": [
    "#### The Measure corresponding to our ELMM is given by:\n",
    "\n",
    "$$ \\frac{dP^Q}{dP} = e^{-\\frac{\\mu - r}{\\sigma} W_T - \\frac{1}{2} (-\\frac{\\mu - r}{\\sigma})^2 T} $$"
   ]
  },
  {
   "cell_type": "markdown",
   "metadata": {},
   "source": [
    "This means that there is no other value of $\\gamma$ that will make this a unique local martingale (making the market complete)"
   ]
  },
  {
   "cell_type": "markdown",
   "metadata": {},
   "source": [
    "#### Plugging the new Variable in our SDE:\n",
    "\n",
    "$$ dX_t = X_t \\sigma d \\tilde{W}t $$"
   ]
  },
  {
   "cell_type": "markdown",
   "metadata": {},
   "source": [
    "### Pricing Contingent Claims/Derivatives\n",
    "\n",
    "We can use thes results to price derivatives as H, in the form of: \n",
    "\n",
    "$$ \\pi(H) = E^Q[e^{-rT H}] $$"
   ]
  }
 ],
 "metadata": {
  "kernelspec": {
   "display_name": "Python 3",
   "language": "python",
   "name": "python3"
  },
  "language_info": {
   "codemirror_mode": {
    "name": "ipython",
    "version": 3
   },
   "file_extension": ".py",
   "mimetype": "text/x-python",
   "name": "python",
   "nbconvert_exporter": "python",
   "pygments_lexer": "ipython3",
   "version": "3.7.3"
  }
 },
 "nbformat": 4,
 "nbformat_minor": 2
}
