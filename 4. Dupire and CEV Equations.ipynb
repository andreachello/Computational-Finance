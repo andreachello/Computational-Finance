{
 "cells": [
  {
   "cell_type": "markdown",
   "metadata": {},
   "source": [
    "# Dupire and CEV Equations"
   ]
  },
  {
   "cell_type": "markdown",
   "metadata": {},
   "source": [
    "Usually you would use market call and put prices and Dupire's equation to estimate local volatility values in a model. This allows us to account for an implied volatility surface."
   ]
  },
  {
   "cell_type": "markdown",
   "metadata": {},
   "source": [
    "## CEV Dynamics\n",
    "\n",
    "The dynamics of the Constanct Elasticity of Variance (CEV) asset prices is as follows:\n",
    "\n",
    "$$ dS_t = \\mu S_t dt + S_t \\sigma(S_t,t)dW_t $$\n",
    "\n",
    "where, \n",
    "\n",
    "$ \\sigma(S_t, t) = \\sigma S_t^{\\gamma - 1}$\n",
    "\n",
    "\n",
    "All other variables are defined as usual in the Black-Scholes model."
   ]
  },
  {
   "cell_type": "markdown",
   "metadata": {},
   "source": [
    "#### The Closed-Form Solution to the Value of a Call Option:\n",
    "\n",
    "$$C(S_0, K, T, \\sigma, \\gamma) = -S_0 \\chi(y;x,x) + K e^{-rT}(1 - \\chi(x;z - 2, y))$$\n",
    "\n",
    "where,\n",
    "\n",
    "$C(S_0, K, T, \\sigma, \\gamma)$ is the value of the call on a stock with inistial value $S_0$, strike, K, time to maturity T and $\\sigma$ and $\\gamma$ as per the CEV volatility terms.\n",
    "\n",
    "\n",
    "$$\\kappa = \\frac{2r}{\\sigma^2(1-\\gamma)e^{2r(1- \\gamma)T-1}}$$\n",
    "\n",
    "\n",
    "$$ x = \\kappa S_0^{2(1-\\gamma)} e^{2r(1-\\gamma)T} $$\n",
    "\n",
    "\n",
    "$$ y = \\kappa K^{2(1-\\gamma)} $$\n",
    "\n",
    "\n",
    "$$ z = 2 + \\frac{1}{1-\\gamma} $$\n",
    "\n",
    "\n",
    "and, $\\chi(.;d,\\lambda)$ is the cdf of a noncentral chi-squared distribution with d degrees of freedom and non-centrality parameter $\\lambda$"
   ]
  },
  {
   "cell_type": "code",
   "execution_count": 1,
   "metadata": {},
   "outputs": [],
   "source": [
    "import numpy as np\n",
    "import matplotlib.pyplot as plt\n",
    "from scipy.stats import ncx2"
   ]
  },
  {
   "cell_type": "markdown",
   "metadata": {},
   "source": [
    "`ncx2.cdf` gets the cdf for noncentral chi-squared distributions"
   ]
  },
  {
   "cell_type": "code",
   "execution_count": 2,
   "metadata": {},
   "outputs": [],
   "source": [
    "# Variable declaration\n",
    "S0 = 100\n",
    "sigma = 0.3\n",
    "gamma = 0.75\n",
    "r = 0.1\n",
    "T = 3"
   ]
  },
  {
   "cell_type": "code",
   "execution_count": 12,
   "metadata": {},
   "outputs": [],
   "source": [
    "# Call price under CEV Model\n",
    "z = 2 + 1/(1-gamma)\n",
    "def call(t,K):\n",
    "    kappa = 2*r/(sigma**2*(1-gamma)*(np.exp(2*r*(1-gamma)*t)-1))\n",
    "    x = kappa*S0**(2*(1-gamma))*np.exp(2*r*(1-gamma)*t)\n",
    "    y = kappa*K**(2*(1-gamma))\n",
    "    return S0*(1-ncx2.cdf(y,z,x))-K*np.exp(-r*t)*ncx2.cdf(x,z-2,y)"
   ]
  },
  {
   "cell_type": "markdown",
   "metadata": {},
   "source": [
    "We need to make this a function of time and stock price, since we need to find the first and second derivatives of the function with respect to these two variables.\n",
    "\n",
    "**Strike Price** we will use strikes that vary between 80 and 120 (incl.)"
   ]
  },
  {
   "cell_type": "code",
   "execution_count": 13,
   "metadata": {},
   "outputs": [],
   "source": [
    "# Strikes to test volatility\n",
    "test_strikes = np.linspace(80,120,41)"
   ]
  },
  {
   "cell_type": "markdown",
   "metadata": {},
   "source": [
    "# Dupire Equation for Local Volatility\n",
    "\n",
    "Is used to estimate volatility in simulations. The derivation follows the substitution and manipulation of the Fokker-Planck equation and the Breeden-Litzberger equations to the price of a call option:\n",
    "\n",
    "$$ C(T,K) = e^{-rT}\\int_K^{\\infty}(x-K)\\phi(x,T)dx$$"
   ]
  },
  {
   "cell_type": "markdown",
   "metadata": {},
   "source": [
    "### 1. Fokker-Planck Equation:\n",
    "\n",
    "$$ \\frac{\\partial{\\varphi(x,t)}}{\\partial{t}} = - \\frac{\\partial{\\mu(x,t)}\\varphi(x,t)}{\\partial{x}} + \\frac{1}{2} \\frac{\\partial^2 \\sigma(x,t)^2 \\varphi(x,t)}{\\partial{x^2}} $$"
   ]
  },
  {
   "cell_type": "markdown",
   "metadata": {},
   "source": [
    "### 2. Breeden-Litzenberger Equations:\n",
    "\n",
    "$$ \\frac{\\partial}{\\partial{K}} C(T,K) = e^{-rT} \\int_K^{\\infty} - \\varphi(x,T) dx $$\n",
    "\n",
    "$$ \\frac{\\partial^2}{\\partial{K^2}} C(T,K) = e^{-rT}\\varphi(K,T) $$"
   ]
  },
  {
   "cell_type": "markdown",
   "metadata": {},
   "source": [
    "### Computing Local Volatility\n",
    "\n",
    "We can derive the Fokker-Planck equation and substitute the result with the Breeden-Litzenberger equations to the Call option price:\n",
    "\n",
    "$$ \\frac{\\partial}{\\partial{T}} C(T,K) = -rK \\frac{\\partial}{\\partial{K}} C(T,K) + \\frac{1}{2} \\sigma(K,T)^2\\frac{\\partial^2}{\\partial{K^2}} C(T,K) $$\n",
    "\n",
    "from which we can derive the local volatility $\\sigma(K,T)$\n",
    "\n",
    "**N.B.** It is common to express $\\sigma(K,T)$ as $K\\bar{\\sigma}(K,T)$ which we express in the following equation:"
   ]
  },
  {
   "cell_type": "markdown",
   "metadata": {},
   "source": [
    "$$ \\bar{\\sigma}(K,T)  = \\frac{\\sqrt 2}{K} \\sqrt{\\frac{\\frac{\\partial}{\\partial{T}}C(T,K) + rK \\frac{\\partial}{\\partial{K}}C(T,K)}{\\frac{\\partial^2}{\\partial{K^2}}C(T,K)}}$$"
   ]
  },
  {
   "cell_type": "markdown",
   "metadata": {},
   "source": [
    "We need to estimate:\n",
    "\n",
    "$\\frac{\\partial}{\\partial{T}}C(T,K)$, $\\frac{\\partial}{\\partial{K}}C(T,K)$, $\\frac{\\partial^2}{\\partial{K^2}}C(T,K)$"
   ]
  },
  {
   "cell_type": "markdown",
   "metadata": {},
   "source": [
    "### Estimating Derivates\n",
    "\n",
    "We can do so by following the estimates for derivatives:"
   ]
  },
  {
   "cell_type": "markdown",
   "metadata": {},
   "source": [
    "$$ \\frac{\\partial}{\\partial{a}}f(a,b,c,...) \\approx \\frac{f(a+\\Delta, b, c, ...) - f(a - \\Delta, b, c, ...)}{2\\Delta} $$\n",
    "\n",
    "$$ \\frac{\\partial^2}{\\partial{a^2}}f(a,b,c,...) \\approx \\frac{f(a+2\\Delta, b, c, ...) - 2f(a +\\Delta, b, c, ...) + f(a,b,c, ...)}{\\Delta^2} $$"
   ]
  },
  {
   "cell_type": "markdown",
   "metadata": {},
   "source": [
    "Where $\\Delta$ is some small number. This approximation comes from the definition of a derivative:\n",
    "\n",
    "$$ \\frac{\\partial}{\\partial{x}}f(x) = \\lim_{h \\to 0} \\frac{f(x+h) - f(x)}{h}$$"
   ]
  },
  {
   "cell_type": "code",
   "execution_count": 16,
   "metadata": {},
   "outputs": [],
   "source": [
    "# Estimate partial derivatives\n",
    "delta_t = 0.01\n",
    "delta_K = 0.01\n",
    "dC_dT = (call(T+delta_t, test_strikes) - call(T-delta_t, test_strikes))/(2*delta_t)\n",
    "dC_dK = (call(T, test_strikes + delta_K) - call(T, test_strikes - delta_K))/(2*delta_K)\n",
    "d2C_dK2 = (call(T, test_strikes+2*delta_K) - 2*call(T, test_strikes + delta_K) + call(T,test_strikes))/(delta_K**2)"
   ]
  },
  {
   "cell_type": "markdown",
   "metadata": {},
   "source": [
    "#### Estimating Local Volatility under the Dupire Equation:"
   ]
  },
  {
   "cell_type": "code",
   "execution_count": 17,
   "metadata": {},
   "outputs": [],
   "source": [
    "# estimating local volatility\n",
    "vol_est = np.sqrt(2)/test_strikes*np.sqrt((dC_dT+r*test_strikes*dC_dK)/d2C_dK2)"
   ]
  },
  {
   "cell_type": "code",
   "execution_count": 38,
   "metadata": {},
   "outputs": [
    {
     "data": {
      "image/png": "[encoded data removed]",
      "text/plain": [
       "<Figure size 1080x360 with 1 Axes>"
      ]
     },
     "metadata": {
      "needs_background": "light"
     },
     "output_type": "display_data"
    }
   ],
   "source": [
    "# Plotting the Closed-Form and Dupire Equation\n",
    "plt.figure(figsize=(15,5))\n",
    "plt.plot(test_strikes, sigma*test_strikes**(gamma-1), label=\"Closed-Form\")\n",
    "plt.plot(test_strikes, vol_est, \".\", label=\"Dupire Equation\")\n",
    "plt.title(\"Local Volatility for Different Strikes\")\n",
    "plt.legend()\n",
    "plt.show()"
   ]
  },
  {
   "cell_type": "markdown",
   "metadata": {},
   "source": [
    "### Applications to Put Options\n",
    "\n",
    "Dupire's equation holds the same for put options:\n",
    "\n",
    "$$ \\bar{\\sigma}(K,T)  = \\frac{\\sqrt 2}{K} \\sqrt{\\frac{\\frac{\\partial}{\\partial{T}}P(T,K) + rK \\frac{\\partial}{\\partial{K}}P(T,K)}{\\frac{\\partial^2}{\\partial{K^2}}P(T,K)}}$$"
   ]
  }
 ],
 "metadata": {
  "kernelspec": {
   "display_name": "Python 3",
   "language": "python",
   "name": "python3"
  },
  "language_info": {
   "codemirror_mode": {
    "name": "ipython",
    "version": 3
   },
   "file_extension": ".py",
   "mimetype": "text/x-python",
   "name": "python",
   "nbconvert_exporter": "python",
   "pygments_lexer": "ipython3",
   "version": "3.7.3"
  }
 },
 "nbformat": 4,
 "nbformat_minor": 2
}
