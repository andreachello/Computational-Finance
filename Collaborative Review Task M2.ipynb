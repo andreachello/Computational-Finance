{
 "cells": [
  {
   "cell_type": "markdown",
   "metadata": {},
   "source": [
    "# Question 1  \n",
    "\n",
    "In this section you will be required to estimate the value of:\n",
    "\n",
    "$$ \\int_0^2 cos(x) dx$$"
   ]
  },
  {
   "cell_type": "markdown",
   "metadata": {},
   "source": [
    "We can get the closed-form solution of the above integral in the following way:\n",
    "\n",
    "$$ \\int_0^2 cos(x) dx = sin(2) - sin(0) = 0.90$$"
   ]
  },
  {
   "cell_type": "markdown",
   "metadata": {},
   "source": [
    "#### a. Write the above as an expectation (the form of this expectation should be apparent in your code). (10% of total points)\n"
   ]
  },
  {
   "cell_type": "markdown",
   "metadata": {},
   "source": [
    "Using the Monte Carlo Estimation we get:\n",
    "\n",
    "$$ \\int_0^{2} cos(x) dx = 2 \\int_0^{2} \\frac{1}{2} cos(x) dx = 2 E[cos(X)]$$"
   ]
  },
  {
   "cell_type": "markdown",
   "metadata": {},
   "source": [
    "#### b.  Estimate the value of the integral as a function of sample size. Use sample sizes of 1000, 2000, ..., 50000.  (10% of total points)\n"
   ]
  },
  {
   "cell_type": "code",
   "execution_count": 5,
   "metadata": {},
   "outputs": [],
   "source": [
    "import numpy as np\n",
    "import matplotlib.pyplot as plt\n",
    "from scipy.stats import uniform\n",
    "\n",
    "# Simulating the value of the cos integral\n",
    "\n",
    "# create empty vectors that we can use to store the value \n",
    "# of the Monte Carlo estimates and standard deviations, with 50 different sample sizes,\n",
    "# ranging from 1000 to 50000\n",
    "# This will be useful for plotting these values later\n",
    "\n",
    "mcos_estimates = [None]*50\n",
    "mcos_std = [None]*50\n",
    "\n",
    "for i in range(1, 51):\n",
    "    # generate uniform random variables creating 1000x1 vector of numbers from U(0,1)\n",
    "    # We then times this by 2 so that our numbers are sampled from U(0, 2)\n",
    "    unif_array = uniform.rvs(size = i*1000)*2\n",
    "    \n",
    "    # create temp value that holds the cos function valuations\n",
    "    cos_val = np.cos(unif_array)*2\n",
    "    \n",
    "    # Calculate the Monte Carlo estimate for the given sample size\n",
    "    # The np.mean function returns the average value of the sin_val vector \n",
    "    # i.e. the Monte Carlo estimate.\n",
    "    mcos_estimates[i-1] = np.mean(cos_val)\n",
    "    \n",
    "    # calculate the standard deviation of the sample \n",
    "    # and scale it by the square-root of the sample size.\n",
    "    # This calculates the SD of the simulated MC estimator\n",
    "    mcos_std[i-1] = np.std(cos_val)/np.sqrt(i*1000)"
   ]
  },
  {
   "cell_type": "markdown",
   "metadata": {},
   "source": [
    "#### c. Plot the estimates against the analytical value of the integral. (10% of total points)"
   ]
  },
  {
   "cell_type": "code",
   "execution_count": 10,
   "metadata": {},
   "outputs": [
    {
     "data": {
      "image/png": "[encoded data removed]",
      "text/plain": [
       "<Figure size 432x288 with 1 Axes>"
      ]
     },
     "metadata": {
      "needs_background": "light"
     },
     "output_type": "display_data"
    }
   ],
   "source": [
    "# plot the analytical solution of the integral as a line\n",
    "plt.plot([0.90]*50)\n",
    "# plot the Monte Carlo Estimates for the integral\n",
    "plt.plot(mcos_estimates, \".\")\n",
    "# plot 3 SD error bounds around our analytical solution\n",
    "plt.plot(0.90+np.array(mcos_std)*3)\n",
    "plt.plot(0.90-np.array(mcos_std)*3)\n",
    "plt.xlabel(\"Sample Size\")\n",
    "plt.ylabel(\"Value\")\n",
    "plt.show()"
   ]
  },
  {
   "cell_type": "markdown",
   "metadata": {},
   "source": [
    "# Question 2 "
   ]
  },
  {
   "cell_type": "markdown",
   "metadata": {},
   "source": [
    "In this problem, you will be required to implement code which prices a European put option. Use the following information for pricing:\n",
    "\n",
    "- Share volatility is 30%\n",
    "\n",
    "\n",
    "\n",
    "- The risk-free rate is 10%\n",
    "\n",
    "\n",
    "\n",
    "- Average share return is 15%\n",
    "\n",
    "\n",
    "\n",
    "- The current share price is $100\n",
    "\n",
    "\n",
    "\n",
    "- The strike on the European put option is $110\n",
    "\n",
    "\n",
    "\n",
    "- The term of the contract is 6 months\n",
    "\n",
    "#### Payoff of a Put Option\n",
    "\n",
    "$$ (K - S_T)^+ = max(K - S_T, 0) $$\n"
   ]
  },
  {
   "cell_type": "markdown",
   "metadata": {},
   "source": [
    "#### a. Write a function which takes a risk-free rate, the initial share price, the share volatility, and term as inputs, and determines the terminal value of a share price, assuming geometric Brownian Motion. Note, you should vectorize this function where possible. (8% of total points)"
   ]
  },
  {
   "cell_type": "code",
   "execution_count": 12,
   "metadata": {},
   "outputs": [],
   "source": [
    "import numpy as np\n",
    "from scipy.stats import norm\n",
    "import matplotlib.pyplot as plt\n",
    "import math as m\n",
    "import random as r\n",
    "\n",
    "# Share specific info\n",
    "risk_free = 0.1\n",
    "S_0 = 100\n",
    "sigma = 0.3\n",
    "\n",
    "# Option specific info\n",
    "strike = 110\n",
    "T = 0.6\n",
    "current_time = 0"
   ]
  },
  {
   "cell_type": "code",
   "execution_count": 13,
   "metadata": {},
   "outputs": [],
   "source": [
    "def terminal_shareprice(S_0, risk_free_rate, sigma, Z, T):\n",
    "    \"\"\"\n",
    "    Generates the terminal share price given some random normal values, z\n",
    "    \"\"\"\n",
    "    # It returns an array of terminal stock prices.\n",
    "    return S_0*np.exp((risk_free_rate-sigma**2/2)*T+sigma*np.sqrt(T)*Z)"
   ]
  },
  {
   "cell_type": "markdown",
   "metadata": {},
   "source": [
    "#### b. Write a function which takes terminal share prices, a strike price, a risk-free rate and term as inputs, and gives out the discounted value of a European put option. (8% of total points)\n"
   ]
  },
  {
   "cell_type": "code",
   "execution_count": 16,
   "metadata": {},
   "outputs": [],
   "source": [
    "def discounted_put_payoff(S_T, K, risk_free_rate, T):\n",
    "    \"\"\"\n",
    "    Function for evaluating the discounted payoff of a put option\n",
    "    in the Monte Carlo Estimation\n",
    "    \"\"\"\n",
    "    # It returns an array which has the value of the put for each terminal stock price.\n",
    "    return np.exp(-risk_free_rate*T)*np.maximum(K - S_T, 0)"
   ]
  },
  {
   "cell_type": "markdown",
   "metadata": {},
   "source": [
    "#### c. Write a for loop which cycles through sample size (1000, 2000, ..., 50000), and calculates the Monte Carlo estimate of a European put option, and well as the standard deviation of the Monte Carlo estimator. (8% of total points)\n"
   ]
  },
  {
   "cell_type": "code",
   "execution_count": 17,
   "metadata": {},
   "outputs": [],
   "source": [
    "# Generate Monte Carlo estimates of Vanilla European Put Options\n",
    "np.random.seed(0)\n",
    "\n",
    "# Empty arrays which can be used to store estimate values for different\n",
    "# sample size\n",
    "mput_est = [None]*50\n",
    "mput_std = [None]*50\n",
    "\n",
    "# Generating Monte Carlo estimates as a function of sample size\n",
    "# The for loop implements Monte Carlo for a number of different sample sizes.\n",
    "for i in range(1, 51):\n",
    "    # creates an array of standard normal random variables, which are \n",
    "    norm_array = norm.rvs(size = 1000*i)\n",
    "    # used to simulate terminal stock prices\n",
    "    term_val = terminal_shareprice(S_0, risk_free, sigma, norm_array, T-current_time)\n",
    "    # These terminal stock prices are passed into the function which values \n",
    "    # a call on the stock\n",
    "    mput_val = discounted_put_payoff(term_val, strike, risk_free, T-current_time)\n",
    "    # store the mean and SD of these Put values\n",
    "    mput_est[i-1] = np.mean(mput_val)\n",
    "    mput_std[i-1] = np.std(mput_val)/np.sqrt(i*1000)"
   ]
  },
  {
   "cell_type": "markdown",
   "metadata": {},
   "source": [
    "#### d. Plot the Monte Carlo estimates, the analytical European put option value, and three standard deviation error bounds. Note that the analytical put value is given by: (8% of total points)\n",
    "\n",
    "$$-S_0 \\Phi (-d_1) + \\Phi(-d_2)Ke^{-rT}$$\n",
    "\n",
    "where\n",
    "\n",
    "\n",
    "$$ d_1 = \\frac{ln(\\frac{S_0}{K}) + (r + \\frac{\\sigma^2}{2})T} {\\sigma \\sqrt{T}} $$\n",
    "$$ d_2 = d_1 - \\sigma \\sqrt{T} $$"
   ]
  },
  {
   "cell_type": "code",
   "execution_count": 19,
   "metadata": {},
   "outputs": [],
   "source": [
    "# Code for the analytical solution for Vanilla European Put Options\n",
    "d_1 = (np.log(S_0/strike) + (risk_free + sigma**2/2)*(T - current_time))/(sigma*m.sqrt(T-current_time))\n",
    "d_2 = d_1 - sigma*m.sqrt(T-current_time)\n",
    "\n",
    "analytic_putprice = -S_0*norm.cdf(-d_1) + strike*m.exp(-risk_free*(T-current_time))*norm.cdf(-d_2)"
   ]
  },
  {
   "cell_type": "code",
   "execution_count": 20,
   "metadata": {
    "scrolled": true
   },
   "outputs": [
    {
     "data": {
      "image/png": "[encoded data removed]",
      "text/plain": [
       "<Figure size 432x288 with 1 Axes>"
      ]
     },
     "metadata": {
      "needs_background": "light"
     },
     "output_type": "display_data"
    }
   ],
   "source": [
    "# plotting the graph\n",
    "plt.plot([analytic_putprice]*50)\n",
    "plt.plot(mput_est, \".\")\n",
    "plt.plot(analytic_putprice+3*np.array(mput_std), \"r\")\n",
    "plt.plot(analytic_putprice-3*np.array(mput_std), \"r\")\n",
    "plt.xlabel(\"Sample Size\")\n",
    "plt.ylabel(\"Value\")\n",
    "plt.show()"
   ]
  },
  {
   "cell_type": "markdown",
   "metadata": {},
   "source": [
    "# Additional Questions"
   ]
  },
  {
   "cell_type": "markdown",
   "metadata": {},
   "source": [
    "#### Question 3:  Price a European call option using the analytic formula. (5% of total points)"
   ]
  },
  {
   "cell_type": "code",
   "execution_count": 21,
   "metadata": {},
   "outputs": [],
   "source": [
    "# Code for the analytical solution for Vanilla European Call Options\n",
    "d_1 = (np.log(S_0/strike) + (risk_free + sigma**2/2)*(T - current_time))/(sigma*m.sqrt(T-current_time))\n",
    "d_2 = d_1 - sigma*m.sqrt(T-current_time)\n",
    "\n",
    "analytic_callprice = S_0*norm.cdf(d_1) - strike*m.exp(-risk_free*(T-current_time))*norm.cdf(d_2)"
   ]
  },
  {
   "cell_type": "markdown",
   "metadata": {},
   "source": [
    "With the closed form solution given by:\n",
    "\n",
    "$$ S_0 \\Phi(-d_1) - \\Phi(-d_2)Ke^{-rT} $$\n",
    "\n",
    "where, \n",
    "\n",
    "$$ d_1 = \\frac{ln(\\frac{S_0}{K}) + (r + \\frac{\\sigma^2}{2})T} {\\sigma \\sqrt{T}} $$\n",
    "$$ d_2 = d_1 - \\sigma \\sqrt{T} $$"
   ]
  },
  {
   "cell_type": "markdown",
   "metadata": {},
   "source": [
    "#### Question 4: Do your prices for the call and put satisfy put-call parity? (5% of total points)\n"
   ]
  },
  {
   "cell_type": "markdown",
   "metadata": {},
   "source": [
    "The put-call parity relationship is given by the following equation:\n",
    "\n",
    "$$\\pi_c - \\pi_p = E^Q[e^{-rt}(S_T - K)] = S_0 - Ke^{-rt}$$\n",
    "\n",
    "We can check if this relationship holds by plugging in the results we obtained in the previous sections"
   ]
  },
  {
   "cell_type": "code",
   "execution_count": 29,
   "metadata": {},
   "outputs": [
    {
     "data": {
      "text/plain": [
       "True"
      ]
     },
     "execution_count": 29,
     "metadata": {},
     "output_type": "execute_result"
    }
   ],
   "source": [
    "lhs = analytic_callprice - analytic_putprice\n",
    "rhs = S_0 - strike*m.exp(-risk_free*(T-current_time))\n",
    "lhs == rhs"
   ]
  },
  {
   "cell_type": "markdown",
   "metadata": {},
   "source": [
    "#### Question 5: Which 3 markets are involved in put-call parity? (5% of total points)\n",
    "\n",
    "1. Spot Markets: for the prices of the underlying shares\n",
    "\n",
    "\n",
    "\n",
    "2. Options Market: for the prices of Call and Put options\n",
    "\n",
    "\n",
    "\n",
    "3. Fixed Income Markets: for the present value of a zero-coupon bond (or bank account)"
   ]
  },
  {
   "cell_type": "markdown",
   "metadata": {},
   "source": [
    "#### Question 6: How close was the option price using Monte Carlo to the option price using the analytical formula? (5% of total points)"
   ]
  },
  {
   "cell_type": "code",
   "execution_count": 30,
   "metadata": {},
   "outputs": [
    {
     "data": {
      "image/png": "[encoded data removed]",
      "text/plain": [
       "<Figure size 432x288 with 1 Axes>"
      ]
     },
     "metadata": {
      "needs_background": "light"
     },
     "output_type": "display_data"
    }
   ],
   "source": [
    "# plotting the graph\n",
    "plt.plot([analytic_putprice]*50)\n",
    "plt.plot(mput_est, \".\")\n",
    "plt.plot(analytic_putprice+3*np.array(mput_std), \"r\")\n",
    "plt.plot(analytic_putprice-3*np.array(mput_std), \"r\")\n",
    "plt.xlabel(\"Sample Size\")\n",
    "plt.ylabel(\"Value\")\n",
    "plt.show()"
   ]
  },
  {
   "cell_type": "markdown",
   "metadata": {},
   "source": [
    "As we can see from the plot, the larger the sample size, the closer the Monte Carlo Estimation is to the Analytical solution."
   ]
  },
  {
   "cell_type": "markdown",
   "metadata": {},
   "source": [
    "#### Question 7: Why do we learn methods besides the analytic methods? (5% of total points)\n",
    "\n",
    "We use other methods besides the analytic methods when evaluating integrals using the analytic methods becomes too difficult and when there is no known solution to the integral. Therefore, we use estimation techniques to try and give an idea of what the integral evaluates to. One of these methods is the Monte Carlo Method."
   ]
  },
  {
   "cell_type": "markdown",
   "metadata": {},
   "source": [
    "#### Question 8: Why do we prefer analytic methods? (5% of total points)\n",
    "\n",
    "When an integral has a closed-form solution, it is more convenient to use the analytic method in order to evaluate it as it give a much better result than estimation techniques."
   ]
  },
  {
   "cell_type": "markdown",
   "metadata": {},
   "source": [
    "#### Question 9: Why do theoretical prices tend to underestimate market prices? (4% of total points)"
   ]
  },
  {
   "cell_type": "markdown",
   "metadata": {},
   "source": [
    "#### Question 10: What role does hedging play in pricing an option? (4% of total points)\n",
    "\n",
    "Hedging plays a role when we are trying to derive the Black-Scholes Equation for Option Pricing through the process known as delta-hedging rather than pure portfolio replication. It plays the role of reducing the risk of the optionby trading the underlying stock therefore making the value of the portfolio remain unchanged when small changes occur in the value of the underlying security."
   ]
  }
 ],
 "metadata": {
  "kernelspec": {
   "display_name": "Python 3",
   "language": "python",
   "name": "python3"
  },
  "language_info": {
   "codemirror_mode": {
    "name": "ipython",
    "version": 3
   },
   "file_extension": ".py",
   "mimetype": "text/x-python",
   "name": "python",
   "nbconvert_exporter": "python",
   "pygments_lexer": "ipython3",
   "version": "3.7.3"
  }
 },
 "nbformat": 4,
 "nbformat_minor": 2
}
