{
 "cells": [
  {
   "cell_type": "markdown",
   "metadata": {},
   "source": [
    "# Black-Scholes - Portfolio Replication Method\n",
    "\n",
    "In order to understand the replication by portfolio argument, we first have to familiarise ourselves with the concept of the Standard Theory of Continuous Trading."
   ]
  },
  {
   "cell_type": "markdown",
   "metadata": {},
   "source": [
    "# a. The Standard Theory of Continuous Trading\n",
    "\n",
    "It assumes a fixed finite number of primary assets that are sold in the market:\n",
    "\n",
    "$$(B,S) = (B, S^1, ..., S^d)$$\n",
    "\n",
    "with d > 0\n",
    "\n",
    "We assume:\n",
    "\n",
    "**1. The Asset B:** is a riskless bank account\n",
    "\n",
    "\n",
    "**2. Assets $S=(S^1, ..., S^d)$:** are all risky assets\n",
    "\n",
    "### Discounted Assets\n",
    "\n",
    "it is more convenient to work with discounted assets as we can use B (the bank account) as a numeraire.\n",
    "\n",
    "$$ X = (X^1, ..., X^d) $$\n",
    "\n",
    "with,\n",
    "\n",
    "$$X = \\frac{S}{B}$$\n",
    "\n",
    "$$X^i = \\frac{S^i}{B}$$\n",
    "\n",
    "for i = 1,2,...d"
   ]
  },
  {
   "cell_type": "markdown",
   "metadata": {},
   "source": [
    "### The Discounted Bank Account\n",
    "\n",
    "This has value of 1 at all times, hence, the discounted assets can be represented as:\n",
    "\n",
    "$$(1,X) = (1, X^1, ..., X^d)$$"
   ]
  },
  {
   "cell_type": "markdown",
   "metadata": {},
   "source": [
    "### Trading Strategy\n",
    "\n",
    "a trading strategy is a pair \n",
    "\n",
    "$$(\\eta, \\varphi)$$\n",
    "\n",
    "Where, \n",
    "\n",
    "\n",
    "$\\eta$ is the holding in the riskless asset\n",
    "\n",
    "\n",
    "$\\varphi = (\\varphi^1, ..., \\varphi ^d)$ is a d-dimensional and X-integrable process\n",
    "\n",
    "### Value of a Strategy\n",
    "\n",
    "The value a strategy $(\\eta, \\varphi)$ is the stochastic process:\n",
    "\n",
    "$$ V = V(\\eta, \\varphi) = \\eta_t + \\varphi_t X_t$$\n",
    "\n",
    "Where, \n",
    "\n",
    "$\\varphi_t X_t$ is the dot product of the vectors $\\varphi_t = (\\varphi_t^1, ..., \\varphi_t^d)$ and $X = (X_t^1, ..., X_t^d)$"
   ]
  },
  {
   "cell_type": "markdown",
   "metadata": {},
   "source": [
    "### Gains Process\n",
    "\n",
    "For a trading strategy $(\\eta, \\varphi)$ we define the gains process, G as:\n",
    "\n",
    "\n",
    "$$ G_0(\\varphi) = 0 $$\n",
    "\n",
    "\n",
    "$$ G_t(\\varphi) = \\int_0^t \\varphi_s dX_S, t>0 $$\n",
    "\n",
    "**N.B.** there are no gains from trading the riskless asset which is why the process only depends on $\\varphi$ and not on $\\eta$"
   ]
  },
  {
   "cell_type": "markdown",
   "metadata": {},
   "source": [
    "### Self-Financing Strategy\n",
    "\n",
    "We say that $(\\eta, \\varphi)$ is self-financing if the value of the strategy V is equal to the initial value + the gains from trading.\n",
    "\n",
    "$$ V_t(\\eta, \\varphi) = V_0(\\eta, \\varphi) + G_t(\\varphi) $$"
   ]
  },
  {
   "cell_type": "markdown",
   "metadata": {},
   "source": [
    "## Forming the Replicating Portfolio"
   ]
  },
  {
   "cell_type": "markdown",
   "metadata": {},
   "source": [
    "To replicate the derivative V (or H) we form a self-financing portfolio as a combination of the stock (S) and the riskless asset (B) in the right proportion:\n",
    "\n",
    "$$ V_T = \\eta_T B_T + \\varphi_T S_T = H$$\n",
    "\n",
    "Where,\n",
    "\n",
    "V is the value of our self-financing portfolio and H is the value of the option we are trying to replicate.\n",
    "\n",
    "### The Payoff of H is in the Form:\n",
    "\n",
    "$$ H = h(S_T) $$\n",
    "\n",
    "The goal is to find a trading strategy/portfolio that replicates the value of the option such that:\n",
    "\n",
    "$$ V_T(\\eta; \\varphi) = H $$"
   ]
  },
  {
   "cell_type": "markdown",
   "metadata": {},
   "source": [
    "## 1. Find a Trading Strategy in the Discounted Assets\n",
    "\n",
    "The first step is to find a trading strategy in (1, X) that replicates the discounted derivative that we will denote as $\\tilde{H}$\n",
    "\n",
    "$$\\tilde{H} = e^{-rT}H = e^{-rT}h()e^{rT}X_T = g(X_T)$$\n",
    "\n",
    "\n",
    "where, \n",
    "\n",
    "$$ dX_t = X_t(\\mu dt + \\sigma dW_t) $$"
   ]
  },
  {
   "cell_type": "markdown",
   "metadata": {},
   "source": [
    "### Martingale Representation Theory"
   ]
  },
  {
   "cell_type": "markdown",
   "metadata": {},
   "source": [
    "We start by defining the martingale:\n",
    "\n",
    "$$ M = \\{ M_t:0 \\leq t \\leq T \\} $$\n",
    "\n",
    "defined by:\n",
    "\n",
    "$$ M_t = E^Q(g(X_T) | F_t) $$\n",
    "\n",
    "with Q being the risk-neutral measure."
   ]
  },
  {
   "cell_type": "markdown",
   "metadata": {},
   "source": [
    "Given that X is a Markov Process, by the Doob-Dynkin theorem, there exists a function such that:\n",
    "\n",
    "$$ M_t = F(t, X_t) $$ \n",
    "\n",
    "This will be the function we will use in our Ito integration"
   ]
  },
  {
   "cell_type": "markdown",
   "metadata": {},
   "source": [
    "#### Ito's Lemma\n",
    "\n",
    "$$ dM_t = \\frac{\\partial F}{\\partial t} dt + \\frac{\\partial F}{\\partial X}dX_t + \\frac{1}{2} \\frac{\\partial^2 F}{\\partial X^2} d<X>_t $$\n",
    "\n",
    "$$ = (\\frac{\\partial F}{\\partial t} + \\frac{1}{2}\\sigma^2 X_t^2 \\frac{\\partial^2 F}{\\partial X^2})dt + \\sigma X_t \\frac{\\partial F}{\\partial X}dW_t  $$"
   ]
  },
  {
   "cell_type": "markdown",
   "metadata": {},
   "source": [
    "#### Martingale Condition\n",
    "\n",
    "We know that M is a martingale, therefore its drift term is zero meaning that:\n",
    "\n",
    "$$ (\\frac{\\partial F}{\\partial t} + \\frac{1}{2}\\sigma^2 X_t^2 \\frac{\\partial^2 F}{\\partial X^2})dt = 0 $$"
   ]
  },
  {
   "cell_type": "markdown",
   "metadata": {},
   "source": [
    "Since:\n",
    "\n",
    "$$ M_T = F(T, X_T) = g(X_T) = \\tilde{H} $$\n",
    "\n",
    "We can express $\\tilde{H}$ in terms of the Martingale Representation Theorem:\n",
    "\n",
    "$$ \\tilde{H} = E^Q[\\tilde{H}] + \\int_0^T \\varphi_s dX_s - F(T, X_T) $$\n",
    "\n",
    "where,\n",
    "\n",
    "$$ \\varphi_t = \\frac{\\partial F}{\\partial X} (t, X_t) $$"
   ]
  },
  {
   "cell_type": "markdown",
   "metadata": {},
   "source": [
    "We can therefore express our final strategy in terms of:\n",
    "\n",
    "$$ F(T, X_T) = \\eta_t + \\varphi_t X_t = \\tilde{H} $$"
   ]
  },
  {
   "cell_type": "markdown",
   "metadata": {},
   "source": [
    "## 2. Replicating the Derivative with our Strategy"
   ]
  },
  {
   "cell_type": "markdown",
   "metadata": {},
   "source": [
    "The value of the strategy/portfolio is:\n",
    "\n",
    "$$ V_T = \\eta_T B_T + \\varphi_T S_T $$\n",
    "\n",
    "given that $\\eta_t = F(T, X_t) - \\varphi_t X_t$ we have\n",
    "\n",
    "$$ = (F(T, X_T) - \\varphi_T X_T)B_T + \\varphi_T S_T$$"
   ]
  },
  {
   "cell_type": "markdown",
   "metadata": {},
   "source": [
    "$$ = B_T F(T, X_T) - \\varphi_T X_T B_T + \\varphi_T S_T $$"
   ]
  },
  {
   "cell_type": "markdown",
   "metadata": {},
   "source": [
    "Given that $X = \\frac{S}{B}$"
   ]
  },
  {
   "cell_type": "markdown",
   "metadata": {},
   "source": [
    "$$ = B_T F(T, X_T) - \\varphi_T \\frac{S_T}{B_T} + \\varphi_T S_T\n",
    "$$"
   ]
  },
  {
   "cell_type": "markdown",
   "metadata": {},
   "source": [
    "Which we can refactor given that:\n",
    " \n",
    " $$ \\left\\{\n",
    "                \\begin{array}{ll}\n",
    "                  \\tilde{H} = e^{-rt}H\\\\\n",
    "                  X_t = \\frac{S}{B} = \\frac{S}{e^{rt}}\\\\\n",
    "                \\end{array}\n",
    "              \\right. \n",
    " $$"
   ]
  },
  {
   "cell_type": "markdown",
   "metadata": {},
   "source": [
    "$$ V_T = B_T F_T(T, X_T) = \\tilde{H} B_T = e^{-rT}H e^{rt} = H$$"
   ]
  },
  {
   "cell_type": "markdown",
   "metadata": {},
   "source": [
    "It follows that:\n",
    "\n",
    "$$ e^{-rt} V_t = F(t, X_t) \\rightarrow V_t = e^{rt} F(t, X_t) $$\n",
    "\n",
    "$$ V_t = e^{rt} F(t, S_t e^{-rt}) = V(t, S_t) $$"
   ]
  },
  {
   "cell_type": "markdown",
   "metadata": {},
   "source": [
    "using some algebra:\n",
    "\n",
    "$$ e^{-rt} V_t - F_t = 0 \\rightarrow \\frac{V_t}{e^{rt}S} - \\frac{F_t}{S} = 0 $$"
   ]
  },
  {
   "cell_type": "markdown",
   "metadata": {},
   "source": [
    "$$ \\rightarrow \\frac{V_t}{S} - \\frac{F_t}{\\frac{S}{e^{rt}}}$$"
   ]
  },
  {
   "cell_type": "markdown",
   "metadata": {},
   "source": [
    "Which brings us to the equality of:\n",
    "\n",
    "$$ \\frac{V_t}{S_t} = \\frac{F}{X} $$\n",
    "\n",
    "or\n",
    "\n",
    "$$ \\frac{\\partial V_t}{ \\partial S_t} = \\frac{\\partial F}{ \\partial X_t} $$"
   ]
  },
  {
   "cell_type": "markdown",
   "metadata": {},
   "source": [
    "# b. Derivation of the Black-Scholes PDE by Replication"
   ]
  },
  {
   "cell_type": "markdown",
   "metadata": {},
   "source": [
    "To replicate the derivative V (or H) we form a self-financing portfolio as a combination of the stock (S) and the riskless asset (B) in the right proportion:\n",
    "\n",
    "$$ V_T = \\eta_T B_T + \\varphi_T S_T = H$$\n",
    "\n",
    "Where,\n",
    "\n",
    "V is the value of our self-financing portfolio and H is the value of the option we are trying to replicate.\n",
    "\n",
    "$\\eta$ represents the units we are holding of a riskless asset (Typically a bank account)\n",
    "\n",
    "$\\varphi$ represents the units we are holding in the risky asset (S)"
   ]
  },
  {
   "cell_type": "markdown",
   "metadata": {},
   "source": [
    "## Dynamics of the Asset, Option and Riskless Asset\n",
    "\n",
    "##### 1. The Dynamics of the Risky Asset/Security \n",
    "\n",
    "$$ dS = \\mu S dt + \\sigma S dW $$\n",
    "\n",
    "#### 2. Dynamics of the Option Value\n",
    "\n",
    "The option value is written on the underlying security which by Ito's Lemma, evolves in accordance with the process:\n",
    "\n",
    "$$ dF = (\\frac{\\partial F}{\\partial t} + \\mu X \\frac{\\partial F}{\\partial X} + \\frac{1}{2} \\sigma^2 X^2 \\frac{\\partial^2 F}{\\partial X^2})dt + \\sigma X \\frac{\\partial F}{\\partial X} dW $$"
   ]
  },
  {
   "cell_type": "markdown",
   "metadata": {},
   "source": [
    "with,\n",
    "\n",
    "$$X = \\frac{S}{B}$$"
   ]
  },
  {
   "cell_type": "markdown",
   "metadata": {},
   "source": [
    "#### 3. Dynamics of the Riskless Asset\n",
    "\n",
    "$$ dB = rBdt $$"
   ]
  },
  {
   "cell_type": "markdown",
   "metadata": {},
   "source": [
    "## Derivation\n",
    "\n",
    "We can substitute our self-financing replicating portfolio $dV$ to the Ito Process of the option $dF$"
   ]
  },
  {
   "cell_type": "markdown",
   "metadata": {},
   "source": [
    "$$(\\frac{\\partial V}{\\partial t} + \\mu S \\frac{\\partial V}{\\partial S} + \\frac{1}{2}\\sigma^2 S^2 \\frac{\\partial^2 V}{\\partial S^2})dt + \\sigma S \\frac{\\partial V}{\\partial S} dW = \\eta dB + \\varphi d S$$\n"
   ]
  },
  {
   "cell_type": "markdown",
   "metadata": {},
   "source": [
    "Focusing on the right-hand side of the equation we substitute in the initial value of $dS$ and $dB$:\n",
    "\n",
    "$$ = (\\mu S dt + \\sigma S dW)\\varphi + \\eta rBdt $$\n",
    "\n",
    "$$ = \\mu \\varphi S dt + \\sigma \\varphi S dW + \\eta rBdt $$\n",
    "\n",
    "$$ = (\\mu \\varphi S + \\eta rB )dt + \\sigma \\varphi S dW $$"
   ]
  },
  {
   "cell_type": "markdown",
   "metadata": {},
   "source": [
    "We can find the vale for $\\varphi$ if we equate the coefficients of the Brownian Motion term on each side of the equation, i.e. dW:\n",
    "\n",
    "$$ \\sigma S \\frac{\\partial V}{\\partial S} = \\varphi \\sigma S $$\n",
    "\n",
    "by cancelling out some terms we are left with:\n",
    "\n",
    "$$ \\varphi = \\frac{\\partial V}{\\partial S} $$"
   ]
  },
  {
   "cell_type": "markdown",
   "metadata": {},
   "source": [
    "Substituting $\\varphi$ back into the equation we get:\n",
    "\n",
    "$$\\frac{\\partial V}{\\partial t} + (\\mu S \\frac{\\partial V}{\\partial S} + \\frac{1}{2}\\sigma^2 s^2 \\frac{\\partial^2 V}{\\partial S^2})dt + \\sigma S \\frac{\\partial V}{\\partial S} dW = (\\mu \\frac{\\partial V}{\\partial S} S + \\eta rB )dt + \\sigma \\frac{\\partial V}{\\partial S} S dW $$"
   ]
  },
  {
   "cell_type": "markdown",
   "metadata": {},
   "source": [
    "Which makes some terms cancel out, especially the ones containing Brownian Motion:\n",
    "\n",
    "$$ (\\frac{\\partial V}{\\partial t} + \\frac{1}{2}\\sigma^2 S^2 \\frac{\\partial^2 V}{\\partial S^2})dt = \\eta rBdt $$"
   ]
  },
  {
   "cell_type": "markdown",
   "metadata": {},
   "source": [
    "Cancelling out the dt and since:\n",
    "\n",
    "$$V = \\varphi S + \\eta B \\rightarrow B = \\frac{V - \\varphi S}{\\eta}$$\n",
    "\n",
    "We can rewrite the right-hand side as:\n",
    "\n",
    "$$ \\eta r (\\frac{V - \\varphi S}{\\eta}) = \\frac{\\eta}{\\eta} V r - \\frac{\\partial V}{\\partial S} S r $$\n",
    "\n",
    "Substituting this in the right-hand side of our equation yield the PDE solution\n",
    "\n",
    "### PDE Solution\n",
    "\n",
    "$$ \\frac{\\partial V}{\\partial t} + \\frac{1}{2}\\sigma^2 S^2 \\frac{\\partial^2 V}{\\partial S^2} = r(V - S \\frac{\\partial V}{\\partial S}) $$"
   ]
  }
 ],
 "metadata": {
  "kernelspec": {
   "display_name": "Python 3",
   "language": "python",
   "name": "python3"
  },
  "language_info": {
   "codemirror_mode": {
    "name": "ipython",
    "version": 3
   },
   "file_extension": ".py",
   "mimetype": "text/x-python",
   "name": "python",
   "nbconvert_exporter": "python",
   "pygments_lexer": "ipython3",
   "version": "3.7.3"
  }
 },
 "nbformat": 4,
 "nbformat_minor": 2
}
