{
 "cells": [
  {
   "cell_type": "markdown",
   "metadata": {},
   "source": [
    "# Pricing Vanilla Options Under the Risk-Neutral Measure"
   ]
  },
  {
   "cell_type": "markdown",
   "metadata": {},
   "source": [
    "## Simple Model Consisting of One Stock and a Riskless Bank Account B\n",
    "\n",
    "Under the real-world probability measure, the Stock price eveloves according to the following SDE:\n",
    "\n",
    "$$ dS_t = S_t(\\mu dt + \\sigma dW_t) $$"
   ]
  },
  {
   "cell_type": "markdown",
   "metadata": {},
   "source": [
    "**Under the ELMM $P^Q$:**\n",
    "\n",
    "The dynamics of the discounted stock price, X, are:\n",
    "\n",
    "$$ dX_t = X_t \\sigma d \\tilde{W}_t $$"
   ]
  },
  {
   "cell_type": "markdown",
   "metadata": {},
   "source": [
    "Therefore, we can replace the dynamics of S as:\n",
    "\n",
    "$$ dS_t = S_t(rdt + \\sigma d \\tilde{W}_t) $$\n",
    "\n",
    "with solution to the SDE as:\n",
    "\n",
    "$$ S_t = S_0 e^{(r - \\frac{1}{2} \\sigma^2)t + \\sigma \\tilde{W}_t} $$"
   ]
  },
  {
   "cell_type": "markdown",
   "metadata": {},
   "source": [
    "## Pricing a European Call Option"
   ]
  },
  {
   "cell_type": "markdown",
   "metadata": {},
   "source": [
    "The payoff of a vanilla European Call option is: \n",
    "\n",
    "$$ H = (S_T - K )^+ = \\max(S_T - K, 0) $$"
   ]
  },
  {
   "cell_type": "markdown",
   "metadata": {},
   "source": [
    "Where K is the strike price and H is the derivative payoff\n",
    "\n",
    "In order to calculate the price of H, we need to find the **expected value under the risk-neutral measure** $P^Q$ of the discounted value of H:\n",
    "\n",
    "$$ \\pi(H) = E^Q[e^{-rT}H] = E^Q[e^{-rT}(S_T - K)^+] $$"
   ]
  },
  {
   "cell_type": "markdown",
   "metadata": {},
   "source": [
    "$$ = e^{-rT} E^Q[(S_T - K)^+] $$\n",
    "\n",
    "$$ = e^{-rT} E^Q[(S_0 e^{(r - \\frac{1}{2} \\sigma^2)T + \\sigma \\tilde{W} T} - K)^+] $$"
   ]
  },
  {
   "cell_type": "markdown",
   "metadata": {},
   "source": [
    "This is an expectation with the **only random variable** being W tilde. Therefore, we can express this variable in terms of a **standard normal random variable**:\n",
    "\n",
    "$$ \\tilde{W_T} = \\sqrt{T}Z $$"
   ]
  },
  {
   "cell_type": "markdown",
   "metadata": {},
   "source": [
    "We can then substitute this newly formed variable in the above equation as follows:\n",
    "\n",
    "$$ = e^{-rT} E^Q[(S_0 e^{(r - \\frac{1}{2} \\sigma^2)T + \\sigma \\sqrt{T} Z} - K)^+] $$"
   ]
  },
  {
   "cell_type": "markdown",
   "metadata": {},
   "source": [
    "$$ = e^{-rT \\int_{-\\infty}^{\\infty}(S_0 e^{(r - \\frac{1}{2} \\sigma^2)T + \\sigma \\sqrt{T} Z} - K)^+)} $$"
   ]
  },
  {
   "cell_type": "markdown",
   "metadata": {},
   "source": [
    "Which we can multiply by the density of Z:\n",
    "\n",
    "$$ \\pi(H) = e^{-rT \\int_{-\\infty}^{\\infty}(S_0 e^{(r - \\frac{1}{2} \\sigma^2)T + \\sigma \\sqrt{T} Z} - K)^+) \\frac{1}{\\sqrt{2 \\pi}} e^{-\\frac{Z^2}{2}} dZ} $$"
   ]
  },
  {
   "cell_type": "markdown",
   "metadata": {},
   "source": [
    "#### Solving the Integral/Expectation\n",
    "\n",
    "In order to evaluate the expectation, we must find the region where this is positive, which we can get from the payoff of the call option:\n",
    "\n",
    "$$ H =\\left\\{\n",
    "                \\begin{array}{ll}\n",
    "                 S > K, \\text{positive}\\\\\n",
    "                  S < K, \\text{0}\n",
    "                \\end{array}\n",
    "              \\right. $$"
   ]
  },
  {
   "cell_type": "markdown",
   "metadata": {},
   "source": [
    "or\n",
    "\n",
    "$$ S_0e^{(r - \\frac{1}{2} \\sigma^2)T + \\sigma \\sqrt{T} Z} > K $$"
   ]
  },
  {
   "cell_type": "markdown",
   "metadata": {},
   "source": [
    "Which is the basis for our distribution terms:\n",
    "\n",
    "$$ d_1 = \\frac{1}{\\sigma \\sqrt T}(\\ln \\frac{S_0}{K} + (r + \\frac{\\sigma^2}{2})T) $$\n",
    "$$ d_2 = d_1 - \\sigma \\sqrt T $$"
   ]
  },
  {
   "cell_type": "markdown",
   "metadata": {},
   "source": [
    "### Call Option Price\n",
    "\n",
    "Therefore, we can express the price of our Call Option as:\n",
    "\n",
    "$$ \\pi(H) = S_0 \\Phi(d_1) - K e^{-rt} \\Phi(d_2)$$"
   ]
  },
  {
   "cell_type": "markdown",
   "metadata": {},
   "source": [
    "# Put-Call Parity\n",
    "\n",
    "We can express the relationship between call and put options in the following way:\n",
    "\n",
    "$$ (S_T - K)^+ - (K - S_T)^+ = \\left\\{\n",
    "                \\begin{array}{ll}\n",
    "                 S_T - K, \\text{ if } S_T > K \\\\\n",
    "                  S_T - K, \\text{ if } S_T < K\n",
    "                \\end{array}\n",
    "              \\right. = S_T - K $$"
   ]
  },
  {
   "cell_type": "markdown",
   "metadata": {},
   "source": [
    "Therefore, the put option is related to the call option by the equation: \n",
    "\n",
    "$$ \\pi_C - \\pi_P = E^Q[e^{-rT}(S_T - K)] = S_0 - Ke^{-rT} $$"
   ]
  }
 ],
 "metadata": {
  "kernelspec": {
   "display_name": "Python 3",
   "language": "python",
   "name": "python3"
  },
  "language_info": {
   "codemirror_mode": {
    "name": "ipython",
    "version": 3
   },
   "file_extension": ".py",
   "mimetype": "text/x-python",
   "name": "python",
   "nbconvert_exporter": "python",
   "pygments_lexer": "ipython3",
   "version": "3.7.3"
  }
 },
 "nbformat": 4,
 "nbformat_minor": 2
}
