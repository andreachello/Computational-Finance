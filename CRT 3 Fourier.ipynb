{
 "cells": [
  {
   "cell_type": "markdown",
   "metadata": {},
   "source": [
    "# Collaborative Review Task 3 - Fourier Transforms for Option Pricing"
   ]
  },
  {
   "cell_type": "markdown",
   "metadata": {},
   "source": [
    "In this assignment, you are going to be required to price a European **put** option using the three different techniques in the Fourier Transfrom Notebook. The parameters are as follows:\n",
    "\n",
    "- Risk-free continuously-compounded interest rate, r, of 10%\n",
    "\n",
    "- Strike price, K, of $100\n",
    "\n",
    "- Initial stock price, S0, of $120\n",
    "\n",
    "- Time to maturity, T, of 2 years\n",
    "\n",
    "- Stock volatility, σ, of 25%\n",
    "\n",
    "You may make all the assumptions of the standard Black-Scholes model."
   ]
  },
  {
   "cell_type": "markdown",
   "metadata": {},
   "source": [
    "## 1. Initialize the relevant parameters. (5% of total points)"
   ]
  },
  {
   "cell_type": "code",
   "execution_count": 1,
   "metadata": {},
   "outputs": [],
   "source": [
    "import numpy as np\n",
    "from scipy.stats import norm\n",
    "import matplotlib.pyplot as plt\n",
    "\n",
    "# share specific information\n",
    "r = 0.1\n",
    "S0 = 120\n",
    "sigma = 0.25\n",
    "\n",
    "# call option specific information\n",
    "K = 100\n",
    "T = 2\n",
    "k_log = np.log(K)"
   ]
  },
  {
   "cell_type": "markdown",
   "metadata": {},
   "source": [
    "## 2. Calculate the analytical price for the put option using the closed-form solution. (10% of total points)"
   ]
  },
  {
   "cell_type": "code",
   "execution_count": 3,
   "metadata": {},
   "outputs": [
    {
     "data": {
      "text/plain": [
       "2.4693867508857075"
      ]
     },
     "execution_count": 3,
     "metadata": {},
     "output_type": "execute_result"
    }
   ],
   "source": [
    "# code for the analytical solution for vanilla European put option pricing\n",
    "d1_stock = (np.log(S0/K) + (r + sigma**2/2)*T)/(sigma*np.sqrt(T))\n",
    "d2_stock = d1_stock - sigma*np.sqrt(T)\n",
    "\n",
    "analytic_putprice = K*np.exp(-r*T)*norm.cdf(-d2_stock) - S0*norm.cdf(-d1_stock)\n",
    "analytic_putprice"
   ]
  },
  {
   "cell_type": "markdown",
   "metadata": {},
   "source": [
    "## 3. Calculate the estimate for the put price using the characteristic function and technique described in note set 1. \n",
    "\n",
    "Use a maximum integral bound of 40 and N=200 rectangles to approximate your integral. (20% of total points)"
   ]
  },
  {
   "cell_type": "code",
   "execution_count": 6,
   "metadata": {},
   "outputs": [],
   "source": [
    "# Characteristic functions where 1j is used to create the imaginary number i\n",
    "def c_M1(t):\n",
    "    return np.exp(1j*t*(np.log(S0)+(r-sigma**2/2)*T) - (sigma**2)*T*(t**2)/2)\n",
    "\n",
    "def c_M2(t):\n",
    "    return np.exp(1j*t*sigma**2*T)*c_M1(t)"
   ]
  },
  {
   "cell_type": "code",
   "execution_count": 7,
   "metadata": {},
   "outputs": [],
   "source": [
    "# Choosing t_max and N\n",
    "t_max = 40\n",
    "N = 200\n",
    "\n",
    "# Calculating delta and constructing t_n\n",
    "delta_t = t_max/N\n",
    "from_1_to_N = np.linspace(1, N, N)\n",
    "t_n = (from_1_to_N - 1/2)*delta_t"
   ]
  },
  {
   "cell_type": "code",
   "execution_count": 11,
   "metadata": {},
   "outputs": [],
   "source": [
    "# Approximate integral estimates (use .imag to find the imaginary part of a complex number)\n",
    "first_integral = -sum((((np.exp(-1j*t_n*k_log)*c_M2(t_n)).imag)/t_n)*delta_t)\n",
    "second_integral = -sum((((np.exp(-1j*t_n*k_log)*c_M1(t_n)).imag)/t_n)*delta_t)"
   ]
  },
  {
   "cell_type": "code",
   "execution_count": 12,
   "metadata": {},
   "outputs": [
    {
     "data": {
      "text/plain": [
       "2.4693867508857057"
      ]
     },
     "execution_count": 12,
     "metadata": {},
     "output_type": "execute_result"
    }
   ],
   "source": [
    "# Fourier Call Value\n",
    "fourier_put_val = np.exp(-r*T)*K*(1/2 + second_integral/np.pi) - S0*(1/2 + first_integral/np.pi)\n",
    "fourier_put_val"
   ]
  },
  {
   "cell_type": "markdown",
   "metadata": {},
   "source": [
    "## 4. Observe that the payoff of a put option for the variable:\n",
    "\n",
    "$S_T = \\ln(\\frac{S_T}{K})$ is $p(s)=K(1−e^s)I_{s≤0}$. \n",
    "\n",
    "This means that our $\\upsilon_n$ co-efficients in the COS method become:\n",
    " \n",
    "$$ \\upsilon_n = \\frac{2}{b_2 - b_1} \\int_{b_1}^{0} K(1-e^s) cos(n \\pi \\frac{s-a}{b-a})$$\n",
    "\n",
    "$$ = \\frac{2}{b_2 - b_1} K (\\psi_n(b_1, 0) - \\gamma_n (b_1, 0)$$\n",
    "\n",
    "Using this information, use the COS method to price a European put option using the given parameters. Calculate put prices for increasing upper limits on the COS method sum. Plot your results against the analytical put price. (20% of total points)"
   ]
  },
  {
   "cell_type": "code",
   "execution_count": 23,
   "metadata": {},
   "outputs": [],
   "source": [
    "# general functions for valuations\n",
    "def upsilon_n(b2, b1, d, c, n):\n",
    "    npi_d = np.pi*n*(d-b1)/(b2-b1)\n",
    "    npi_c = np.pi*n*(c-b1)/(b2-b1)\n",
    "    val_one = (np.cos(npi_d)*np.exp(d)-np.cos(npi_c)*np.exp(c))\n",
    "    val_two = (n*np.pi*(np.sin(npi_d)*np.exp(d)-np.sin(npi_c)*np.exp(c))/(b2-b1))\n",
    "    return (val_one + val_two)/(1 + (n*np.pi/(b2-b1))**2)\n",
    "\n",
    "def psi_n(b2, b1, d, c, n):\n",
    "    if n == 0:\n",
    "        return d-c\n",
    "    else:\n",
    "        return (b2-b1)*(np.sin(n*np.pi*(d-b1)/(b2-b1)) - np.sin(n*np.pi*(c-b1)/(b2-b1)))/(n*np.pi)"
   ]
  },
  {
   "cell_type": "code",
   "execution_count": 28,
   "metadata": {},
   "outputs": [],
   "source": [
    "# function for put valuation\n",
    "def v_n(K, b2, b1, n):\n",
    "    return 2*K*(psi_n(b2, b1, 0, b1, n) - upsilon_n(b2, b1, 0, b1, n))/(b2 - b1)\n",
    "\n",
    "# phi_ST\n",
    "def logchar_func(u, S0, r, sigma, K, T):\n",
    "    return np.exp(1j*u*(np.log(S0/K) + (r-sigma**2/2)*T) - (sigma**2)*T*(u**2)/2)\n",
    "\n",
    "def put_price(N, S0, sigma, r, K, T, b2, b1):\n",
    "    price = v_n(K, b2, b1, 0)*logchar_func(0, S0, r, sigma, K, T)/2\n",
    "    for n in range(1,N):\n",
    "        price = price + logchar_func(n*np.pi/(b2-b1), S0, r, sigma, K, T)*np.exp(-1j*n*np.pi*b1/(b2-b1))*v_n(K, b2, b1, n)\n",
    "    return price.real*np.exp(-r*T)"
   ]
  },
  {
   "cell_type": "code",
   "execution_count": 29,
   "metadata": {},
   "outputs": [],
   "source": [
    "# b1, b2 for the call option\n",
    "c1 = r\n",
    "c2 = T*sigma**2\n",
    "c4 = 0\n",
    "L = 10\n",
    "\n",
    "b1 = c1 - L*np.sqrt(c2 - np.sqrt(c4))\n",
    "b2 = c1 + L*np.sqrt(c2 - np.sqrt(c4))"
   ]
  },
  {
   "cell_type": "code",
   "execution_count": 30,
   "metadata": {},
   "outputs": [],
   "source": [
    "# Calculating COS for various N\n",
    "COS_putprice = [None]*50\n",
    "\n",
    "for i in range(1,51):\n",
    "    COS_putprice[i-1] = put_price(i, S0, sigma, r, K, T, b2, b1)"
   ]
  },
  {
   "cell_type": "code",
   "execution_count": 31,
   "metadata": {},
   "outputs": [
    {
     "data": {
      "image/png": "[encoded data removed]",
      "text/plain": [
       "<Figure size 432x288 with 1 Axes>"
      ]
     },
     "metadata": {
      "needs_background": "light"
     },
     "output_type": "display_data"
    }
   ],
   "source": [
    "# plotting the results\n",
    "plt.plot(COS_putprice)\n",
    "plt.plot([analytic_putprice]*50)\n",
    "plt.xlabel(\"N\")\n",
    "plt.ylabel(\"Put Price\")\n",
    "plt.show()"
   ]
  },
  {
   "cell_type": "markdown",
   "metadata": {},
   "source": [
    "## 5. Use the fast Fourier transform (FFT) to price a European put option with the given parameters. \n",
    "\n",
    "You will have to price your put option for a range of strikes. Note that the only difference when applying the FFT to a put, when compared to a call, is that your value for α must be less than -1. \n",
    "\n",
    "Use a sequence length for your \n",
    "\n",
    "$x_n$ of N = 210\n",
    "\n",
    "\n",
    "$\\delta_u$ = 0.25. \n",
    "\n",
    "Plot the estimated put prices against the analytical put prices (across the range of strikes). (20% of total points)"
   ]
  },
  {
   "cell_type": "code",
   "execution_count": 32,
   "metadata": {},
   "outputs": [],
   "source": [
    "# Algorithm info \n",
    "N = 210\n",
    "delta = 0.25\n",
    "alpha = -1.5"
   ]
  },
  {
   "cell_type": "code",
   "execution_count": 33,
   "metadata": {},
   "outputs": [],
   "source": [
    "# evaluates the characterstic function of ST (log(ST))\n",
    "def log_char(u):\n",
    "    return np.exp(1j*u*(np.log(S0) + (r-sigma**2/2)*T)-sigma**2*T*u**2/2)\n",
    "\n",
    "# determines c(hat)T(u)\n",
    "def c_func(v):\n",
    "    val1 = np.exp(-r*T)*log_char(v-(alpha+1)*1j)\n",
    "    val2 = alpha**2+alpha-v**2+1j*(2*alpha+1)*v\n",
    "    return val1/val2"
   ]
  },
  {
   "cell_type": "code",
   "execution_count": 34,
   "metadata": {},
   "outputs": [],
   "source": [
    "# is the set [0, 1, ..., N-1]\n",
    "n = np.array(range(N))\n",
    "\n",
    "# is used to find b, the upper bound of the strike segmentation interval\n",
    "delta_k = 2*np.pi/(N*delta)\n",
    "b = delta_k*(N-1)/2\n",
    "\n",
    "log_strike = np.linspace(-b,b,N)"
   ]
  },
  {
   "cell_type": "code",
   "execution_count": 36,
   "metadata": {},
   "outputs": [],
   "source": [
    "x = np.exp(1j*b*n*delta)*c_func(n*delta)*delta\n",
    "x[0] = x[0]*0.5\n",
    "x[-1] = x[-1]*0.5\n",
    "\n",
    "xhat = np.fft.fft(x).real\n",
    "\n",
    "fft_put = np.exp(-alpha*log_strike)*xhat/np.pi"
   ]
  },
  {
   "cell_type": "markdown",
   "metadata": {},
   "source": [
    "## Additional Questions"
   ]
  },
  {
   "cell_type": "markdown",
   "metadata": {},
   "source": [
    "### 6.  Of the 3 methods, which is numerically the most accurate when near the money?\n",
    "     (5% of total points)\n"
   ]
  },
  {
   "cell_type": "markdown",
   "metadata": {},
   "source": [
    "The COS method is the most occurate when near the money, however, it has some issues for extreme moneyness."
   ]
  },
  {
   "cell_type": "markdown",
   "metadata": {},
   "source": [
    "### 7. Do the methods still work well when the option price is far from the money? ( Hint: Think of the volatility smile)\n",
    "    (5% of total points)\n"
   ]
  },
  {
   "cell_type": "markdown",
   "metadata": {},
   "source": [
    "They do not hold well as the Fourier methods look at the convergence of the estimates to the option price. Given that deep out of the money options is an example of extreme moneyness, these methods do not hold well."
   ]
  },
  {
   "cell_type": "markdown",
   "metadata": {},
   "source": [
    "### 8. Suppose the option had American exercise instead of European:\n",
    "\n",
    "       a. Does the closed-form analytical Black-Scholes formula still work?\n",
    "       b. Would a Fast Fourier Transform method still work?\n",
    "\n",
    "     (5% of total points)\n",
    "\n"
   ]
  },
  {
   "cell_type": "markdown",
   "metadata": {},
   "source": [
    "The closed form analytical model under Black-Scholes formula for American options would not work. The classic studied FFT woudl not work however a non-finite-difference-based method of American option pricing under stochastic volatility could work by extending the Geske-Johnson compound option scheme."
   ]
  },
  {
   "cell_type": "markdown",
   "metadata": {},
   "source": [
    "### 9. When would we use Monte Carlo simulation methods?\n",
    "    (5% of total points)\n",
    "\n"
   ]
  },
  {
   "cell_type": "markdown",
   "metadata": {},
   "source": [
    "It is used value and analyze (complex) instruments, portfolios and investments by simulating the various sources of uncertainty affecting their value, and then determining the distribution of their value over the range of resultant outcomes.\n",
    "\n",
    "The advantage of Monte Carlo is its ability to factor in a range of values for various inputs; this is also its greatest disadvantage in the sense that assumptions need to be fair because the output is only as good as the inputs."
   ]
  },
  {
   "cell_type": "markdown",
   "metadata": {},
   "source": [
    "### 10. What is the best way to use Monte Carlo simulation on an exotic option?\n",
    "     (5% of total points)\n",
    "\n"
   ]
  },
  {
   "cell_type": "markdown",
   "metadata": {},
   "source": [
    "The best way to use Monte Carlo simulation on an exotic option is when there exists no closed-form solution to its pricing."
   ]
  }
 ],
 "metadata": {
  "kernelspec": {
   "display_name": "Python 3",
   "language": "python",
   "name": "python3"
  },
  "language_info": {
   "codemirror_mode": {
    "name": "ipython",
    "version": 3
   },
   "file_extension": ".py",
   "mimetype": "text/x-python",
   "name": "python",
   "nbconvert_exporter": "python",
   "pygments_lexer": "ipython3",
   "version": "3.7.3"
  }
 },
 "nbformat": 4,
 "nbformat_minor": 2
}
