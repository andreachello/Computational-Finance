{
 "cells": [
  {
   "cell_type": "markdown",
   "metadata": {},
   "source": [
    "# Fourier Methods for Option Pricing"
   ]
  },
  {
   "cell_type": "markdown",
   "metadata": {},
   "source": [
    "We will be pricing a Vanilla Europan Call option on a single stock under the following conditions:\n",
    "\n",
    "- Continuously-compounded interest rate, r = 6%\n",
    "\n",
    "\n",
    "- Initial stock price, $S_0$ of $100\n",
    "\n",
    "\n",
    "- Stock volatility, $\\sigma$, 30%\n",
    "\n",
    "\n",
    "- Strike price, K of $100\n",
    "\n",
    "\n",
    "- Maturity time, T, of one year"
   ]
  },
  {
   "cell_type": "code",
   "execution_count": 1,
   "metadata": {},
   "outputs": [],
   "source": [
    "import numpy as np\n",
    "from scipy.stats import norm\n",
    "import matplotlib.pyplot as plt\n",
    "\n",
    "# share specific information\n",
    "r = 0.06\n",
    "S0 = 100\n",
    "sigma = 0.3\n",
    "\n",
    "# call option specific information\n",
    "K = 110\n",
    "T = 1\n",
    "k_log = np.log(K)"
   ]
  },
  {
   "cell_type": "markdown",
   "metadata": {},
   "source": [
    "### Analytical Price of the Option\n",
    "\n",
    "We first use our closed-form solution to calculate the analytical price of the option"
   ]
  },
  {
   "cell_type": "code",
   "execution_count": 2,
   "metadata": {},
   "outputs": [
    {
     "data": {
      "text/plain": [
       "10.424100458714285"
      ]
     },
     "execution_count": 2,
     "metadata": {},
     "output_type": "execute_result"
    }
   ],
   "source": [
    "# code for the analytical solution for vanilla European call option pricing\n",
    "d1_stock = (np.log(S0/K) + (r + sigma**2/2)*T)/(sigma*np.sqrt(T))\n",
    "d2_stock = d1_stock - sigma*np.sqrt(T)\n",
    "\n",
    "analytic_callprice = S0*norm.cdf(d1_stock) - K*np.exp(-r*T)*norm.cdf(d2_stock) \n",
    "analytic_callprice"
   ]
  },
  {
   "cell_type": "markdown",
   "metadata": {},
   "source": [
    "# 1. Fourier Transforms and Characteristic Functions"
   ]
  },
  {
   "cell_type": "markdown",
   "metadata": {},
   "source": [
    "Under fourier transforms the formula for the price of the call option is given by:\n",
    "\n",
    "$$ c = S_0(\\frac{1}{2} + \\frac{1}{\\pi} \\int_0^{\\infty}\\frac{Im[e^{-it \\ln K}\\varphi_{M_2}(t)]}{t}dt) -e^{-rT}K(\\frac{1}{2} + \\frac{1}{\\pi} \\int_0^{\\infty}\\frac{Im[e^{-it \\ln K}\\varphi_{M_1}(t)]}{t}dt)$$\n",
    "\n",
    "$$  $$"
   ]
  },
  {
   "cell_type": "markdown",
   "metadata": {},
   "source": [
    "Where, \n",
    "\n",
    "$$ \\varphi_{M_1}(t) = e^{(it(\\ln S_0 + (r-\\frac{\\sigma^2}{2})T)-\\frac{1}{2} \\sigma^2 T t^2)} $$\n",
    "$$ \\varphi_{M_2}(t) = e^{it \\sigma^2 T} \\varphi_{M_1}(t)$$"
   ]
  },
  {
   "cell_type": "code",
   "execution_count": 3,
   "metadata": {},
   "outputs": [],
   "source": [
    "# Characteristic functions where 1j is used to create the imaginary number i\n",
    "def c_M1(t):\n",
    "    return np.exp(1j*t*(np.log(S0)+(r-sigma**2/2)*T) - (sigma**2)*T*(t**2)/2)\n",
    "\n",
    "def c_M2(t):\n",
    "    return np.exp(1j*t*sigma**2*T)*c_M1(t)"
   ]
  },
  {
   "cell_type": "markdown",
   "metadata": {},
   "source": [
    "### Evaluating the Integrals through Approximation of Areas of Rectangles\n",
    "\n",
    "$$\\int_0^{\\infty}\\frac{Im[e^{-it \\ln K}\\varphi_{M_2}(t)]}{t}dt \\approx \\int_0^{t_{max}}\\frac{Im[e^{-it \\ln K}\\varphi_{M_2}(t)]}{t}dt \\approx \\Sigma_{n=1}^N \\frac{Im[e^{-it_n \\ln K}\\varphi_{M_2}(t)]}{t_n} \\Delta t$$"
   ]
  },
  {
   "cell_type": "markdown",
   "metadata": {},
   "source": [
    "Where,\n",
    "\n",
    "$t_{max}$ is some sufficiently large number\n",
    "\n",
    "$N$ is an integer\n",
    "\n",
    "$\\Delta t = \\frac{t_{max}}{N}$\n",
    "\n",
    "$t_n = (n - \\frac{1}{2})\\Delta t$ "
   ]
  },
  {
   "cell_type": "markdown",
   "metadata": {},
   "source": [
    "So we are splitting the region we are integrating over into N parts and then calculating the sum of the areas of the rectagles made from the function in the integral.\n",
    "\n",
    "#### Steps:\n",
    "\n",
    "Choose a $t_{max}$ and $N$ and then calculate $\\Delta t$ and create an array for $t_n$"
   ]
  },
  {
   "cell_type": "code",
   "execution_count": 7,
   "metadata": {},
   "outputs": [],
   "source": [
    "# Choosing t_max and N\n",
    "t_max = 20\n",
    "N = 100\n",
    "\n",
    "# Calculating delta and constructing t_n\n",
    "delta_t = t_max/N\n",
    "from_1_to_N = np.linspace(1, N, N)\n",
    "t_n = (from_1_to_N - 1/2)*delta_t"
   ]
  },
  {
   "cell_type": "code",
   "execution_count": 8,
   "metadata": {},
   "outputs": [],
   "source": [
    "# Approximate integral estimates (use .imag to find the imaginary part of a complex number)\n",
    "first_integral = sum((((np.exp(-1j*t_n*k_log)*c_M2(t_n)).imag)/t_n)*delta_t)\n",
    "second_integral = sum((((np.exp(-1j*t_n*k_log)*c_M1(t_n)).imag)/t_n)*delta_t)"
   ]
  },
  {
   "cell_type": "code",
   "execution_count": 11,
   "metadata": {},
   "outputs": [
    {
     "data": {
      "text/plain": [
       "10.424100443080057"
      ]
     },
     "execution_count": 11,
     "metadata": {},
     "output_type": "execute_result"
    }
   ],
   "source": [
    "# Fourier Call Value\n",
    "fourier_call_val = S0*(1/2 + first_integral/np.pi) - np.exp(-r*T)*K*(1/2 + second_integral/np.pi)\n",
    "fourier_call_val"
   ]
  },
  {
   "cell_type": "markdown",
   "metadata": {},
   "source": [
    "# 2. Fourier-Cosine Series Expansion"
   ]
  },
  {
   "cell_type": "markdown",
   "metadata": {},
   "source": [
    "$$ \\upsilon_n (c,d) = \\frac{cos(n \\pi \\frac{d-b_1}{b_2 - b_1} ) e^d - cos(n \\pi \\frac{c-b_1}{b_2 - b_1} ) e^c + \\frac{n \\pi}{b_2 - b_1}(sin(n \\pi \\frac{d-b_1}{b_2 - b_1} ) e^d - sin(n \\pi \\frac{c-b_1}{b_2 - b_1} ) e^c)}{1 + (\\frac{n \\pi}{b_2 - b_1})^2}$$\n",
    "\n",
    "$$ \\psi_n (c,d) = \\begin{cases}\n",
    "               \\frac{b_2 - b_1}{n \\pi}[sin(n \\pi \\frac{d - b_1}{b_2 - b_1}) - sin(n\\pi \\frac{c - b_1}{b_2 - b_1})] \\text{ when n != 0}\\\\\n",
    "                d-c \\text{ when n = 0}\\\\\n",
    "            \\end{cases} $$"
   ]
  },
  {
   "cell_type": "code",
   "execution_count": 40,
   "metadata": {},
   "outputs": [],
   "source": [
    "# general functions for valuations\n",
    "def upsilon_n(b2, b1, d, c, n):\n",
    "    npi_d = np.pi*n*(d-b1)/(b2-b1)\n",
    "    npi_c = np.pi*n*(c-b1)/(b2-b1)\n",
    "    val_one = (np.cos(npi_d)*np.exp(d)-np.cos(npi_c)*np.exp(c))\n",
    "    val_two = (n*np.pi*(np.sin(npi_d)*np.exp(d)-np.sin(npi_c)*np.exp(c))/(b2-b1))\n",
    "    return (val_one + val_two)/(1 + (n*np.pi/(b2-b1))**2)\n",
    "\n",
    "def psi_n(b2, b1, d, c, n):\n",
    "    if n == 0:\n",
    "        return d-c\n",
    "    else:\n",
    "        return (b2-b1)*(np.sin(n*np.pi*(d-b1)/(b2-b1)) - np.sin(n*np.pi*(c-b1)/(b2-b1)))/(n*np.pi)"
   ]
  },
  {
   "cell_type": "markdown",
   "metadata": {},
   "source": [
    "### Pricing the Call under Fourier-Cosine\n",
    "\n",
    "Under the transformation $S_T = \\ln \\frac{S_T}{K}$:\n",
    "\n",
    "$$ c \\approx e^{-rT}(\\frac{\\upsilon_0 \\phi_{S_T}(0)}{2} + \\Sigma_{n=1}^{N-1}Re(\\phi_{S_T}(\\frac{n \\pi}{b_2 - b_1})e^{-in \\pi \\frac{b_1}{b_2 - b_1}})\\upsilon_n)$$"
   ]
  },
  {
   "cell_type": "markdown",
   "metadata": {},
   "source": [
    "Where $\\phi_{S_T}()$ is the characteristic function of $S_T$ and:\n",
    "\n",
    "$$ \\upsilon_n = \\frac{2}{b_2 - b_1}K(\\nu_n(0,b_2) - \\psi_n(0,b_2))$$"
   ]
  },
  {
   "cell_type": "code",
   "execution_count": 45,
   "metadata": {},
   "outputs": [],
   "source": [
    "# function for call valuation\n",
    "def v_n(K, b2, b1, n):\n",
    "    return 2*K*(upsilon_n(b2, b1, b2, 0, n) - psi_n(b2, b1, b2, 0, n))/(b2 - b1)\n",
    "\n",
    "# phi_ST\n",
    "def logchar_func(u, S0, r, sigma, K, T):\n",
    "    return np.exp(1j*u*(np.log(S0/K) + (r-sigma**2/2)*T) - (sigma**2)*T*(u**2)/2)\n",
    "\n",
    "def call_price(N, S0, sigma, r, K, T, b2, b1):\n",
    "    price = v_n(K, b2, b1, 0)*logchar_func(0, S0, r, sigma, K, T)/2\n",
    "    for n in range(1,N):\n",
    "        price = price + logchar_func(n*np.pi/(b2-b1), S0, r, sigma, K, T)*np.exp(-1j*n*np.pi*b1/(b2-b1))*v_n(K, b2, b1, n)\n",
    "    return price.real*np.exp(-r*T)"
   ]
  },
  {
   "cell_type": "markdown",
   "metadata": {},
   "source": [
    "#### Choose our b1 and b2\n",
    "\n",
    "$$b_1 = c_1 - L \\sqrt{c_2 + \\sqrt{c_4}}$$\n",
    "\n",
    "$$b_2= c_1 + L \\sqrt{c_2 + \\sqrt{c_4}}$$\n",
    "\n",
    "with,\n",
    "\n",
    "$L = 10$\n",
    "\n",
    "$c_1 = \\mu T$\n",
    "\n",
    "$c_2 = \\sigma_{S_T}T$\n",
    "\n",
    "$c_4 = 0$\n",
    "\n",
    "Which in this case:\n",
    "\n",
    "$$c_1 = \\ln \\frac{S_T}{K} + (r - \\frac{\\sigma^2}{2})$$\n",
    "$$c_2 = \\sigma^2 T$$"
   ]
  },
  {
   "cell_type": "code",
   "execution_count": 46,
   "metadata": {},
   "outputs": [],
   "source": [
    "# b1, b2 for the call option\n",
    "c1 = r\n",
    "c2 = T*sigma**2\n",
    "c4 = 0\n",
    "L = 10\n",
    "\n",
    "b1 = c1 - L*np.sqrt(c2 - np.sqrt(c4))\n",
    "b2 = c1 + L*np.sqrt(c2 - np.sqrt(c4))"
   ]
  },
  {
   "cell_type": "markdown",
   "metadata": {},
   "source": [
    "We can now implement the COS pricing method of N - from N = 1 to N = 50\n",
    "This array captures the price of our call for the different values of N (an increasing N improves our estimates)"
   ]
  },
  {
   "cell_type": "code",
   "execution_count": 47,
   "metadata": {},
   "outputs": [],
   "source": [
    "# Calculating COS for various N\n",
    "COS_callprice = [None]*50\n",
    "\n",
    "for i in range(1,51):\n",
    "    COS_callprice[i-1] = call_price(i, S0, sigma, r, K, T, b2, b1)"
   ]
  },
  {
   "cell_type": "code",
   "execution_count": 48,
   "metadata": {},
   "outputs": [
    {
     "data": {
      "image/png": "[encoded data removed]",
      "text/plain": [
       "<Figure size 432x288 with 1 Axes>"
      ]
     },
     "metadata": {
      "needs_background": "light"
     },
     "output_type": "display_data"
    }
   ],
   "source": [
    "# plotting the results\n",
    "plt.plot(COS_callprice)\n",
    "plt.plot([analytic_callprice]*50)\n",
    "plt.xlabel(\"N\")\n",
    "plt.ylabel(\"Call Price\")\n",
    "plt.show()"
   ]
  },
  {
   "cell_type": "markdown",
   "metadata": {},
   "source": [
    "We can also plot the figure to show how the COS estimate converges as follows:\n",
    "\n",
    "The log error grows small quickly demonstrating the fast convergence the COS estimates exhibit."
   ]
  },
  {
   "cell_type": "code",
   "execution_count": 50,
   "metadata": {},
   "outputs": [
    {
     "data": {
      "image/png": "[encoded data removed]",
      "text/plain": [
       "<Figure size 432x288 with 1 Axes>"
      ]
     },
     "metadata": {
      "needs_background": "light"
     },
     "output_type": "display_data"
    }
   ],
   "source": [
    "# plotting the log absolute error\n",
    "plt.plot(np.log(np.absolute(COS_callprice - analytic_callprice)))\n",
    "plt.xlabel(\"N\")\n",
    "plt.ylabel(\"Log absolute error\")\n",
    "plt.title(\"COS Call Estimates for Different N\")\n",
    "plt.show()"
   ]
  },
  {
   "cell_type": "markdown",
   "metadata": {},
   "source": [
    "# 3. The Fast Fourier Transform"
   ]
  },
  {
   "cell_type": "markdown",
   "metadata": {},
   "source": [
    "The FFT is able to evaluate functions very quickly.\n",
    "\n",
    "**Usage:**\n",
    "\n",
    "- **Arbitrage:** \n",
    "\n",
    "If, for example, you spot an arbitrage in a market: the person who can evaluate their expected price and spot an arbitrage fastest, will be able to make most use of the arbitrage.\n",
    "\n",
    "- **Calibration:**\n",
    "\n",
    "We will essentially be guessing the values for our parameters, so methods that allow for efficient evaluation of the function (with these parameter guesses) will allow for us to efficiently calibrate our model.\n"
   ]
  },
  {
   "cell_type": "markdown",
   "metadata": {},
   "source": [
    "## Discrete Fourier Tranform\n",
    "\n",
    "The DFT is a transformation which is particularly suited for efficient calculations (it is a clever application of the DFT that makes FFT so fast).\n",
    "\n",
    "We can define our DFT in the following way:\n",
    "\n",
    "Suppose we have a sequence of numbers $x_0, x_1, ..., X_{N-1}$ then we can convert this sequence into a new sequence via the following transformation.\n",
    "\n",
    "$$X_K = \\Sigma_{n=0}^{N-1} x_n e^{-\\frac{2i \\pi}{N}kn}$$"
   ]
  },
  {
   "cell_type": "markdown",
   "metadata": {},
   "source": [
    "## The Mathematics for Cooley and Tukey's Algorithm\n",
    "\n",
    "The FFT in question takes the DFT and applies it in a \"smarter\" way. This particular example applies a divide and conquer approach to recursively breakdown the DFT into smaller and more manageable pieces."
   ]
  },
  {
   "cell_type": "markdown",
   "metadata": {},
   "source": [
    "$$ X_K = \\Sigma_{n=0}^{\\frac{N}{2} - 1} x_{2n} e^{-\\frac{2 i \\pi}{N}k2n} + \\Sigma_{n=0}^{\\frac{N}{2} - 1} x_{2n+1} e^{-\\frac{2 i \\pi}{N}k(2n+1)} $$"
   ]
  },
  {
   "cell_type": "markdown",
   "metadata": {},
   "source": [
    "$$ = \\Sigma_{n=0}^{\\frac{N}{2} - 1} x_{2n} e^{-\\frac{2 i \\pi}{N}k2n} + e^{-\\frac{2 i \\pi}{N}k }\\Sigma_{n=0}^{\\frac{N}{2} - 1} x_{2n} e^{-\\frac{2 i \\pi}{N}k2n} $$"
   ]
  },
  {
   "cell_type": "markdown",
   "metadata": {},
   "source": [
    "$$ = E_k + e^{-\\frac{2 i \\pi}{N}k2n} O_k$$"
   ]
  },
  {
   "cell_type": "markdown",
   "metadata": {},
   "source": [
    "Where $E_k$ denotes the DFT of even-indexed terms and $O_k$ denotes the DFT of odd-indexed terms.\n",
    "\n",
    "**N.B.** complex exponentials are period\n",
    "\n",
    "We can conclude that:\n",
    "\n",
    "$$ e^{-\\frac{2 i \\pi}{N}k} = e^{-\\frac{2 i \\pi}{N}(k + \\frac{N}{2})} $$\n",
    "\n",
    "$$ E_k = E_{k+\\frac{n}{2}}$$\n",
    "\n",
    "$$ O_k = O_{k+\\frac{n}{2}} $$\n",
    "\n",
    "$$ X_{k+\\frac{N}{2}} = E_k - e^{-\\frac{2 i \\pi}{N}k}O_k $$"
   ]
  },
  {
   "cell_type": "markdown",
   "metadata": {},
   "source": [
    "The function is recursive as it keeps calling itself until the initial input vector has been partitioned to a single element.\n",
    "\n",
    "x is a sequence of numbers."
   ]
  },
  {
   "cell_type": "code",
   "execution_count": 59,
   "metadata": {},
   "outputs": [],
   "source": [
    "def fft(x):\n",
    "    N = len(x)\n",
    "    if N == 1:\n",
    "        return x\n",
    "    else:\n",
    "        # even\n",
    "        ek = fft(x[:-1:2])\n",
    "        # odd\n",
    "        ok = fft(x[1::2])\n",
    "        m = np.array(range(int(N/2)))\n",
    "        okm = ok*np.exp(-1j*2*np.pi*m/N)\n",
    "        return np.concatenate((ek+okm, ek-okm))"
   ]
  },
  {
   "cell_type": "code",
   "execution_count": null,
   "metadata": {},
   "outputs": [],
   "source": [
    "# numpy package\n",
    "np.fft.fft(x)"
   ]
  },
  {
   "cell_type": "markdown",
   "metadata": {},
   "source": [
    "## Pricing using the FFT"
   ]
  },
  {
   "cell_type": "markdown",
   "metadata": {},
   "source": [
    "We will price the same vanilla option we have been pricing throughout this notebook.\n",
    "\n",
    "Let us define:\n",
    "\n",
    "$k := \\ln(K)$\n",
    "\n",
    "$s_t := \\ln(S_t)$\n",
    "\n",
    "$q_{S_T}(s)$ to be the density of $S_T$\n",
    "\n",
    "$C_T (k)$ to be the price of a call option with strike $e^k$ and maturity T"
   ]
  },
  {
   "cell_type": "markdown",
   "metadata": {},
   "source": [
    "$$ C_T(k) = e^{-rT} \\int_k^{\\infty} (e^s - e^k)q_{S_T}(s) ds $$"
   ]
  },
  {
   "cell_type": "markdown",
   "metadata": {},
   "source": [
    "This function is not strictly integrable so we need to introduce a **dampening factor** which controls the behavior of our integral for extreme values:\n",
    "\n",
    "$$ c_T(k) := e^{\\alpha k} C_T(k) $$\n",
    "\n",
    "We can look at the **Fourier Transform** of this function:\n",
    "\n",
    "$$ \\hat{c_T}(k) = \\int_{- \\infty}^{\\infty} e^{iuk} c_T(k) dk $$"
   ]
  },
  {
   "cell_type": "markdown",
   "metadata": {},
   "source": [
    "**Using the Inverse Transform** we can rewrite C as:\n",
    "\n",
    "$$ C_T(k) = \\frac{e^{- \\alpha k}}{2 \\pi} \\int_{-\\infty}^{\\infty} e^{-iuk} \\hat{c_T}(u) du$$\n",
    "\n",
    "$$ = \\frac{e^{- \\alpha k}}{\\pi} \\int_{0}^{\\infty} e^{-iuk} \\hat{c_T}(u) du$$"
   ]
  },
  {
   "cell_type": "markdown",
   "metadata": {},
   "source": [
    "We use a lower bound of zero as the call price is strictly real, so when considering Euler's formula, the remaining function is an even function.\n",
    "\n",
    "We can now calculate $\\hat{c_T}(u)$ by subsituting out expression for $c_T(k)$ and $C_T(k)$ as:"
   ]
  },
  {
   "cell_type": "markdown",
   "metadata": {},
   "source": [
    "$$ \\hat{c_T}(u) = \\int_{-\\infty}^{\\infty} e^{iuk} e^{-rT} e^{\\alpha k} \\int_{k}^{\\infty}(e^s - e^k)q_{S_T}(s) dsdk $$"
   ]
  },
  {
   "cell_type": "markdown",
   "metadata": {},
   "source": [
    "$$ = \\int_{-\\infty}^{\\infty}e^{rT}q_{S_T}(s) \\int_{-\\infty}^{s} e^{\\alpha k} (e^s - e^k) dkds $$"
   ]
  },
  {
   "cell_type": "markdown",
   "metadata": {},
   "source": [
    "$$ = \\frac{e^{-rT}\\phi_{S_T}(u - (\\alpha + 1)i)}{\\alpha^2 + \\alpha - u^2 + i(2 \\alpha + 1) u} $$"
   ]
  },
  {
   "cell_type": "markdown",
   "metadata": {},
   "source": [
    "**Problems to be solved:**\n",
    "\n",
    "- Handling the upper bound of the integral for the call price\n",
    "\n",
    "Solved by placing an upper bound on the intergral(a sufficiently large N(\n",
    "\n",
    "- We do not have a solution to the integral\n",
    "\n",
    "Solved by estimating the integral through a simple quadrature approach:\n",
    "\n",
    "Let $\\delta_u$ be the step length (some small value)"
   ]
  },
  {
   "cell_type": "markdown",
   "metadata": {},
   "source": [
    "$$ C_T(k) \\approx \\frac{e^{- \\alpha k}}{\\pi}(\\Sigma_{n=0}^{N-1} e^{in \\delta_u k}\\hat{c_T}(n\\delta_u)\\delta_u) $$"
   ]
  },
  {
   "cell_type": "markdown",
   "metadata": {},
   "source": [
    "Suppose we evaluate the call function for log-strike values over the interval $[-b, b]$.\n",
    "\n",
    "We define a step length for the log-strike such that:\n",
    "\n",
    "$$k_m = -b + \\delta_k m$$"
   ]
  },
  {
   "cell_type": "markdown",
   "metadata": {},
   "source": [
    "If we restrict our value for $\\delta_k$ so that the following is satisfied:\n",
    "\n",
    "$$ \\delta_u \\delta_k = \\frac{2 \\pi}{N} $$\n",
    "\n",
    "Then we can re-write our call price as:"
   ]
  },
  {
   "cell_type": "markdown",
   "metadata": {},
   "source": [
    "$$ C_T(k_m) \\approx \\frac{e^{- \\alpha k_m}}{\\pi}(\\Sigma_{n=0}^{N-1} e^{-i \\frac{2 \\pi}{N}nm}x_n) $$\n",
    "\n",
    "Where:\n",
    "\n",
    "$x_n = e^{in \\delta_u k}\\hat{c_T}(n\\delta_u)\\delta_u$"
   ]
  },
  {
   "cell_type": "markdown",
   "metadata": {},
   "source": [
    "**Writing the function as a function of an FFT generated variable:**\n",
    "\n",
    "$$ C_T(k_m) \\approx \\frac{e^{-\\alpha k_m}}{\\pi}Re(X_m) $$\n",
    "\n",
    "In applying this approximation we need to use a qudrature scheme that is more precise than simple quadrature. Generally the trapezoidal approximation is a better approach."
   ]
  },
  {
   "cell_type": "code",
   "execution_count": 54,
   "metadata": {},
   "outputs": [],
   "source": [
    "# share info\n",
    "S0 = 100\n",
    "sigma = 0.3\n",
    "T = 1\n",
    "r = 0.06\n",
    "\n",
    "# Algorithm info \n",
    "N = 2**10\n",
    "delta = 0.25\n",
    "alpha = 1.5"
   ]
  },
  {
   "cell_type": "code",
   "execution_count": 55,
   "metadata": {},
   "outputs": [],
   "source": [
    "import numpy as np\n",
    "from scipy.stats import norm\n",
    "import matplotlib.pyplot as plt"
   ]
  },
  {
   "cell_type": "markdown",
   "metadata": {},
   "source": [
    "We need to define the two function thaat we will use to calculate the call price:"
   ]
  },
  {
   "cell_type": "code",
   "execution_count": 56,
   "metadata": {},
   "outputs": [],
   "source": [
    "# evaluates the characterstic function of ST (log(ST))\n",
    "def log_char(u):\n",
    "    return np.exp(1j*u*(np.log(S0) + (r-sigma**2/2)*T)-sigma**2*T*u**2/2)\n",
    "\n",
    "# determines c(hat)T(u)\n",
    "def c_func(v):\n",
    "    val1 = np.exp(-r*T)*log_char(v-(alpha+1)*1j)\n",
    "    val2 = alpha**2+alpha-v**2+1j*(2*alpha+1)*v\n",
    "    return val1/val2"
   ]
  },
  {
   "cell_type": "markdown",
   "metadata": {},
   "source": [
    "We now create a few variables that we are going to use to vectorize the pricing function:"
   ]
  },
  {
   "cell_type": "code",
   "execution_count": 57,
   "metadata": {},
   "outputs": [],
   "source": [
    "# is the set [0, 1, ..., N-1]\n",
    "n = np.array(range(N))\n",
    "\n",
    "# is used to find b, the upper bound of the strike segmentation interval\n",
    "delta_k = 2*np.pi/(N*delta)\n",
    "b = delta_k*(N-1)/2\n",
    "\n",
    "log_strike = np.linspace(-b,b,N)"
   ]
  },
  {
   "cell_type": "markdown",
   "metadata": {},
   "source": [
    "Caclculate FFT on $x_n$"
   ]
  },
  {
   "cell_type": "code",
   "execution_count": 60,
   "metadata": {},
   "outputs": [],
   "source": [
    "x = np.exp(1j*b*n*delta)*c_func(n*delta)*delta\n",
    "x[0] = x[0]*0.5\n",
    "x[-1] = x[-1]*0.5\n",
    "\n",
    "xhat = fft(x).real\n",
    "\n",
    "fft_call = np.exp(-alpha*log_strike)*xhat/np.pi"
   ]
  },
  {
   "cell_type": "markdown",
   "metadata": {},
   "source": [
    "fft_call gives us a vector of call prices over different strike values\n",
    "\n",
    "**Final Step**\n",
    "\n",
    "is to calclate the Black-Scholes prices for our range of strikes (so as to compare with estimates)"
   ]
  },
  {
   "cell_type": "code",
   "execution_count": 61,
   "metadata": {},
   "outputs": [
    {
     "data": {
      "text/plain": [
       "10.424100458714285"
      ]
     },
     "execution_count": 61,
     "metadata": {},
     "output_type": "execute_result"
    }
   ],
   "source": [
    "# Call price\n",
    "d1_stock = (np.log(S0/K) + (r + sigma**2/2)*T)/(sigma*np.sqrt(T))\n",
    "d2_stock = d1_stock - sigma*np.sqrt(T)\n",
    "\n",
    "analytic_callprice = S0*norm.cdf(d1_stock) - K*np.exp(-r*T)*norm.cdf(d2_stock) \n",
    "analytic_callprice"
   ]
  }
 ],
 "metadata": {
  "kernelspec": {
   "display_name": "Python 3",
   "language": "python",
   "name": "python3"
  },
  "language_info": {
   "codemirror_mode": {
    "name": "ipython",
    "version": 3
   },
   "file_extension": ".py",
   "mimetype": "text/x-python",
   "name": "python",
   "nbconvert_exporter": "python",
   "pygments_lexer": "ipython3",
   "version": "3.7.3"
  }
 },
 "nbformat": 4,
 "nbformat_minor": 2
}
